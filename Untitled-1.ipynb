{
 "cells": [
  {
   "cell_type": "code",
   "execution_count": null,
   "metadata": {},
   "outputs": [],
   "source": [
    "%pip install bertopic"
   ]
  },
  {
   "cell_type": "code",
   "execution_count": null,
   "metadata": {},
   "outputs": [],
   "source": [
    "import sqlite3\n",
    "import sys\n",
    "sys.path.insert(0, r\"c:\\\\users\\\\asusa\\\\appdata\\\\roaming\\\\python\\\\python311\\\\site-packages\")\n",
    "\n",
    "#extracting and preparing text from db\n",
    "con = sqlite3.connect(\"database.db\")\n",
    "cur = con.cursor()\n",
    "postsReq = cur.execute(\"SELECT * from reddit_post\")\n",
    "postsRaw=postsReq.fetchall()\n",
    "data = []\n",
    "for x in postsRaw:\n",
    "    data.append(x[2] + '\\n' + x[5])\n",
    "print(data[3])"
   ]
  },
  {
   "cell_type": "code",
   "execution_count": 24,
   "metadata": {},
   "outputs": [
    {
     "name": "stderr",
     "output_type": "stream",
     "text": [
      "Batches: 100%|██████████| 31/31 [00:34<00:00,  1.10s/it]\n",
      "2023-07-25 16:12:11,297 - BERTopic - Transformed documents to Embeddings\n",
      "2023-07-25 16:12:14,315 - BERTopic - Reduced dimensionality\n",
      "2023-07-25 16:12:14,424 - BERTopic - Clustered reduced embeddings\n"
     ]
    }
   ],
   "source": [
    "from bertopic import BERTopic\n",
    "from bertopic.representation import KeyBERTInspired\n",
    "\n",
    "representation_model = KeyBERTInspired()\n",
    "\n",
    "topic_model = BERTopic(language=\"english\", calculate_probabilities=True, verbose=True,representation_model=representation_model)\n",
    "topics, probs = topic_model.fit_transform(data)"
   ]
  },
  {
   "cell_type": "code",
   "execution_count": null,
   "metadata": {},
   "outputs": [],
   "source": [
    "topic_model.visualize_topics()"
   ]
  },
  {
   "cell_type": "code",
   "execution_count": 81,
   "metadata": {},
   "outputs": [
    {
     "ename": "NameError",
     "evalue": "name 'docs' is not defined",
     "output_type": "error",
     "traceback": [
      "\u001b[1;31m---------------------------------------------------------------------------\u001b[0m",
      "\u001b[1;31mNameError\u001b[0m                                 Traceback (most recent call last)",
      "Cell \u001b[1;32mIn[81], line 1\u001b[0m\n\u001b[1;32m----> 1\u001b[0m topics_per_class \u001b[39m=\u001b[39m topic_model\u001b[39m.\u001b[39mtopics_per_class(docs, classes\u001b[39m=\u001b[39mclasses)\n\u001b[0;32m      2\u001b[0m topic_model\u001b[39m.\u001b[39mvisualize_topics_per_class(topics_per_class, top_n_topics\u001b[39m=\u001b[39m\u001b[39m10\u001b[39m)\n",
      "\u001b[1;31mNameError\u001b[0m: name 'docs' is not defined"
     ]
    }
   ],
   "source": [
    "topics_per_class = topic_model.topics_per_class(data, classes=classes)\n",
    "topic_model.visualize_topics_per_class(topics_per_class, top_n_topics=10)"
   ]
  },
  {
   "cell_type": "code",
   "execution_count": null,
   "metadata": {},
   "outputs": [],
   "source": [
    "test = topic_model.get_document_info(data)\n",
    "test[test['Topic'] > 0.9]"
   ]
  },
  {
   "cell_type": "code",
   "execution_count": null,
   "metadata": {},
   "outputs": [],
   "source": [
    "topic_model.topic_labels_"
   ]
  },
  {
   "cell_type": "code",
   "execution_count": null,
   "metadata": {},
   "outputs": [],
   "source": [
    "similarTopics, similarity = topic_model.find_topics(\"art\")\n",
    "test[test['Topic'] == similarTopics[0]]"
   ]
  },
  {
   "cell_type": "code",
   "execution_count": null,
   "metadata": {},
   "outputs": [],
   "source": [
    "test[test[\"Topic\"] == 2]['Document'].tolist()"
   ]
  },
  {
   "cell_type": "code",
   "execution_count": 78,
   "metadata": {},
   "outputs": [
    {
     "name": "stdout",
     "output_type": "stream",
     "text": [
      "[{'summary_text': '\"Harry Potter: Glesga\" is somewhere in the toon looking something out of Harry Potter. \"St Mungo collage/artwork\" is looking for a copy of it in the antiques centre. \"Glasgow’s cuts will hamper its museums for years to come\" '}]\n"
     ]
    }
   ],
   "source": [
    "from transformers import pipeline\n",
    "\n",
    "prompt = \"\"\"Summarize the discussion in these posts. Include all possible details\n",
    "\"Harry Potter: Glesga\n",
    "Somewhere in the toon looking something out of Harry Potter. Was doing a cleaning job here a few months ago and just found the photo on my phone. Sure I saw that fat prick Hagrid cutting about.\"\n",
    "\"KISS today, who’s painting faces?\n",
    "Kiss are playing in the hydro tonight , I’m looking to get my face painted\n",
    "Anyone know if there will be folk painting faces anywhere today at all?\n",
    "Cheers\"\n",
    "\"Looking for this St Mungo collage/artwork\n",
    "Wondering if anybody can help me find a copy of this, I saw it in the Lancefield St antiques centre on a visit in November but didn’t buy it then. I revisited the centre in its new location up the road last month but couldn’t find it anywhere this time :( Not sure if it’s a print from a book or a one-off collage by somebody. Does anyone know who it’s by or where I could find the image? Can’t find anything on Google. Thanks!\"\n",
    "\"Why why why why why\n",
    "Someone has done something good to an otherwise empty grey wall. It cost time, money and talent to paint that and enhanced the local area.\n",
    "\n",
    " Some wee tadjer has then spray painted fucking gibberish over it. Why?! What do you gain from ruining art? hope the cunt that did it drowns in a sewer\"\n",
    "\"Butchers Aprons\n",
    "Why is Whiteinch suddenly been draped in Butchers Aprons?\"\n",
    "\"Glasgow’s cuts will hamper its museums for years to come\n",
    "[https://www.apollo-magazine.com/glasgow-council-culture-cuts-burrell-unison/](https://www.apollo-magazine.com/glasgow-council-culture-cuts-burrell-unison/)\n",
    "\n",
    "Bad news for Glasgow's art scene, right?\"\n",
    "\"Seeking Glasgow-Based Graffiti Artist for a Research Project\n",
    "Dear redditors, a friend of mine is currently engaged in a research project for UoFG focused on the graffiti art scene in the vibrant city of Glasgow. Personally I do not know much about it besides latest Banksy exhibition but I thought asking here might help.\n",
    "\n",
    "If you're an artist in this sphere or know someone who is, I'd be grateful if you could reach out to me I could connect you two to just ask few questions regarding their view on this art in Glasgow. Please note that anonymity will be maintained.\n",
    "\n",
    "Thanks so much for your help with this!\"\n",
    "\"Where have these pictures been taken?\n",
    "These are from a photographer called Raymond Depardon. Pictures are from 1980 but I cannot remember anything like that staring today. Do you know if these locations still exist?\"\n",
    "\"Paintball\n",
    "Work are looking at arranging paintballing - I see there’s two nearby; Delta Force near Paisley, and Bedlam near C’nauld\n",
    "\n",
    "It would be great to hear some good or bad experiences, at either, from the sub\"\n",
    "\"Another Glasgow Cyanotype postcard I made.\n",
    "\"\n",
    "\"Street Art in Maryhill\n",
    "\"\n",
    "\"Missing artwork\n",
    "Have you seen this painting? Maybe you live in woodlands or the west end and it’s hanging in your flat? Please reply with details! I am on the hunt for it. Cash reward.\"\n",
    "\"Fitting mural spotted on my first ever visit to Yoker today\n",
    "\"\n",
    "\"Cyanotype Blueprint of the Glasgow School of Art, from a Charles Rennie Mackintosh drawing.\n",
    "\"\n",
    "\"\"\"\n",
    "\n",
    "# Create your representation model\n",
    "generator = pipeline('summarization', model='philschmid/bart-large-cnn-samsum')\n",
    "out = generator(prompt)\n",
    "print(out)"
   ]
  },
  {
   "cell_type": "code",
   "execution_count": 65,
   "metadata": {},
   "outputs": [
    {
     "data": {
      "text/plain": [
       "bertopic.representation._textgeneration.TextGeneration"
      ]
     },
     "execution_count": 65,
     "metadata": {},
     "output_type": "execute_result"
    }
   ],
   "source": [
    "summary."
   ]
  },
  {
   "cell_type": "code",
   "execution_count": null,
   "metadata": {},
   "outputs": [
    {
     "data": {
      "text/plain": [
       "978"
      ]
     },
     "execution_count": 13,
     "metadata": {},
     "output_type": "execute_result"
    }
   ],
   "source": [
    "test2 = test.drop('Representative_Docs', axis=1)\n",
    "test2 = test2.drop('Representation', axis=1)\n",
    "test2.to_sql('test2', con)"
   ]
  }
 ],
 "metadata": {
  "kernelspec": {
   "display_name": "Python 3",
   "language": "python",
   "name": "python3"
  },
  "language_info": {
   "codemirror_mode": {
    "name": "ipython",
    "version": 3
   },
   "file_extension": ".py",
   "mimetype": "text/x-python",
   "name": "python",
   "nbconvert_exporter": "python",
   "pygments_lexer": "ipython3",
   "version": "3.11.4"
  },
  "orig_nbformat": 4
 },
 "nbformat": 4,
 "nbformat_minor": 2
}
