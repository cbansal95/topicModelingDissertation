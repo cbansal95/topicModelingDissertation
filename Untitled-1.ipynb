{
 "cells": [
  {
   "cell_type": "code",
   "execution_count": 15,
   "metadata": {},
   "outputs": [
    {
     "name": "stdout",
     "output_type": "stream",
     "text": [
      "Requirement already satisfied: bertopic in c:\\users\\asusa\\appdata\\local\\packages\\pythonsoftwarefoundation.python.3.11_qbz5n2kfra8p0\\localcache\\local-packages\\python311\\site-packages (0.15.0)Note: you may need to restart the kernel to use updated packages.\n",
      "\n",
      "Requirement already satisfied: numpy>=1.20.0 in c:\\users\\asusa\\appdata\\local\\packages\\pythonsoftwarefoundation.python.3.11_qbz5n2kfra8p0\\localcache\\local-packages\\python311\\site-packages (from bertopic) (1.24.3)\n",
      "Requirement already satisfied: hdbscan>=0.8.29 in c:\\users\\asusa\\appdata\\local\\packages\\pythonsoftwarefoundation.python.3.11_qbz5n2kfra8p0\\localcache\\local-packages\\python311\\site-packages (from bertopic) (0.8.32)\n",
      "Requirement already satisfied: umap-learn>=0.5.0 in c:\\users\\asusa\\appdata\\local\\packages\\pythonsoftwarefoundation.python.3.11_qbz5n2kfra8p0\\localcache\\local-packages\\python311\\site-packages (from bertopic) (0.5.3)\n",
      "Requirement already satisfied: pandas>=1.1.5 in c:\\users\\asusa\\appdata\\local\\packages\\pythonsoftwarefoundation.python.3.11_qbz5n2kfra8p0\\localcache\\local-packages\\python311\\site-packages (from bertopic) (2.0.3)\n",
      "Requirement already satisfied: scikit-learn>=0.22.2.post1 in c:\\users\\asusa\\appdata\\local\\packages\\pythonsoftwarefoundation.python.3.11_qbz5n2kfra8p0\\localcache\\local-packages\\python311\\site-packages (from bertopic) (1.3.0)\n",
      "Requirement already satisfied: tqdm>=4.41.1 in c:\\users\\asusa\\appdata\\local\\packages\\pythonsoftwarefoundation.python.3.11_qbz5n2kfra8p0\\localcache\\local-packages\\python311\\site-packages (from bertopic) (4.65.0)\n",
      "Requirement already satisfied: sentence-transformers>=0.4.1 in c:\\users\\asusa\\appdata\\local\\packages\\pythonsoftwarefoundation.python.3.11_qbz5n2kfra8p0\\localcache\\local-packages\\python311\\site-packages (from bertopic) (2.2.2)\n",
      "Requirement already satisfied: plotly>=4.7.0 in c:\\users\\asusa\\appdata\\local\\packages\\pythonsoftwarefoundation.python.3.11_qbz5n2kfra8p0\\localcache\\local-packages\\python311\\site-packages (from bertopic) (5.15.0)\n",
      "Requirement already satisfied: cython<3,>=0.27 in c:\\users\\asusa\\appdata\\local\\packages\\pythonsoftwarefoundation.python.3.11_qbz5n2kfra8p0\\localcache\\local-packages\\python311\\site-packages (from hdbscan>=0.8.29->bertopic) (0.29.36)\n",
      "Requirement already satisfied: scipy>=1.0 in c:\\users\\asusa\\appdata\\local\\packages\\pythonsoftwarefoundation.python.3.11_qbz5n2kfra8p0\\localcache\\local-packages\\python311\\site-packages (from hdbscan>=0.8.29->bertopic) (1.11.1)\n",
      "Requirement already satisfied: joblib>=1.0 in c:\\users\\asusa\\appdata\\local\\packages\\pythonsoftwarefoundation.python.3.11_qbz5n2kfra8p0\\localcache\\local-packages\\python311\\site-packages (from hdbscan>=0.8.29->bertopic) (1.3.1)\n",
      "Requirement already satisfied: python-dateutil>=2.8.2 in c:\\users\\asusa\\appdata\\local\\packages\\pythonsoftwarefoundation.python.3.11_qbz5n2kfra8p0\\localcache\\local-packages\\python311\\site-packages (from pandas>=1.1.5->bertopic) (2.8.2)\n",
      "Requirement already satisfied: pytz>=2020.1 in c:\\users\\asusa\\appdata\\local\\packages\\pythonsoftwarefoundation.python.3.11_qbz5n2kfra8p0\\localcache\\local-packages\\python311\\site-packages (from pandas>=1.1.5->bertopic) (2023.3)\n",
      "Requirement already satisfied: tzdata>=2022.1 in c:\\users\\asusa\\appdata\\local\\packages\\pythonsoftwarefoundation.python.3.11_qbz5n2kfra8p0\\localcache\\local-packages\\python311\\site-packages (from pandas>=1.1.5->bertopic) (2023.3)\n",
      "Requirement already satisfied: tenacity>=6.2.0 in c:\\users\\asusa\\appdata\\local\\packages\\pythonsoftwarefoundation.python.3.11_qbz5n2kfra8p0\\localcache\\local-packages\\python311\\site-packages (from plotly>=4.7.0->bertopic) (8.2.2)\n",
      "Requirement already satisfied: packaging in c:\\users\\asusa\\appdata\\local\\packages\\pythonsoftwarefoundation.python.3.11_qbz5n2kfra8p0\\localcache\\local-packages\\python311\\site-packages (from plotly>=4.7.0->bertopic) (23.1)\n",
      "Requirement already satisfied: threadpoolctl>=2.0.0 in c:\\users\\asusa\\appdata\\local\\packages\\pythonsoftwarefoundation.python.3.11_qbz5n2kfra8p0\\localcache\\local-packages\\python311\\site-packages (from scikit-learn>=0.22.2.post1->bertopic) (3.2.0)\n",
      "Requirement already satisfied: transformers<5.0.0,>=4.6.0 in c:\\users\\asusa\\appdata\\local\\packages\\pythonsoftwarefoundation.python.3.11_qbz5n2kfra8p0\\localcache\\local-packages\\python311\\site-packages (from sentence-transformers>=0.4.1->bertopic) (4.29.2)\n",
      "Requirement already satisfied: torch>=1.6.0 in c:\\users\\asusa\\appdata\\local\\packages\\pythonsoftwarefoundation.python.3.11_qbz5n2kfra8p0\\localcache\\local-packages\\python311\\site-packages (from sentence-transformers>=0.4.1->bertopic) (2.0.1)\n",
      "Requirement already satisfied: torchvision in c:\\users\\asusa\\appdata\\local\\packages\\pythonsoftwarefoundation.python.3.11_qbz5n2kfra8p0\\localcache\\local-packages\\python311\\site-packages (from sentence-transformers>=0.4.1->bertopic) (0.15.2)\n",
      "Requirement already satisfied: nltk in c:\\users\\asusa\\appdata\\local\\packages\\pythonsoftwarefoundation.python.3.11_qbz5n2kfra8p0\\localcache\\local-packages\\python311\\site-packages (from sentence-transformers>=0.4.1->bertopic) (3.8.1)\n",
      "Requirement already satisfied: sentencepiece in c:\\users\\asusa\\appdata\\local\\packages\\pythonsoftwarefoundation.python.3.11_qbz5n2kfra8p0\\localcache\\local-packages\\python311\\site-packages (from sentence-transformers>=0.4.1->bertopic) (0.1.99)\n",
      "Requirement already satisfied: huggingface-hub>=0.4.0 in c:\\users\\asusa\\appdata\\local\\packages\\pythonsoftwarefoundation.python.3.11_qbz5n2kfra8p0\\localcache\\local-packages\\python311\\site-packages (from sentence-transformers>=0.4.1->bertopic) (0.15.1)\n",
      "Requirement already satisfied: colorama in c:\\users\\asusa\\appdata\\local\\packages\\pythonsoftwarefoundation.python.3.11_qbz5n2kfra8p0\\localcache\\local-packages\\python311\\site-packages (from tqdm>=4.41.1->bertopic) (0.4.6)\n",
      "Requirement already satisfied: numba>=0.49 in c:\\users\\asusa\\appdata\\local\\packages\\pythonsoftwarefoundation.python.3.11_qbz5n2kfra8p0\\localcache\\local-packages\\python311\\site-packages (from umap-learn>=0.5.0->bertopic) (0.57.1)\n",
      "Requirement already satisfied: pynndescent>=0.5 in c:\\users\\asusa\\appdata\\local\\packages\\pythonsoftwarefoundation.python.3.11_qbz5n2kfra8p0\\localcache\\local-packages\\python311\\site-packages (from umap-learn>=0.5.0->bertopic) (0.5.10)\n",
      "Requirement already satisfied: filelock in c:\\users\\asusa\\appdata\\local\\packages\\pythonsoftwarefoundation.python.3.11_qbz5n2kfra8p0\\localcache\\local-packages\\python311\\site-packages (from huggingface-hub>=0.4.0->sentence-transformers>=0.4.1->bertopic) (3.12.0)\n",
      "Requirement already satisfied: fsspec in c:\\users\\asusa\\appdata\\local\\packages\\pythonsoftwarefoundation.python.3.11_qbz5n2kfra8p0\\localcache\\local-packages\\python311\\site-packages (from huggingface-hub>=0.4.0->sentence-transformers>=0.4.1->bertopic) (2023.5.0)\n",
      "Requirement already satisfied: requests in c:\\users\\asusa\\appdata\\local\\packages\\pythonsoftwarefoundation.python.3.11_qbz5n2kfra8p0\\localcache\\local-packages\\python311\\site-packages (from huggingface-hub>=0.4.0->sentence-transformers>=0.4.1->bertopic) (2.31.0)\n",
      "Requirement already satisfied: pyyaml>=5.1 in c:\\users\\asusa\\appdata\\local\\packages\\pythonsoftwarefoundation.python.3.11_qbz5n2kfra8p0\\localcache\\local-packages\\python311\\site-packages (from huggingface-hub>=0.4.0->sentence-transformers>=0.4.1->bertopic) (6.0)\n",
      "Requirement already satisfied: typing-extensions>=3.7.4.3 in c:\\users\\asusa\\appdata\\local\\packages\\pythonsoftwarefoundation.python.3.11_qbz5n2kfra8p0\\localcache\\local-packages\\python311\\site-packages (from huggingface-hub>=0.4.0->sentence-transformers>=0.4.1->bertopic) (4.6.3)\n",
      "Requirement already satisfied: llvmlite<0.41,>=0.40.0dev0 in c:\\users\\asusa\\appdata\\local\\packages\\pythonsoftwarefoundation.python.3.11_qbz5n2kfra8p0\\localcache\\local-packages\\python311\\site-packages (from numba>=0.49->umap-learn>=0.5.0->bertopic) (0.40.1)\n",
      "Requirement already satisfied: six>=1.5 in c:\\users\\asusa\\appdata\\local\\packages\\pythonsoftwarefoundation.python.3.11_qbz5n2kfra8p0\\localcache\\local-packages\\python311\\site-packages (from python-dateutil>=2.8.2->pandas>=1.1.5->bertopic) (1.16.0)\n",
      "Requirement already satisfied: sympy in c:\\users\\asusa\\appdata\\local\\packages\\pythonsoftwarefoundation.python.3.11_qbz5n2kfra8p0\\localcache\\local-packages\\python311\\site-packages (from torch>=1.6.0->sentence-transformers>=0.4.1->bertopic) (1.12)\n",
      "Requirement already satisfied: networkx in c:\\users\\asusa\\appdata\\local\\packages\\pythonsoftwarefoundation.python.3.11_qbz5n2kfra8p0\\localcache\\local-packages\\python311\\site-packages (from torch>=1.6.0->sentence-transformers>=0.4.1->bertopic) (3.1)\n",
      "Requirement already satisfied: jinja2 in c:\\users\\asusa\\appdata\\local\\packages\\pythonsoftwarefoundation.python.3.11_qbz5n2kfra8p0\\localcache\\local-packages\\python311\\site-packages (from torch>=1.6.0->sentence-transformers>=0.4.1->bertopic) (3.1.2)\n",
      "Requirement already satisfied: regex!=2019.12.17 in c:\\users\\asusa\\appdata\\local\\packages\\pythonsoftwarefoundation.python.3.11_qbz5n2kfra8p0\\localcache\\local-packages\\python311\\site-packages (from transformers<5.0.0,>=4.6.0->sentence-transformers>=0.4.1->bertopic) (2023.5.5)\n",
      "Requirement already satisfied: tokenizers!=0.11.3,<0.14,>=0.11.1 in c:\\users\\asusa\\appdata\\local\\packages\\pythonsoftwarefoundation.python.3.11_qbz5n2kfra8p0\\localcache\\local-packages\\python311\\site-packages (from transformers<5.0.0,>=4.6.0->sentence-transformers>=0.4.1->bertopic) (0.13.3)\n",
      "Requirement already satisfied: click in c:\\users\\asusa\\appdata\\local\\packages\\pythonsoftwarefoundation.python.3.11_qbz5n2kfra8p0\\localcache\\local-packages\\python311\\site-packages (from nltk->sentence-transformers>=0.4.1->bertopic) (8.1.5)\n",
      "Requirement already satisfied: pillow!=8.3.*,>=5.3.0 in c:\\users\\asusa\\appdata\\local\\packages\\pythonsoftwarefoundation.python.3.11_qbz5n2kfra8p0\\localcache\\local-packages\\python311\\site-packages (from torchvision->sentence-transformers>=0.4.1->bertopic) (10.0.0)\n",
      "Requirement already satisfied: MarkupSafe>=2.0 in c:\\users\\asusa\\appdata\\local\\packages\\pythonsoftwarefoundation.python.3.11_qbz5n2kfra8p0\\localcache\\local-packages\\python311\\site-packages (from jinja2->torch>=1.6.0->sentence-transformers>=0.4.1->bertopic) (2.1.3)\n",
      "Requirement already satisfied: charset-normalizer<4,>=2 in c:\\users\\asusa\\appdata\\local\\packages\\pythonsoftwarefoundation.python.3.11_qbz5n2kfra8p0\\localcache\\local-packages\\python311\\site-packages (from requests->huggingface-hub>=0.4.0->sentence-transformers>=0.4.1->bertopic) (3.1.0)\n",
      "Requirement already satisfied: idna<4,>=2.5 in c:\\users\\asusa\\appdata\\local\\packages\\pythonsoftwarefoundation.python.3.11_qbz5n2kfra8p0\\localcache\\local-packages\\python311\\site-packages (from requests->huggingface-hub>=0.4.0->sentence-transformers>=0.4.1->bertopic) (3.4)\n",
      "Requirement already satisfied: urllib3<3,>=1.21.1 in c:\\users\\asusa\\appdata\\local\\packages\\pythonsoftwarefoundation.python.3.11_qbz5n2kfra8p0\\localcache\\local-packages\\python311\\site-packages (from requests->huggingface-hub>=0.4.0->sentence-transformers>=0.4.1->bertopic) (2.0.2)\n",
      "Requirement already satisfied: certifi>=2017.4.17 in c:\\users\\asusa\\appdata\\local\\packages\\pythonsoftwarefoundation.python.3.11_qbz5n2kfra8p0\\localcache\\local-packages\\python311\\site-packages (from requests->huggingface-hub>=0.4.0->sentence-transformers>=0.4.1->bertopic) (2023.5.7)\n",
      "Requirement already satisfied: mpmath>=0.19 in c:\\users\\asusa\\appdata\\local\\packages\\pythonsoftwarefoundation.python.3.11_qbz5n2kfra8p0\\localcache\\local-packages\\python311\\site-packages (from sympy->torch>=1.6.0->sentence-transformers>=0.4.1->bertopic) (1.3.0)\n",
      "Collecting top2vec\n",
      "  Downloading top2vec-1.0.29-py3-none-any.whl (26 kB)\n",
      "Requirement already satisfied: numpy>=1.20.0 in c:\\users\\asusa\\appdata\\local\\packages\\pythonsoftwarefoundation.python.3.11_qbz5n2kfra8p0\\localcache\\local-packages\\python311\\site-packages (from top2vec) (1.24.3)\n",
      "Requirement already satisfied: pandas in c:\\users\\asusa\\appdata\\local\\packages\\pythonsoftwarefoundation.python.3.11_qbz5n2kfra8p0\\localcache\\local-packages\\python311\\site-packages (from top2vec) (2.0.3)\n",
      "Requirement already satisfied: scikit-learn>=1.2.0 in c:\\users\\asusa\\appdata\\local\\packages\\pythonsoftwarefoundation.python.3.11_qbz5n2kfra8p0\\localcache\\local-packages\\python311\\site-packages (from top2vec) (1.3.0)\n",
      "Collecting gensim>=4.0.0 (from top2vec)\n",
      "  Obtaining dependency information for gensim>=4.0.0 from https://files.pythonhosted.org/packages/ad/97/b8253236dfedb9094f4273393a3fd03997da81f27f15822e56128da894ae/gensim-4.3.2-cp311-cp311-win_amd64.whl.metadata\n",
      "  Downloading gensim-4.3.2-cp311-cp311-win_amd64.whl.metadata (8.5 kB)\n",
      "Requirement already satisfied: umap-learn>=0.5.1 in c:\\users\\asusa\\appdata\\local\\packages\\pythonsoftwarefoundation.python.3.11_qbz5n2kfra8p0\\localcache\\local-packages\\python311\\site-packages (from top2vec) (0.5.3)\n",
      "Requirement already satisfied: hdbscan>=0.8.27 in c:\\users\\asusa\\appdata\\local\\packages\\pythonsoftwarefoundation.python.3.11_qbz5n2kfra8p0\\localcache\\local-packages\\python311\\site-packages (from top2vec) (0.8.32)\n",
      "Collecting wordcloud (from top2vec)\n",
      "  Obtaining dependency information for wordcloud from https://files.pythonhosted.org/packages/34/ac/72a4e42e76bf549dfd91791a6b10a9832f046c1d48b5e778be9ec012aa47/wordcloud-1.9.2-cp311-cp311-win_amd64.whl.metadata\n",
      "  Downloading wordcloud-1.9.2-cp311-cp311-win_amd64.whl.metadata (3.4 kB)\n",
      "Requirement already satisfied: scipy>=1.7.0 in c:\\users\\asusa\\appdata\\local\\packages\\pythonsoftwarefoundation.python.3.11_qbz5n2kfra8p0\\localcache\\local-packages\\python311\\site-packages (from gensim>=4.0.0->top2vec) (1.11.1)\n",
      "Collecting smart-open>=1.8.1 (from gensim>=4.0.0->top2vec)\n",
      "  Downloading smart_open-6.3.0-py3-none-any.whl (56 kB)\n",
      "     ---------------------------------------- 0.0/56.8 kB ? eta -:--:--\n",
      "     ---------------------------------------- 56.8/56.8 kB 2.9 MB/s eta 0:00:00\n",
      "Requirement already satisfied: cython<3,>=0.27 in c:\\users\\asusa\\appdata\\local\\packages\\pythonsoftwarefoundation.python.3.11_qbz5n2kfra8p0\\localcache\\local-packages\\python311\\site-packages (from hdbscan>=0.8.27->top2vec) (0.29.36)\n",
      "Requirement already satisfied: joblib>=1.0 in c:\\users\\asusa\\appdata\\local\\packages\\pythonsoftwarefoundation.python.3.11_qbz5n2kfra8p0\\localcache\\local-packages\\python311\\site-packages (from hdbscan>=0.8.27->top2vec) (1.3.1)\n",
      "Requirement already satisfied: threadpoolctl>=2.0.0 in c:\\users\\asusa\\appdata\\local\\packages\\pythonsoftwarefoundation.python.3.11_qbz5n2kfra8p0\\localcache\\local-packages\\python311\\site-packages (from scikit-learn>=1.2.0->top2vec) (3.2.0)\n",
      "Requirement already satisfied: numba>=0.49 in c:\\users\\asusa\\appdata\\local\\packages\\pythonsoftwarefoundation.python.3.11_qbz5n2kfra8p0\\localcache\\local-packages\\python311\\site-packages (from umap-learn>=0.5.1->top2vec) (0.57.1)\n",
      "Requirement already satisfied: pynndescent>=0.5 in c:\\users\\asusa\\appdata\\local\\packages\\pythonsoftwarefoundation.python.3.11_qbz5n2kfra8p0\\localcache\\local-packages\\python311\\site-packages (from umap-learn>=0.5.1->top2vec) (0.5.10)\n",
      "Requirement already satisfied: tqdm in c:\\users\\asusa\\appdata\\local\\packages\\pythonsoftwarefoundation.python.3.11_qbz5n2kfra8p0\\localcache\\local-packages\\python311\\site-packages (from umap-learn>=0.5.1->top2vec) (4.65.0)\n",
      "Requirement already satisfied: python-dateutil>=2.8.2 in c:\\users\\asusa\\appdata\\local\\packages\\pythonsoftwarefoundation.python.3.11_qbz5n2kfra8p0\\localcache\\local-packages\\python311\\site-packages (from pandas->top2vec) (2.8.2)\n",
      "Requirement already satisfied: pytz>=2020.1 in c:\\users\\asusa\\appdata\\local\\packages\\pythonsoftwarefoundation.python.3.11_qbz5n2kfra8p0\\localcache\\local-packages\\python311\\site-packages (from pandas->top2vec) (2023.3)\n",
      "Requirement already satisfied: tzdata>=2022.1 in c:\\users\\asusa\\appdata\\local\\packages\\pythonsoftwarefoundation.python.3.11_qbz5n2kfra8p0\\localcache\\local-packages\\python311\\site-packages (from pandas->top2vec) (2023.3)\n",
      "Requirement already satisfied: pillow in c:\\users\\asusa\\appdata\\local\\packages\\pythonsoftwarefoundation.python.3.11_qbz5n2kfra8p0\\localcache\\local-packages\\python311\\site-packages (from wordcloud->top2vec) (10.0.0)\n",
      "Requirement already satisfied: matplotlib in c:\\users\\asusa\\appdata\\local\\packages\\pythonsoftwarefoundation.python.3.11_qbz5n2kfra8p0\\localcache\\local-packages\\python311\\site-packages (from wordcloud->top2vec) (3.7.2)\n",
      "Requirement already satisfied: llvmlite<0.41,>=0.40.0dev0 in c:\\users\\asusa\\appdata\\local\\packages\\pythonsoftwarefoundation.python.3.11_qbz5n2kfra8p0\\localcache\\local-packages\\python311\\site-packages (from numba>=0.49->umap-learn>=0.5.1->top2vec) (0.40.1)\n",
      "Requirement already satisfied: six>=1.5 in c:\\users\\asusa\\appdata\\local\\packages\\pythonsoftwarefoundation.python.3.11_qbz5n2kfra8p0\\localcache\\local-packages\\python311\\site-packages (from python-dateutil>=2.8.2->pandas->top2vec) (1.16.0)\n",
      "Requirement already satisfied: contourpy>=1.0.1 in c:\\users\\asusa\\appdata\\local\\packages\\pythonsoftwarefoundation.python.3.11_qbz5n2kfra8p0\\localcache\\local-packages\\python311\\site-packages (from matplotlib->wordcloud->top2vec) (1.1.0)\n",
      "Requirement already satisfied: cycler>=0.10 in c:\\users\\asusa\\appdata\\local\\packages\\pythonsoftwarefoundation.python.3.11_qbz5n2kfra8p0\\localcache\\local-packages\\python311\\site-packages (from matplotlib->wordcloud->top2vec) (0.11.0)\n",
      "Requirement already satisfied: fonttools>=4.22.0 in c:\\users\\asusa\\appdata\\local\\packages\\pythonsoftwarefoundation.python.3.11_qbz5n2kfra8p0\\localcache\\local-packages\\python311\\site-packages (from matplotlib->wordcloud->top2vec) (4.41.1)\n",
      "Requirement already satisfied: kiwisolver>=1.0.1 in c:\\users\\asusa\\appdata\\local\\packages\\pythonsoftwarefoundation.python.3.11_qbz5n2kfra8p0\\localcache\\local-packages\\python311\\site-packages (from matplotlib->wordcloud->top2vec) (1.4.4)\n",
      "Requirement already satisfied: packaging>=20.0 in c:\\users\\asusa\\appdata\\local\\packages\\pythonsoftwarefoundation.python.3.11_qbz5n2kfra8p0\\localcache\\local-packages\\python311\\site-packages (from matplotlib->wordcloud->top2vec) (23.1)\n",
      "Requirement already satisfied: pyparsing<3.1,>=2.3.1 in c:\\users\\asusa\\appdata\\local\\packages\\pythonsoftwarefoundation.python.3.11_qbz5n2kfra8p0\\localcache\\local-packages\\python311\\site-packages (from matplotlib->wordcloud->top2vec) (3.0.9)\n",
      "Requirement already satisfied: colorama in c:\\users\\asusa\\appdata\\local\\packages\\pythonsoftwarefoundation.python.3.11_qbz5n2kfra8p0\\localcache\\local-packages\\python311\\site-packages (from tqdm->umap-learn>=0.5.1->top2vec) (0.4.6)\n",
      "Downloading gensim-4.3.2-cp311-cp311-win_amd64.whl (24.0 MB)\n",
      "   ---------------------------------------- 0.0/24.0 MB ? eta -:--:--\n",
      "    --------------------------------------- 0.4/24.0 MB 13.9 MB/s eta 0:00:02\n",
      "   - -------------------------------------- 0.9/24.0 MB 11.9 MB/s eta 0:00:02\n",
      "   --- ------------------------------------ 1.9/24.0 MB 15.2 MB/s eta 0:00:02\n",
      "   ---- ----------------------------------- 2.8/24.0 MB 16.4 MB/s eta 0:00:02\n",
      "   ------ --------------------------------- 3.8/24.0 MB 17.4 MB/s eta 0:00:02\n",
      "   ------- -------------------------------- 4.5/24.0 MB 17.1 MB/s eta 0:00:02\n",
      "   -------- ------------------------------- 5.3/24.0 MB 16.9 MB/s eta 0:00:02\n",
      "   --------- ------------------------------ 5.8/24.0 MB 16.3 MB/s eta 0:00:02\n",
      "   ---------- ----------------------------- 6.5/24.0 MB 16.1 MB/s eta 0:00:02\n",
      "   ----------- ---------------------------- 6.7/24.0 MB 14.8 MB/s eta 0:00:02\n",
      "   ----------- ---------------------------- 7.2/24.0 MB 14.3 MB/s eta 0:00:02\n",
      "   ------------- -------------------------- 8.1/24.0 MB 14.8 MB/s eta 0:00:02\n",
      "   -------------- ------------------------- 8.9/24.0 MB 15.0 MB/s eta 0:00:02\n",
      "   --------------- ------------------------ 9.5/24.0 MB 15.1 MB/s eta 0:00:01\n",
      "   ---------------- ----------------------- 9.9/24.0 MB 14.4 MB/s eta 0:00:01\n",
      "   ------------------ --------------------- 10.8/24.0 MB 14.9 MB/s eta 0:00:01\n",
      "   ------------------- -------------------- 11.6/24.0 MB 14.9 MB/s eta 0:00:01\n",
      "   --------------------- ------------------ 12.7/24.0 MB 15.2 MB/s eta 0:00:01\n",
      "   ----------------------- ---------------- 13.9/24.0 MB 15.2 MB/s eta 0:00:01\n",
      "   ------------------------ --------------- 14.6/24.0 MB 15.2 MB/s eta 0:00:01\n",
      "   ------------------------- -------------- 15.5/24.0 MB 15.2 MB/s eta 0:00:01\n",
      "   --------------------------- ------------ 16.5/24.0 MB 16.0 MB/s eta 0:00:01\n",
      "   ----------------------------- ---------- 17.5/24.0 MB 18.2 MB/s eta 0:00:01\n",
      "   ------------------------------ --------- 18.5/24.0 MB 18.2 MB/s eta 0:00:01\n",
      "   -------------------------------- ------- 19.3/24.0 MB 18.2 MB/s eta 0:00:01\n",
      "   --------------------------------- ------ 20.4/24.0 MB 20.5 MB/s eta 0:00:01\n",
      "   ------------------------------------ --- 21.6/24.0 MB 21.1 MB/s eta 0:00:01\n",
      "   ------------------------------------- -- 22.4/24.0 MB 21.1 MB/s eta 0:00:01\n",
      "   ---------------------------------------  23.6/24.0 MB 21.1 MB/s eta 0:00:01\n",
      "   ---------------------------------------  24.0/24.0 MB 21.1 MB/s eta 0:00:01\n",
      "   ---------------------------------------- 24.0/24.0 MB 18.2 MB/s eta 0:00:00\n",
      "Downloading wordcloud-1.9.2-cp311-cp311-win_amd64.whl (151 kB)\n",
      "   ---------------------------------------- 0.0/151.4 kB ? eta -:--:--\n",
      "   ---------------------------------------- 151.4/151.4 kB 9.4 MB/s eta 0:00:00\n",
      "Installing collected packages: smart-open, gensim, wordcloud, top2vec\n",
      "Successfully installed gensim-4.3.2 smart-open-6.3.0 top2vec-1.0.29 wordcloud-1.9.2\n",
      "Note: you may need to restart the kernel to use updated packages.\n"
     ]
    }
   ],
   "source": [
    "%pip install bertopic\n",
    "%pip install top2vec"
   ]
  },
  {
   "cell_type": "code",
   "execution_count": 16,
   "metadata": {},
   "outputs": [
    {
     "name": "stdout",
     "output_type": "stream",
     "text": [
      "('t3_1611867', 'r/worldnews', 'Newly declassified US intel claims Russia is laundering propaganda through unwitting Westerners', 16929745870, None, '', None, None)\n"
     ]
    }
   ],
   "source": [
    "import sqlite3\n",
    "import sys\n",
    "sys.path.insert(0, r\"c:\\\\users\\\\asusa\\\\appdata\\\\roaming\\\\python\\\\python311\\\\site-packages\")\n",
    "\n",
    "#extracting and preparing text from db\n",
    "con = sqlite3.connect(\"database.db\")\n",
    "cur = con.cursor()\n",
    "postsReq = cur.execute(\"SELECT * from reddit_post\")\n",
    "postsRaw=postsReq.fetchall()\n",
    "data = []\n",
    "timestamps = []\n",
    "for x in postsRaw:\n",
    "    data.append(x[2] + ' ' + x[5])\n",
    "    #data.append(x[2])\n",
    "    timestamps.append(x[4])\n",
    "print(postsRaw[0])"
   ]
  },
  {
   "cell_type": "code",
   "execution_count": 17,
   "metadata": {},
   "outputs": [
    {
     "name": "stdout",
     "output_type": "stream",
     "text": [
      "I've seen the red eyes of Jupiter There s this story that my mom used to tell me. When I was a kid, she held me up to a telescope to show me the stars. I d been born under an open sky two years prior; it was only fair that space and I got better acquainted. She showed me constellations like Ursa Major, Auriga, and Orion. And the moon, of course. Finally, she set the telescope to one specific point. Jupiter. Then I started screaming. I went from warm and cuddly to panicked hell-screaming mini-beast at the drop of a hat. Mom never figured out why, and for many years, neither did I. It s like he saw a boogeyman, she says whenever she tells the story. Or maybe he just didn t understand what he was looking at. All that mystery can be scary. &amp;#x200B; My dad jokingly says that this telescope was the cause for my interest in geology. Better to look down than up, he figured. I never thought of it that way, but he had a point. Personally, I think I ve always liked to understand the fundamental puzzle pieces that makes this world live and breathe. That s what geology is to me; an understanding of our home. Like knowing the foundations of your house. So yeah, I m a geologist. I got my degree at MSU, got a master s degree in Norway, and got an entry-level job at a government agency up in Reston, Virginia. By 2013, I was well on my way to earthquake-proofing my life and personal economy. Things were pretty sweet. But there were a few caveats. First, I was desperately lonely. And second, I hadn t used a telescope since that fateful day when I was two years old. But that changed in March, 2013. I d just turned 24. &amp;#x200B; I d kinda started dating this girl, Lynn. We d only been out twice, but I had a good feeling about the third date. She was an intensely outdoorsy kind of person. She had all kinds of breathing fabric clothes, super-hydro-whatever water flasks, and she tracked everything about her life on her ergonomic hyper digital buzzword watch with the accompanying monthly subscription app. It was all a bit much, and I couldn t keep up with her in any sense of the word. But she somehow tolerated me, and that was all that mattered. We d been hiking all day. Lynn had been hinting at a surprise at the end of the road. It was already getting too dark to turn around, so I figured we might be sharing a tent. She hadn t told me to bring my own. As we got to the top of a hill, I realized I d been an idiot. There was a camp of six other people. Men and women; all variations of Lynn. Eager sporty people with a violently upbeat vibe. Lynn turned to me with the biggest smile. Surprise! she laughed. We got a stargazing party! &amp;#x200B; Yeah, I d misread the entire date thing. I was supposed to bring my own tent, but Lynn figured that was implied. Apparently, you should always bring a tent when hiking. I hate unwritten rules. In that moment, I was just a bitter man coming to the realization that we had vastly different ideas of what that date was gonna look like. Still, I had a good time. We had hot dogs and smores, and her friends had put up telescopes to play with. There was supposed to be a meteor passing by, and they all wanted to see it. Honestly, I think it was just an excuse to get out of town for a while. &amp;#x200B; One of Lynn s friends had brought a bottle of schnaps. Not much, but enough to play some never have I ever and have a good laugh or two. By the time the meteor came around, we d almost forgotten about it. Hell, I d almost forgotten about Lynn. We all got up and took turns with the telescopes. It was sort of magical, in a way. All of us standing on that hill, looking up at the clear sky. No light pollution, no passing cars; just a bunch of people and the stars. Then it was my turn. &amp;#x200B; Looking at it through a telescope makes it seem more real, in a way. You can see details that you otherwise can t. It reminds you that the stars aren t just a pretty picture; they re real things, in a very real space. I followed the meteor for a few seconds, ooh-ing and aah-ing with the rest of them. Then it passed in front of Jupiter. Something in me stopped. It felt like my soul dropped anchor, locking my neck in place. Ever since that day when I was a kid, I hadn t seen the planet up close. Not like that. Not since. &amp;#x200B; There was a rumble. At first I thought it was some kind of motor error in the telescope tripod. Then it happened again. I took my hands off the telescope, but quickly realized I couldn t look away. My neck was cramping; my throat closing. I couldn t blink. I couldn t scream. And the rumble grew stronger. &amp;#x200B; It got faster, turning into a vibration, or a note. There was a middle note. A high note. Finally, a low note. Three repeating sounds bouncing against the inside of my cranium like an expanding echo. My eyes, searching desperately for a way to blink, finally locked onto something. There, among the swirling storms of Jupiter s surface, I could see spots of red. Some large, some small. And one so large it was impossible to miss. Now, I know what it is in theory. I ve heard about the storms of Jupiter. It s a gas giant. But what I looked at, then and there, were no storms. They were eyes . Every storm, every spot; red eyes. &amp;#x200B; I finally understood the rumbling. That feeling that bore through me. Middle, high, low. It wasn t just spasms; they were syllables. The more I listened, the clearer they got. Like fine-tuning a radio. And in that one perfect moment, as everything aligned, I heard it. I heard Jupiter. I felt it. Not as a voice, but a movement. A trembling bass, like standing next to a silent but deafening song. And it said; I see you. &amp;#x200B; For the other stargazers, it looked like I had a seizure. Lynn later described how I took one look through the telescope and immediately started shaking. She offered to get my coat, which I d left by the campfire. When I finally pried myself loose from the telescope, all I could do was froth at the mouth and screech the same three tones over, and over. But they didn t understand. How could they? Middle. High. Low. I see you. I see you. &amp;#x200B; I was only out for a couple of minutes. The circle of friends looked down at me, trying to figure out how bad the damages were. They d fetched their first aid kits and Lynn s satellite phone. Prior to me waking up, they d been arguing whether to call someone. They could also follow the blue tape on the trees, which would lead to a ranger station. Luckily, I woke up just in time to stop them. I m fine, I gasped. Really. I-I I don t know what the hell that was. That s epilepsy, one of them said. My cousin has it- No, that s blood sugar, said another. Guaranteed. Someone said something about chakras. Another started talking about the liver and pushing me to eat their special Minnesota Sunflower Seeds. What a wild night. &amp;#x200B; The next day, I headed straight home. I said goodbye to Lynn, who insisted that I kept her updated. I crashed in my bed, headfirst; leaving my hiking gear strewn across the hallway. Even though I d gotten a good night s sleep, my mind needed to recover. My hands wouldn t stop shaking, and my eyes felt warm. I would also get bouts of strained jaw muscles, sending these fiery signals up my spine to poke me like an infected wound. I slept for 14 hours straight. This long, dreamless sleep. Like turning off a light and waking up with no idea what planet you re on. Waking up felt like starting a machine. Something in me moved, and I looked straight up into the ceiling. Without thinking, I said it aloud. I see you. &amp;#x200B; I tried to chalk it all up to stress and fatigue. I d been hiking all day and topped it off with booze; not a great combination. I spent a few hours just looking up stuff about Jupiter to try and explain what I d seen. I read about the storms, the composition of dust and gas, the invisible rings, the moons it was all there. Jupiter is no mystery to us. But what I d seen were no storms. It felt like I d seen through them, spotting something beneath. Something deep and profound; like breaking through the ice of a dark lake, only to see something shimmering at the bottom. I was at a crossroads. Try and ignore it or confront it. What else could I do? I decided to ignore it. &amp;#x200B; For a few days, it worked. There was the occasional shiver when I heard an uncomfortable tune, or the frequency of a machine or motor. There was this one noise that I kept hearing from my fridge that gave me pause. At one point I just stood there, head pressed against it, listening. Traces of that mysterious rumble, looking to grasp me. Lynn and I kept in touch. She was worried about me, asking me to get checked out. I couldn t be bothered at first, but she made me promise. I thought about telling her I d gone, without actually going, but she was so sincere. I couldn t bring myself to lie, no matter how convenient. The doctor couldn t find anything wrong with me. Not physically, at least. I kept getting distracted by all the hums. I imagined hearing that frequency in a little bit of everything, directly translating to spotty words in the back of my mind. I could hear see coming off a computer screen. A you from the rumbling pipes in the bathrooms. Just spots of recognition, sending flakes of ice up my spine as a constant reminder that I was, in fact, nowhere near okay. &amp;#x200B; It all came to a breaking point one evening when I was making dinner. I was alternating between frying chicken and answering messages from Lynn, when I got into what I can only explain as a groove. There was a hum coming from the kitchen fan which resonated exactly with one of the frequencies. It was calling to me, over and over. You. You. You. You. You. I have no idea how long I stood there. My mind just synced to this rhythm. At some point I realized I was coughing, nodding my head to the alarm from the smoke detector going off. My chicken was burned. I ended up pouring myself a bowl of powdered tomato soup. And even then, as I stirred it with my spoon, I imagined the storms on Jupiter. The red swirls, hiding an unfathomable chaos. I watched it spin round, and round, and round again. And the longer I looked, I could feel the eye coming closer. My hands cramped, locking the plate in my hands. I could feel a rumble boiling in my stomach, like a volcano about to erupt. Three familiar notes, translating into an immediate, marrow-curdling screech. I SEE YOU. I threw the plate across the room. It shattered, and the red droplets spread across my egg-white wall. Swirling dots, dancing like distant Jupiter storms. The hum in me faded into a steady stream of whispers. Whispers that eagerly reminded that I was, unquestionably, seen . &amp;#x200B; For the next few nights, it just got worse. I prayed for a dreamless sleep, but it wouldn t come. Instead I kept finding myself carried off into the void, coming face to face with an eye the size of continents. Chemical storms that could strip the skin from my bones; leaving only thoughts and screams behind. Knife-edged ruby mountain ranges circling an endless black iris. No matter how much I kicked, twisted, or turned, it sucked me in. Pulling me into an eternal stomach-churning freefall. I would wake up drenched in sweat, completely off-balance. I d fall out of bed and flop around on the floor, as if gravity still eluded me. It d take me a few seconds to realize nothing d happened. And maybe, if I was lucky, I d gotten half an hour of sleep. &amp;#x200B; I gave up. I told Lynn all about it, begging for help. She came over within the hour. Drove me to the hospital, all that. Hell, I don t remember filling out a single form. She made sure they called my emergency contact and updated the doctor on what d been going on. She was unstoppable. I tried not to look and listen too much, and my mind was reeling from a lack of sleep. I have vague recollections of hallways and blurred faces. By then, I could feel the rumbling everywhere. Every electrical outlet, every fluorescent light. I could feel it in the texture of my rubber soles dragging across the white linoleum floor. It wasn t letting up. The only clear memory I have is of staring into the eyes of a doctor as I had a moment of clarity. He looked at me like I d slapped him. Good, he said. Then your eyes are working. I, uh what? You can see me, right? He took down a few notes and checked my eyes. You said so, just now. &amp;#x200B; They kept me overnight for observation. My mom came by with some supplies and words of encouragement. She stroked my head and made sure I always had a glass of water on hand. Whenever my feverlike rants and seizures would start, she was there to calm me down. Well, to the best of her ability. At that point, I was so far gone that I couldn t even explain it to her. It was just this constant assault on my senses, like my brain was swollen with voices. Then, at some point, it stopped. I remember it clearly. Mom had opened a window overlooking the parking lot, and I had a clear view of the night. Distant stars making their way across the sky. After shivering constantly for days, the relaxation I experienced was indescribable. Euphoric. This warm, enveloping feeling, spread all throughout my body. Like becoming a comfort blanket. Mom stroked my hair. You always liked that, she said. Remember? You used to sleep with the window open. I, uh I don t remember that. No stuffed animals, or night lights. Just an open window. Anything else and we d get a nasty tantrum. &amp;#x200B; She sat with me for a while before she got up to use the restroom. When she got to the door, she turned back to me. You know, the night when you were born, we never thought you d make it, she said. It was all a mess. The car broke down. Your dad thought we could cut through a field to make it to the hospital on foot. I know, I sighed. I was born in a field. The paramedics found us, she continued. If it hadn t been for the bright night and the stars, they never would ve. It saved your life. I looked out the window. There was something strangely comforting about that vast darkness now that it didn t fry my nerves. Like a dark sea, where you can imagine the waves. We thought you wouldn t make it, but as soon as we heard them, we knew you d be okay. &amp;#x200B; A primal thought swum to the front of my mind. A vague feeling of people around me. Being naked and cold in an open field. Hands grasping me. A voice, far above, whispering; Don t worry, kid. A breath that lasts for a lifetime. I see you. &amp;#x200B; The next morning, I was discharged. My nerves had calmed, and I d gotten a prescription for seizure medication. I was rolled out of the main entrance, where Lynn met up with us. It wasn t the kind of introduction I d planned on doing that day, but that time was as good as any. Mom had her promise to take me home, and Lynn was happy to help. We started to drive, and I immediately felt something strange. A tinge of something cold. Like a snowflake hitting an open wound. Do we need to stop? she asked. Are you okay? No, just wait. As I looked around, the feeling shifted. And at one specific point, it disappeared. It just disappeared. I followed the direction with my finger, pointing at something in the distance. Can we go, uh there? I asked. Right there. That way. The highway? Sure, yeah. To where? No clue. Lynn pondered it for a sec, then nodded. Highway it is. &amp;#x200B; We followed it for hours and turned the day into a road trip. We crossed the state line into West Virginia somewhere in the afternoon, and Lynn didn t seem to mind. She made an adventure out of it. Between my spontaneous bouts of nausea and confusion, I enjoyed her company. Not to mention the snacks she got us. As the sky started to darken, I figured she d have us turn around, or look for a motel. But no, she kept going. I could feel the point in the distance shift faster and faster; we were getting closer. There was something there. Something that made the shaking fade, and clarity return. A piece of me settling back to where it ought to be. We ended up going down a long gravel road. Every twist and turn came suddenly, forcing us to crawl at a snail s pace. Lynn didn t seem to mind though. She d put on some John Denver and had her own little sing-along. You don t have to do this, I said. We could be here all night. That s okay, she smiled. You sure? A fourth date is a fourth date. I m sure you ve had better. I ve had worse. &amp;#x200B; As the gravel road turned to dirt and came to a stop, I could feel we were getting close. I tried to explain it, but I couldn t find the words. It was like a spot of nothing, growing bigger. If I could just get there I had this aching feeling that everything would, in one way or another, turn out okay. Lynn stopped to get her hiking pack, and that was that. Off we went. We wandered through the wild forest. There were no trails, no leads. It was just us, and a vague sense of direction. Lynn didn t seem to mind; she had both a compass, satellite phone, and all kinds of tools. &amp;#x200B; Two hours of dark nothing, and suddenly, light. It was almost midnight by then. A starlit sky opened as we stepped onto the top of a short ridge overlooking a lake. I could see almost all the way around it from there. In the distance, I spotted a few boats. Fishermen. It was all quiet. No matter the direction I looked, it was all just quiet. I looked at Lynn and laughed. I was so relieved that I couldn t express it. Like a muscle knot untying itself, or a massive headache just melting away. Like putting a soothing balm on my soul. I gave her a big hug, and she returned it in kind. I don t know why, but this is it, I smiled. This is it. The spot. I think we re in, uh Greenbrier County? That someplace special to you? Never been here before. Well then. &amp;#x200B; I sat down and took in the scene. No humming. No whispers. No cold creeping along my spine. Just the silent night and distant lights from stars and fishermen. You want some soup? Lynn asked. I got a thermos. When did you- Got it in my pack, she smiled. Want some? Yeah, I nodded. That d be great. She poured me a cup and handed it over. My eyes drifted upwards. &amp;#x200B; Something red, moving across the sky. &amp;#x200B; I shook my head and turned away. My pulse started beating, and I dropped my cup of soup. I tapped the side of my head, as if trying to realign an antenna. Lynn put a hand on my shoulder. You okay? The red in the sky. The red eye. I could feel it. I scrunched my face as hard as I could, telling myself it was all gonna pass. Telling myself it was over. I d won, and this was just an aftershock. Then, Lynn spoke up. Is that a plane? She saw it too. &amp;#x200B; I looked back at Lynn, seeing a red gleam in her eyes; a reflection of what loomed overhead. The joy faded from her. She could feel it too; something was wrong. A reflex in me made me look up. A stupid, inane little reflex. A red swirl in the distant sky; a sailing star. Long out of reach. My breath grew shallow as I realized I couldn t look away. Everything else faded as my sight was slowly swallowed by that distant vision. Lynn? Lynn! I called out, waving my hands behind me. Don t don t let it take- I felt her fingers brush against mine as the rumbling began. But this time, it was different. &amp;#x200B; It was a pulse. A pulse so powerful that my left eardrum immediately burst; leaving me screaming like a child on the ground. It burned me to my core, wrapping itself around my spine and squeezing; forcing these guttural sounds up through my esophagus. Somewhere far away, I could feel Lynn shaking me. But all I could focus on was that red dot in the sky. It resonated with me. With my every pulse, it pulsed back. Our duet. Our signal. I choked on my lungs, spitting up single syllables like a hiccup. I. See. You. &amp;#x200B; It grew faster, and faster. Turning from three syllables to two. And, gradually, just a sound. I. See. You. Isee. You Iee. Oo. Ee. Oo. &amp;#x200B; Until finally, all that remained was a single word. The name, the signal, the thing. Eo. Eo. Eo. And with every beat of my heart, the thing in the sky started to turn . &amp;#x200B; I could hear Lynn in the distance, as through a pane of thick glass. I heard her worry. Screaming. Fumbling to connect her satellite phone, only to be met with a pulsing static. She tried dragging me away but was shocked with a burst of static electricity. Every hair on my body stood at attention, reaching for the stars, letting every little breeze cut right through me. The red thing grew bigger. That something. A dust particle of the infinite; heading our way. It was a matter of minutes. Using a rope from her pack, Lynn managed to get a lasso hold of my legs. She dragged me away, but it was too late. It was like my nightmares. Something distant and red growing bigger; swallowing everything. Eo. Eo. Eo. &amp;#x200B; In the moment of impact, something burst inside me. I coughed up something black and viscous. Perhaps it was the connection that tied me to this thing to begin with. Maybe it marked me at birth to demand a favor somewhere down the line. Maybe this was all something cashing in on my life. The sky burned my retinas, but only for a heartbeat. In nothing but a moment, the sky went from burning red to nothing. The ground shook. There was steam, and so much cold air was pushed out that Lynn was knocked off her feet. The red thing was shaped like a wedge. It came down at an angle, roughly the size of a school bus. It tore into the lake, cutting up a wound in the earth itself. Effectively cracking a hole in the ground, revealing some sort of cave system underneath. In a matter of minutes, the entire lake was laid bare; all water drained into the caves beneath. What little remained of the red thing turned to ash. Red, swirling, ash. &amp;#x200B; Lynn propped me up against a tree. My head was ringing like a bell. My vision slowly returned, as the pulse subsided. The black viscous blob I coughed up quickly dried up into a powder, turning into flakes of metal. I tried to talk, but couldn t form the words. I couldn t hear myself. I was so disoriented that my body couldn t understand whether I was breathing or not, making me light-headed. Leaning against the tree, I forced myself up. I had to see the aftermath. An entire lake, drained in seconds. I could only see little parts of the fishermen s boats; some of which had been blown into the surrounding trees. There was no way they would ve survived. Much like the remaining fish, flopping about in the mud. I turned to Lynn, trying my best to speak. My body recognized all the physical sensations of speech, but couldn t form the words. Using my fingers, I gave her numbers. I pointed to her satellite phone. We had to call goddamn everyone. The Army Corps, NOAA, the EPA, the Division of Natural Resources. Hell, I had to call my boss at the USGS. Everyone. We needed everyone. So we called them, one by one. &amp;#x200B; And that was that. For me, at least, things were finally at peace. I couldn t feel it anymore. Maybe I d served my purpose and paid my debt, in a way. Over time, my eardrums would heal. Turns out I also had a fractured rib, and two throat ulcers. Still, I could overcome it. The whole situation was just absurd. There were reports of a small geological event without anyone mentioning the goddamn meteor that changed course to hit us. Coincidentally, there were also reports of escaped convicts . Residents were asked to stay inside. &amp;#x200B; Despite having called literally everyone I could think of, I wasn t allowed anywhere near the site. I got no updates, no debriefing, nothing. The only thing I got was one of the corporate landowners telling me I d been trouble enough . That line alone tells me they know something I don t, and it bothers me still. But there are only so many brick walls you can beat your head against. At some point, you get too dumb to care. That s where I m at now. The past few years, I ve been able to look into the sky without a twitch of a care. I ve looked at Jupiter countless times, and I can t even imagine what I used to see anymore. I know there s something there, but it s like a filter. Something in my mind can t look past it anymore. And Lynn? Well, it was her idea to write this down. She thinks there are people out there who might ve seen something about this. Other perspectives. We know for a fact that there was a cover-up at the local news station, and someone must ve been down at the lake. For me, the only thing that still remains in me is that word. That strange sound, meaning nothing, and everything. Like something out of a dead language, begging to return. I can say it a hundred times, but there s no point anymore. It feels like it has burned out of me. There s nothing left to make it sound true. Eo. Just a noise. &amp;#x200B; I hope someone out there can make use of the truth. Get some kind of closure. As Lynn and I are expecting our second daughter any day now, I feel like this chapter needs to be closed once and for all. And no. She won t be born under the stars.\n",
      "25206\n"
     ]
    }
   ],
   "source": [
    "strlen = 0\n",
    "text = \"\"\n",
    "for y in data:\n",
    "    if (strlen < len(y)):\n",
    "        strlen=len(y)\n",
    "        text = y\n",
    "print(text)\n",
    "print(strlen)"
   ]
  },
  {
   "cell_type": "code",
   "execution_count": 19,
   "metadata": {},
   "outputs": [
    {
     "name": "stderr",
     "output_type": "stream",
     "text": [
      "2023-09-01 14:01:35,508 - top2vec - INFO - Pre-processing documents for training\n",
      "2023-09-01 14:01:35,642 - top2vec - INFO - Creating joint document/word embedding\n",
      "2023-09-01 14:01:37,605 - top2vec - INFO - Creating lower dimension embedding of documents\n",
      "2023-09-01 14:01:40,056 - top2vec - INFO - Finding dense areas of documents\n"
     ]
    },
    {
     "ename": "TypeError",
     "evalue": "'numpy.float64' object cannot be interpreted as an integer",
     "output_type": "error",
     "traceback": [
      "\u001b[1;31m---------------------------------------------------------------------------\u001b[0m",
      "\u001b[1;31mTypeError\u001b[0m                                 Traceback (most recent call last)",
      "Cell \u001b[1;32mIn[19], line 2\u001b[0m\n\u001b[0;32m      1\u001b[0m \u001b[39mfrom\u001b[39;00m \u001b[39mtop2vec\u001b[39;00m \u001b[39mimport\u001b[39;00m Top2Vec\n\u001b[1;32m----> 2\u001b[0m top2vec_model \u001b[39m=\u001b[39m Top2Vec(data)\n",
      "File \u001b[1;32m~\\AppData\\Local\\Packages\\PythonSoftwareFoundation.Python.3.11_qbz5n2kfra8p0\\LocalCache\\local-packages\\Python311\\site-packages\\top2vec\\Top2Vec.py:666\u001b[0m, in \u001b[0;36mTop2Vec.__init__\u001b[1;34m(self, documents, min_count, topic_merge_delta, ngram_vocab, ngram_vocab_args, embedding_model, embedding_model_path, embedding_batch_size, split_documents, document_chunker, chunk_length, max_num_chunks, chunk_overlap_ratio, chunk_len_coverage_ratio, sentencizer, speed, use_corpus_file, document_ids, keep_documents, workers, tokenizer, use_embedding_model_tokenizer, umap_args, hdbscan_args, verbose)\u001b[0m\n\u001b[0;32m    663\u001b[0m \u001b[39melse\u001b[39;00m:\n\u001b[0;32m    664\u001b[0m     \u001b[39mraise\u001b[39;00m \u001b[39mValueError\u001b[39;00m(\u001b[39mf\u001b[39m\u001b[39m\"\u001b[39m\u001b[39m{\u001b[39;00membedding_model\u001b[39m}\u001b[39;00m\u001b[39m is an invalid embedding model.\u001b[39m\u001b[39m\"\u001b[39m)\n\u001b[1;32m--> 666\u001b[0m \u001b[39mself\u001b[39;49m\u001b[39m.\u001b[39;49mcompute_topics(umap_args\u001b[39m=\u001b[39;49mumap_args, hdbscan_args\u001b[39m=\u001b[39;49mhdbscan_args, topic_merge_delta\u001b[39m=\u001b[39;49mtopic_merge_delta)\n\u001b[0;32m    668\u001b[0m \u001b[39m# initialize document indexing variables\u001b[39;00m\n\u001b[0;32m    669\u001b[0m \u001b[39mself\u001b[39m\u001b[39m.\u001b[39mdocument_index \u001b[39m=\u001b[39m \u001b[39mNone\u001b[39;00m\n",
      "File \u001b[1;32m~\\AppData\\Local\\Packages\\PythonSoftwareFoundation.Python.3.11_qbz5n2kfra8p0\\LocalCache\\local-packages\\Python311\\site-packages\\top2vec\\Top2Vec.py:1266\u001b[0m, in \u001b[0;36mTop2Vec.compute_topics\u001b[1;34m(self, umap_args, hdbscan_args, topic_merge_delta)\u001b[0m\n\u001b[0;32m   1261\u001b[0m \u001b[39mif\u001b[39;00m hdbscan_args \u001b[39mis\u001b[39;00m \u001b[39mNone\u001b[39;00m:\n\u001b[0;32m   1262\u001b[0m     hdbscan_args \u001b[39m=\u001b[39m {\u001b[39m'\u001b[39m\u001b[39mmin_cluster_size\u001b[39m\u001b[39m'\u001b[39m: \u001b[39m15\u001b[39m,\n\u001b[0;32m   1263\u001b[0m                     \u001b[39m'\u001b[39m\u001b[39mmetric\u001b[39m\u001b[39m'\u001b[39m: \u001b[39m'\u001b[39m\u001b[39meuclidean\u001b[39m\u001b[39m'\u001b[39m,\n\u001b[0;32m   1264\u001b[0m                     \u001b[39m'\u001b[39m\u001b[39mcluster_selection_method\u001b[39m\u001b[39m'\u001b[39m: \u001b[39m'\u001b[39m\u001b[39meom\u001b[39m\u001b[39m'\u001b[39m}\n\u001b[1;32m-> 1266\u001b[0m cluster \u001b[39m=\u001b[39m hdbscan\u001b[39m.\u001b[39;49mHDBSCAN(\u001b[39m*\u001b[39;49m\u001b[39m*\u001b[39;49mhdbscan_args)\u001b[39m.\u001b[39;49mfit(umap_model\u001b[39m.\u001b[39;49membedding_)\n\u001b[0;32m   1268\u001b[0m \u001b[39m# calculate topic vectors from dense areas of documents\u001b[39;00m\n\u001b[0;32m   1269\u001b[0m logger\u001b[39m.\u001b[39minfo(\u001b[39m'\u001b[39m\u001b[39mFinding topics\u001b[39m\u001b[39m'\u001b[39m)\n",
      "File \u001b[1;32m~\\AppData\\Local\\Packages\\PythonSoftwareFoundation.Python.3.11_qbz5n2kfra8p0\\LocalCache\\local-packages\\Python311\\site-packages\\hdbscan\\hdbscan_.py:1205\u001b[0m, in \u001b[0;36mHDBSCAN.fit\u001b[1;34m(self, X, y)\u001b[0m\n\u001b[0;32m   1195\u001b[0m kwargs\u001b[39m.\u001b[39mpop(\u001b[39m\"\u001b[39m\u001b[39mprediction_data\u001b[39m\u001b[39m\"\u001b[39m, \u001b[39mNone\u001b[39;00m)\n\u001b[0;32m   1196\u001b[0m kwargs\u001b[39m.\u001b[39mupdate(\u001b[39mself\u001b[39m\u001b[39m.\u001b[39m_metric_kwargs)\n\u001b[0;32m   1198\u001b[0m (\n\u001b[0;32m   1199\u001b[0m     \u001b[39mself\u001b[39m\u001b[39m.\u001b[39mlabels_,\n\u001b[0;32m   1200\u001b[0m     \u001b[39mself\u001b[39m\u001b[39m.\u001b[39mprobabilities_,\n\u001b[0;32m   1201\u001b[0m     \u001b[39mself\u001b[39m\u001b[39m.\u001b[39mcluster_persistence_,\n\u001b[0;32m   1202\u001b[0m     \u001b[39mself\u001b[39m\u001b[39m.\u001b[39m_condensed_tree,\n\u001b[0;32m   1203\u001b[0m     \u001b[39mself\u001b[39m\u001b[39m.\u001b[39m_single_linkage_tree,\n\u001b[0;32m   1204\u001b[0m     \u001b[39mself\u001b[39m\u001b[39m.\u001b[39m_min_spanning_tree,\n\u001b[1;32m-> 1205\u001b[0m ) \u001b[39m=\u001b[39m hdbscan(clean_data, \u001b[39m*\u001b[39;49m\u001b[39m*\u001b[39;49mkwargs)\n\u001b[0;32m   1207\u001b[0m \u001b[39mif\u001b[39;00m \u001b[39mself\u001b[39m\u001b[39m.\u001b[39mmetric \u001b[39m!=\u001b[39m \u001b[39m\"\u001b[39m\u001b[39mprecomputed\u001b[39m\u001b[39m\"\u001b[39m \u001b[39mand\u001b[39;00m \u001b[39mnot\u001b[39;00m \u001b[39mself\u001b[39m\u001b[39m.\u001b[39m_all_finite:\n\u001b[0;32m   1208\u001b[0m     \u001b[39m# remap indices to align with original data in the case of non-finite entries.\u001b[39;00m\n\u001b[0;32m   1209\u001b[0m     \u001b[39mself\u001b[39m\u001b[39m.\u001b[39m_condensed_tree \u001b[39m=\u001b[39m remap_condensed_tree(\n\u001b[0;32m   1210\u001b[0m         \u001b[39mself\u001b[39m\u001b[39m.\u001b[39m_condensed_tree, internal_to_raw, outliers\n\u001b[0;32m   1211\u001b[0m     )\n",
      "File \u001b[1;32m~\\AppData\\Local\\Packages\\PythonSoftwareFoundation.Python.3.11_qbz5n2kfra8p0\\LocalCache\\local-packages\\Python311\\site-packages\\hdbscan\\hdbscan_.py:884\u001b[0m, in \u001b[0;36mhdbscan\u001b[1;34m(X, min_cluster_size, min_samples, alpha, cluster_selection_epsilon, max_cluster_size, metric, p, leaf_size, algorithm, memory, approx_min_span_tree, gen_min_span_tree, core_dist_n_jobs, cluster_selection_method, allow_single_cluster, match_reference_implementation, **kwargs)\u001b[0m\n\u001b[0;32m    867\u001b[0m         \u001b[39melse\u001b[39;00m:\n\u001b[0;32m    868\u001b[0m             (single_linkage_tree, result_min_span_tree) \u001b[39m=\u001b[39m memory\u001b[39m.\u001b[39mcache(\n\u001b[0;32m    869\u001b[0m                 _hdbscan_boruvka_balltree\n\u001b[0;32m    870\u001b[0m             )(\n\u001b[1;32m   (...)\u001b[0m\n\u001b[0;32m    880\u001b[0m                 \u001b[39m*\u001b[39m\u001b[39m*\u001b[39mkwargs\n\u001b[0;32m    881\u001b[0m             )\n\u001b[0;32m    883\u001b[0m \u001b[39mreturn\u001b[39;00m (\n\u001b[1;32m--> 884\u001b[0m     _tree_to_labels(\n\u001b[0;32m    885\u001b[0m         X,\n\u001b[0;32m    886\u001b[0m         single_linkage_tree,\n\u001b[0;32m    887\u001b[0m         min_cluster_size,\n\u001b[0;32m    888\u001b[0m         cluster_selection_method,\n\u001b[0;32m    889\u001b[0m         allow_single_cluster,\n\u001b[0;32m    890\u001b[0m         match_reference_implementation,\n\u001b[0;32m    891\u001b[0m         cluster_selection_epsilon,\n\u001b[0;32m    892\u001b[0m         max_cluster_size,\n\u001b[0;32m    893\u001b[0m     )\n\u001b[0;32m    894\u001b[0m     \u001b[39m+\u001b[39m (result_min_span_tree,)\n\u001b[0;32m    895\u001b[0m )\n",
      "File \u001b[1;32m~\\AppData\\Local\\Packages\\PythonSoftwareFoundation.Python.3.11_qbz5n2kfra8p0\\LocalCache\\local-packages\\Python311\\site-packages\\hdbscan\\hdbscan_.py:78\u001b[0m, in \u001b[0;36m_tree_to_labels\u001b[1;34m(X, single_linkage_tree, min_cluster_size, cluster_selection_method, allow_single_cluster, match_reference_implementation, cluster_selection_epsilon, max_cluster_size)\u001b[0m\n\u001b[0;32m     65\u001b[0m \u001b[39mdef\u001b[39;00m \u001b[39m_tree_to_labels\u001b[39m(\n\u001b[0;32m     66\u001b[0m     X,\n\u001b[0;32m     67\u001b[0m     single_linkage_tree,\n\u001b[1;32m   (...)\u001b[0m\n\u001b[0;32m     73\u001b[0m     max_cluster_size\u001b[39m=\u001b[39m\u001b[39m0\u001b[39m,\n\u001b[0;32m     74\u001b[0m ):\n\u001b[0;32m     75\u001b[0m \u001b[39m    \u001b[39m\u001b[39m\"\"\"Converts a pretrained tree and cluster size into a\u001b[39;00m\n\u001b[0;32m     76\u001b[0m \u001b[39m    set of labels and probabilities.\u001b[39;00m\n\u001b[0;32m     77\u001b[0m \u001b[39m    \"\"\"\u001b[39;00m\n\u001b[1;32m---> 78\u001b[0m     condensed_tree \u001b[39m=\u001b[39m condense_tree(single_linkage_tree, min_cluster_size)\n\u001b[0;32m     79\u001b[0m     stability_dict \u001b[39m=\u001b[39m compute_stability(condensed_tree)\n\u001b[0;32m     80\u001b[0m     labels, probabilities, stabilities \u001b[39m=\u001b[39m get_clusters(\n\u001b[0;32m     81\u001b[0m         condensed_tree,\n\u001b[0;32m     82\u001b[0m         stability_dict,\n\u001b[1;32m   (...)\u001b[0m\n\u001b[0;32m     87\u001b[0m         max_cluster_size,\n\u001b[0;32m     88\u001b[0m     )\n",
      "File \u001b[1;32mhdbscan\\\\_hdbscan_tree.pyx:43\u001b[0m, in \u001b[0;36mhdbscan._hdbscan_tree.condense_tree\u001b[1;34m()\u001b[0m\n",
      "File \u001b[1;32mhdbscan\\\\_hdbscan_tree.pyx:109\u001b[0m, in \u001b[0;36mhdbscan._hdbscan_tree.condense_tree\u001b[1;34m()\u001b[0m\n",
      "\u001b[1;31mTypeError\u001b[0m: 'numpy.float64' object cannot be interpreted as an integer"
     ]
    }
   ],
   "source": [
    "from top2vec import Top2Vec\n",
    "top2vec_model = Top2Vec(data, embedding_model = \"doc2vec\")"
   ]
  },
  {
   "cell_type": "code",
   "execution_count": 14,
   "metadata": {},
   "outputs": [
    {
     "ename": "TypeError",
     "evalue": "'numpy.float64' object cannot be interpreted as an integer",
     "output_type": "error",
     "traceback": [
      "\u001b[1;31m---------------------------------------------------------------------------\u001b[0m",
      "\u001b[1;31mTypeError\u001b[0m                                 Traceback (most recent call last)",
      "File \u001b[1;32m~\\AppData\\Local\\Packages\\PythonSoftwareFoundation.Python.3.11_qbz5n2kfra8p0\\LocalCache\\local-packages\\Python311\\site-packages\\bertopic\\_bertopic.py:3218\u001b[0m, in \u001b[0;36mBERTopic._cluster_embeddings\u001b[1;34m(self, umap_embeddings, documents, partial_fit, y)\u001b[0m\n\u001b[0;32m   3217\u001b[0m \u001b[39mtry\u001b[39;00m:\n\u001b[1;32m-> 3218\u001b[0m     \u001b[39mself\u001b[39;49m\u001b[39m.\u001b[39;49mhdbscan_model\u001b[39m.\u001b[39;49mfit(umap_embeddings, y\u001b[39m=\u001b[39;49my)\n\u001b[0;32m   3219\u001b[0m \u001b[39mexcept\u001b[39;00m \u001b[39mTypeError\u001b[39;00m:\n",
      "File \u001b[1;32m~\\AppData\\Local\\Packages\\PythonSoftwareFoundation.Python.3.11_qbz5n2kfra8p0\\LocalCache\\local-packages\\Python311\\site-packages\\hdbscan\\hdbscan_.py:1205\u001b[0m, in \u001b[0;36mHDBSCAN.fit\u001b[1;34m(self, X, y)\u001b[0m\n\u001b[0;32m   1196\u001b[0m kwargs\u001b[39m.\u001b[39mupdate(\u001b[39mself\u001b[39m\u001b[39m.\u001b[39m_metric_kwargs)\n\u001b[0;32m   1198\u001b[0m (\n\u001b[0;32m   1199\u001b[0m     \u001b[39mself\u001b[39m\u001b[39m.\u001b[39mlabels_,\n\u001b[0;32m   1200\u001b[0m     \u001b[39mself\u001b[39m\u001b[39m.\u001b[39mprobabilities_,\n\u001b[0;32m   1201\u001b[0m     \u001b[39mself\u001b[39m\u001b[39m.\u001b[39mcluster_persistence_,\n\u001b[0;32m   1202\u001b[0m     \u001b[39mself\u001b[39m\u001b[39m.\u001b[39m_condensed_tree,\n\u001b[0;32m   1203\u001b[0m     \u001b[39mself\u001b[39m\u001b[39m.\u001b[39m_single_linkage_tree,\n\u001b[0;32m   1204\u001b[0m     \u001b[39mself\u001b[39m\u001b[39m.\u001b[39m_min_spanning_tree,\n\u001b[1;32m-> 1205\u001b[0m ) \u001b[39m=\u001b[39m hdbscan(clean_data, \u001b[39m*\u001b[39;49m\u001b[39m*\u001b[39;49mkwargs)\n\u001b[0;32m   1207\u001b[0m \u001b[39mif\u001b[39;00m \u001b[39mself\u001b[39m\u001b[39m.\u001b[39mmetric \u001b[39m!=\u001b[39m \u001b[39m\"\u001b[39m\u001b[39mprecomputed\u001b[39m\u001b[39m\"\u001b[39m \u001b[39mand\u001b[39;00m \u001b[39mnot\u001b[39;00m \u001b[39mself\u001b[39m\u001b[39m.\u001b[39m_all_finite:\n\u001b[0;32m   1208\u001b[0m     \u001b[39m# remap indices to align with original data in the case of non-finite entries.\u001b[39;00m\n",
      "File \u001b[1;32m~\\AppData\\Local\\Packages\\PythonSoftwareFoundation.Python.3.11_qbz5n2kfra8p0\\LocalCache\\local-packages\\Python311\\site-packages\\hdbscan\\hdbscan_.py:884\u001b[0m, in \u001b[0;36mhdbscan\u001b[1;34m(X, min_cluster_size, min_samples, alpha, cluster_selection_epsilon, max_cluster_size, metric, p, leaf_size, algorithm, memory, approx_min_span_tree, gen_min_span_tree, core_dist_n_jobs, cluster_selection_method, allow_single_cluster, match_reference_implementation, **kwargs)\u001b[0m\n\u001b[0;32m    868\u001b[0m             (single_linkage_tree, result_min_span_tree) \u001b[39m=\u001b[39m memory\u001b[39m.\u001b[39mcache(\n\u001b[0;32m    869\u001b[0m                 _hdbscan_boruvka_balltree\n\u001b[0;32m    870\u001b[0m             )(\n\u001b[1;32m   (...)\u001b[0m\n\u001b[0;32m    880\u001b[0m                 \u001b[39m*\u001b[39m\u001b[39m*\u001b[39mkwargs\n\u001b[0;32m    881\u001b[0m             )\n\u001b[0;32m    883\u001b[0m \u001b[39mreturn\u001b[39;00m (\n\u001b[1;32m--> 884\u001b[0m     _tree_to_labels(\n\u001b[0;32m    885\u001b[0m         X,\n\u001b[0;32m    886\u001b[0m         single_linkage_tree,\n\u001b[0;32m    887\u001b[0m         min_cluster_size,\n\u001b[0;32m    888\u001b[0m         cluster_selection_method,\n\u001b[0;32m    889\u001b[0m         allow_single_cluster,\n\u001b[0;32m    890\u001b[0m         match_reference_implementation,\n\u001b[0;32m    891\u001b[0m         cluster_selection_epsilon,\n\u001b[0;32m    892\u001b[0m         max_cluster_size,\n\u001b[0;32m    893\u001b[0m     )\n\u001b[0;32m    894\u001b[0m     \u001b[39m+\u001b[39m (result_min_span_tree,)\n\u001b[0;32m    895\u001b[0m )\n",
      "File \u001b[1;32m~\\AppData\\Local\\Packages\\PythonSoftwareFoundation.Python.3.11_qbz5n2kfra8p0\\LocalCache\\local-packages\\Python311\\site-packages\\hdbscan\\hdbscan_.py:78\u001b[0m, in \u001b[0;36m_tree_to_labels\u001b[1;34m(X, single_linkage_tree, min_cluster_size, cluster_selection_method, allow_single_cluster, match_reference_implementation, cluster_selection_epsilon, max_cluster_size)\u001b[0m\n\u001b[0;32m     75\u001b[0m \u001b[39m\u001b[39m\u001b[39m\"\"\"Converts a pretrained tree and cluster size into a\u001b[39;00m\n\u001b[0;32m     76\u001b[0m \u001b[39mset of labels and probabilities.\u001b[39;00m\n\u001b[0;32m     77\u001b[0m \u001b[39m\"\"\"\u001b[39;00m\n\u001b[1;32m---> 78\u001b[0m condensed_tree \u001b[39m=\u001b[39m condense_tree(single_linkage_tree, min_cluster_size)\n\u001b[0;32m     79\u001b[0m stability_dict \u001b[39m=\u001b[39m compute_stability(condensed_tree)\n",
      "File \u001b[1;32mhdbscan\\\\_hdbscan_tree.pyx:43\u001b[0m, in \u001b[0;36mhdbscan._hdbscan_tree.condense_tree\u001b[1;34m()\u001b[0m\n",
      "File \u001b[1;32mhdbscan\\\\_hdbscan_tree.pyx:109\u001b[0m, in \u001b[0;36mhdbscan._hdbscan_tree.condense_tree\u001b[1;34m()\u001b[0m\n",
      "\u001b[1;31mTypeError\u001b[0m: 'numpy.float64' object cannot be interpreted as an integer",
      "\nDuring handling of the above exception, another exception occurred:\n",
      "\u001b[1;31mTypeError\u001b[0m                                 Traceback (most recent call last)",
      "Cell \u001b[1;32mIn[14], line 22\u001b[0m\n\u001b[0;32m     17\u001b[0m \u001b[39m#representation_model = MaximalMarginalRelevance(diversity=0.2)\u001b[39;00m\n\u001b[0;32m     18\u001b[0m \n\u001b[0;32m     19\u001b[0m \u001b[39m#topic_model = BERTopic()\u001b[39;00m\n\u001b[0;32m     20\u001b[0m \u001b[39m#topic_model = BERTopic(umap_model=umap_model,hdbscan_model=cluster_model,vectorizer_model=vectorizer_model,ctfidf_model=ctfidf_model, representation_model=representation_model)\u001b[39;00m\n\u001b[0;32m     21\u001b[0m topic_model \u001b[39m=\u001b[39m BERTopic(umap_model\u001b[39m=\u001b[39mumap_model)\n\u001b[1;32m---> 22\u001b[0m topics, probs \u001b[39m=\u001b[39m topic_model\u001b[39m.\u001b[39;49mfit_transform(data)\n",
      "File \u001b[1;32m~\\AppData\\Local\\Packages\\PythonSoftwareFoundation.Python.3.11_qbz5n2kfra8p0\\LocalCache\\local-packages\\Python311\\site-packages\\bertopic\\_bertopic.py:389\u001b[0m, in \u001b[0;36mBERTopic.fit_transform\u001b[1;34m(self, documents, embeddings, images, y)\u001b[0m\n\u001b[0;32m    386\u001b[0m umap_embeddings \u001b[39m=\u001b[39m \u001b[39mself\u001b[39m\u001b[39m.\u001b[39m_reduce_dimensionality(embeddings, y)\n\u001b[0;32m    388\u001b[0m \u001b[39m# Cluster reduced embeddings\u001b[39;00m\n\u001b[1;32m--> 389\u001b[0m documents, probabilities \u001b[39m=\u001b[39m \u001b[39mself\u001b[39;49m\u001b[39m.\u001b[39;49m_cluster_embeddings(umap_embeddings, documents, y\u001b[39m=\u001b[39;49my)\n\u001b[0;32m    391\u001b[0m \u001b[39m# Sort and Map Topic IDs by their frequency\u001b[39;00m\n\u001b[0;32m    392\u001b[0m \u001b[39mif\u001b[39;00m \u001b[39mnot\u001b[39;00m \u001b[39mself\u001b[39m\u001b[39m.\u001b[39mnr_topics:\n",
      "File \u001b[1;32m~\\AppData\\Local\\Packages\\PythonSoftwareFoundation.Python.3.11_qbz5n2kfra8p0\\LocalCache\\local-packages\\Python311\\site-packages\\bertopic\\_bertopic.py:3220\u001b[0m, in \u001b[0;36mBERTopic._cluster_embeddings\u001b[1;34m(self, umap_embeddings, documents, partial_fit, y)\u001b[0m\n\u001b[0;32m   3218\u001b[0m     \u001b[39mself\u001b[39m\u001b[39m.\u001b[39mhdbscan_model\u001b[39m.\u001b[39mfit(umap_embeddings, y\u001b[39m=\u001b[39my)\n\u001b[0;32m   3219\u001b[0m \u001b[39mexcept\u001b[39;00m \u001b[39mTypeError\u001b[39;00m:\n\u001b[1;32m-> 3220\u001b[0m     \u001b[39mself\u001b[39;49m\u001b[39m.\u001b[39;49mhdbscan_model\u001b[39m.\u001b[39;49mfit(umap_embeddings)\n\u001b[0;32m   3222\u001b[0m \u001b[39mtry\u001b[39;00m:\n\u001b[0;32m   3223\u001b[0m     labels \u001b[39m=\u001b[39m \u001b[39mself\u001b[39m\u001b[39m.\u001b[39mhdbscan_model\u001b[39m.\u001b[39mlabels_\n",
      "File \u001b[1;32m~\\AppData\\Local\\Packages\\PythonSoftwareFoundation.Python.3.11_qbz5n2kfra8p0\\LocalCache\\local-packages\\Python311\\site-packages\\hdbscan\\hdbscan_.py:1205\u001b[0m, in \u001b[0;36mHDBSCAN.fit\u001b[1;34m(self, X, y)\u001b[0m\n\u001b[0;32m   1195\u001b[0m kwargs\u001b[39m.\u001b[39mpop(\u001b[39m\"\u001b[39m\u001b[39mprediction_data\u001b[39m\u001b[39m\"\u001b[39m, \u001b[39mNone\u001b[39;00m)\n\u001b[0;32m   1196\u001b[0m kwargs\u001b[39m.\u001b[39mupdate(\u001b[39mself\u001b[39m\u001b[39m.\u001b[39m_metric_kwargs)\n\u001b[0;32m   1198\u001b[0m (\n\u001b[0;32m   1199\u001b[0m     \u001b[39mself\u001b[39m\u001b[39m.\u001b[39mlabels_,\n\u001b[0;32m   1200\u001b[0m     \u001b[39mself\u001b[39m\u001b[39m.\u001b[39mprobabilities_,\n\u001b[0;32m   1201\u001b[0m     \u001b[39mself\u001b[39m\u001b[39m.\u001b[39mcluster_persistence_,\n\u001b[0;32m   1202\u001b[0m     \u001b[39mself\u001b[39m\u001b[39m.\u001b[39m_condensed_tree,\n\u001b[0;32m   1203\u001b[0m     \u001b[39mself\u001b[39m\u001b[39m.\u001b[39m_single_linkage_tree,\n\u001b[0;32m   1204\u001b[0m     \u001b[39mself\u001b[39m\u001b[39m.\u001b[39m_min_spanning_tree,\n\u001b[1;32m-> 1205\u001b[0m ) \u001b[39m=\u001b[39m hdbscan(clean_data, \u001b[39m*\u001b[39;49m\u001b[39m*\u001b[39;49mkwargs)\n\u001b[0;32m   1207\u001b[0m \u001b[39mif\u001b[39;00m \u001b[39mself\u001b[39m\u001b[39m.\u001b[39mmetric \u001b[39m!=\u001b[39m \u001b[39m\"\u001b[39m\u001b[39mprecomputed\u001b[39m\u001b[39m\"\u001b[39m \u001b[39mand\u001b[39;00m \u001b[39mnot\u001b[39;00m \u001b[39mself\u001b[39m\u001b[39m.\u001b[39m_all_finite:\n\u001b[0;32m   1208\u001b[0m     \u001b[39m# remap indices to align with original data in the case of non-finite entries.\u001b[39;00m\n\u001b[0;32m   1209\u001b[0m     \u001b[39mself\u001b[39m\u001b[39m.\u001b[39m_condensed_tree \u001b[39m=\u001b[39m remap_condensed_tree(\n\u001b[0;32m   1210\u001b[0m         \u001b[39mself\u001b[39m\u001b[39m.\u001b[39m_condensed_tree, internal_to_raw, outliers\n\u001b[0;32m   1211\u001b[0m     )\n",
      "File \u001b[1;32m~\\AppData\\Local\\Packages\\PythonSoftwareFoundation.Python.3.11_qbz5n2kfra8p0\\LocalCache\\local-packages\\Python311\\site-packages\\hdbscan\\hdbscan_.py:884\u001b[0m, in \u001b[0;36mhdbscan\u001b[1;34m(X, min_cluster_size, min_samples, alpha, cluster_selection_epsilon, max_cluster_size, metric, p, leaf_size, algorithm, memory, approx_min_span_tree, gen_min_span_tree, core_dist_n_jobs, cluster_selection_method, allow_single_cluster, match_reference_implementation, **kwargs)\u001b[0m\n\u001b[0;32m    867\u001b[0m         \u001b[39melse\u001b[39;00m:\n\u001b[0;32m    868\u001b[0m             (single_linkage_tree, result_min_span_tree) \u001b[39m=\u001b[39m memory\u001b[39m.\u001b[39mcache(\n\u001b[0;32m    869\u001b[0m                 _hdbscan_boruvka_balltree\n\u001b[0;32m    870\u001b[0m             )(\n\u001b[1;32m   (...)\u001b[0m\n\u001b[0;32m    880\u001b[0m                 \u001b[39m*\u001b[39m\u001b[39m*\u001b[39mkwargs\n\u001b[0;32m    881\u001b[0m             )\n\u001b[0;32m    883\u001b[0m \u001b[39mreturn\u001b[39;00m (\n\u001b[1;32m--> 884\u001b[0m     _tree_to_labels(\n\u001b[0;32m    885\u001b[0m         X,\n\u001b[0;32m    886\u001b[0m         single_linkage_tree,\n\u001b[0;32m    887\u001b[0m         min_cluster_size,\n\u001b[0;32m    888\u001b[0m         cluster_selection_method,\n\u001b[0;32m    889\u001b[0m         allow_single_cluster,\n\u001b[0;32m    890\u001b[0m         match_reference_implementation,\n\u001b[0;32m    891\u001b[0m         cluster_selection_epsilon,\n\u001b[0;32m    892\u001b[0m         max_cluster_size,\n\u001b[0;32m    893\u001b[0m     )\n\u001b[0;32m    894\u001b[0m     \u001b[39m+\u001b[39m (result_min_span_tree,)\n\u001b[0;32m    895\u001b[0m )\n",
      "File \u001b[1;32m~\\AppData\\Local\\Packages\\PythonSoftwareFoundation.Python.3.11_qbz5n2kfra8p0\\LocalCache\\local-packages\\Python311\\site-packages\\hdbscan\\hdbscan_.py:78\u001b[0m, in \u001b[0;36m_tree_to_labels\u001b[1;34m(X, single_linkage_tree, min_cluster_size, cluster_selection_method, allow_single_cluster, match_reference_implementation, cluster_selection_epsilon, max_cluster_size)\u001b[0m\n\u001b[0;32m     65\u001b[0m \u001b[39mdef\u001b[39;00m \u001b[39m_tree_to_labels\u001b[39m(\n\u001b[0;32m     66\u001b[0m     X,\n\u001b[0;32m     67\u001b[0m     single_linkage_tree,\n\u001b[1;32m   (...)\u001b[0m\n\u001b[0;32m     73\u001b[0m     max_cluster_size\u001b[39m=\u001b[39m\u001b[39m0\u001b[39m,\n\u001b[0;32m     74\u001b[0m ):\n\u001b[0;32m     75\u001b[0m \u001b[39m    \u001b[39m\u001b[39m\"\"\"Converts a pretrained tree and cluster size into a\u001b[39;00m\n\u001b[0;32m     76\u001b[0m \u001b[39m    set of labels and probabilities.\u001b[39;00m\n\u001b[0;32m     77\u001b[0m \u001b[39m    \"\"\"\u001b[39;00m\n\u001b[1;32m---> 78\u001b[0m     condensed_tree \u001b[39m=\u001b[39m condense_tree(single_linkage_tree, min_cluster_size)\n\u001b[0;32m     79\u001b[0m     stability_dict \u001b[39m=\u001b[39m compute_stability(condensed_tree)\n\u001b[0;32m     80\u001b[0m     labels, probabilities, stabilities \u001b[39m=\u001b[39m get_clusters(\n\u001b[0;32m     81\u001b[0m         condensed_tree,\n\u001b[0;32m     82\u001b[0m         stability_dict,\n\u001b[1;32m   (...)\u001b[0m\n\u001b[0;32m     87\u001b[0m         max_cluster_size,\n\u001b[0;32m     88\u001b[0m     )\n",
      "File \u001b[1;32mhdbscan\\\\_hdbscan_tree.pyx:43\u001b[0m, in \u001b[0;36mhdbscan._hdbscan_tree.condense_tree\u001b[1;34m()\u001b[0m\n",
      "File \u001b[1;32mhdbscan\\\\_hdbscan_tree.pyx:109\u001b[0m, in \u001b[0;36mhdbscan._hdbscan_tree.condense_tree\u001b[1;34m()\u001b[0m\n",
      "\u001b[1;31mTypeError\u001b[0m: 'numpy.float64' object cannot be interpreted as an integer"
     ]
    }
   ],
   "source": [
    "from bertopic import BERTopic\n",
    "from bertopic.representation import KeyBERTInspired\n",
    "from sklearn.feature_extraction.text import CountVectorizer\n",
    "from bertopic.vectorizers import ClassTfidfTransformer\n",
    "from sklearn.cluster import KMeans\n",
    "from bertopic.representation import MaximalMarginalRelevance\n",
    "from umap import UMAP\n",
    "from hdbscan import HDBSCAN\n",
    "\n",
    "hdbscan_model = HDBSCAN(min_cluster_size=10,min_samples=1, metric='euclidean', prediction_data=False)\n",
    "cluster_model = KMeans(n_clusters=20)\n",
    "umap_model = UMAP(n_neighbors=10, n_components=5, min_dist=0, metric='cosine', random_state=42)\n",
    "\n",
    "ctfidf_model = ClassTfidfTransformer(reduce_frequent_words=True)\n",
    "vectorizer_model = CountVectorizer(stop_words=\"english\",min_df=0.2)\n",
    "representation_model = KeyBERTInspired()\n",
    "#representation_model = MaximalMarginalRelevance(diversity=0.2)\n",
    "\n",
    "#topic_model = BERTopic()\n",
    "#topic_model = BERTopic(umap_model=umap_model,hdbscan_model=cluster_model,vectorizer_model=vectorizer_model,ctfidf_model=ctfidf_model, representation_model=representation_model)\n",
    "topic_model = BERTopic(umap_model=umap_model)\n",
    "topics, probs = topic_model.fit_transform(data)"
   ]
  },
  {
   "cell_type": "code",
   "execution_count": 5,
   "metadata": {},
   "outputs": [
    {
     "data": {
      "text/html": [
       "<div>\n",
       "<style scoped>\n",
       "    .dataframe tbody tr th:only-of-type {\n",
       "        vertical-align: middle;\n",
       "    }\n",
       "\n",
       "    .dataframe tbody tr th {\n",
       "        vertical-align: top;\n",
       "    }\n",
       "\n",
       "    .dataframe thead th {\n",
       "        text-align: right;\n",
       "    }\n",
       "</style>\n",
       "<table border=\"1\" class=\"dataframe\">\n",
       "  <thead>\n",
       "    <tr style=\"text-align: right;\">\n",
       "      <th></th>\n",
       "      <th>Topic</th>\n",
       "      <th>Count</th>\n",
       "      <th>Name</th>\n",
       "      <th>Representation</th>\n",
       "      <th>Representative_Docs</th>\n",
       "    </tr>\n",
       "  </thead>\n",
       "  <tbody>\n",
       "    <tr>\n",
       "      <th>0</th>\n",
       "      <td>0</td>\n",
       "      <td>56</td>\n",
       "      <td>0_to_and_he_my</td>\n",
       "      <td>[to, and, he, my, the, me, that, was, him, of]</td>\n",
       "      <td>[Was I groomed by my professor or am I over-re...</td>\n",
       "    </tr>\n",
       "    <tr>\n",
       "      <th>1</th>\n",
       "      <td>1</td>\n",
       "      <td>50</td>\n",
       "      <td>1_movies_movie_of_the</td>\n",
       "      <td>[movies, movie, of, the, is, and, film, are, w...</td>\n",
       "      <td>[What is your favorite movie that you also hea...</td>\n",
       "    </tr>\n",
       "    <tr>\n",
       "      <th>2</th>\n",
       "      <td>2</td>\n",
       "      <td>47</td>\n",
       "      <td>2_you_your_life_people</td>\n",
       "      <td>[you, your, life, people, to, of, are, tech, w...</td>\n",
       "      <td>[ WP Scientists soon discover that our inner d...</td>\n",
       "    </tr>\n",
       "    <tr>\n",
       "      <th>3</th>\n",
       "      <td>3</td>\n",
       "      <td>47</td>\n",
       "      <td>3_the_hunter_bingo_on</td>\n",
       "      <td>[the, hunter, bingo, on, in, and, species, gum...</td>\n",
       "      <td>[Still a work in progress after 12+ hours of s...</td>\n",
       "    </tr>\n",
       "    <tr>\n",
       "      <th>4</th>\n",
       "      <td>4</td>\n",
       "      <td>46</td>\n",
       "      <td>4_wagner_russian_ukraine_prigozhins</td>\n",
       "      <td>[wagner, russian, ukraine, prigozhins, ukraini...</td>\n",
       "      <td>[Top US general says Ukrainian forces have bro...</td>\n",
       "    </tr>\n",
       "    <tr>\n",
       "      <th>5</th>\n",
       "      <td>5</td>\n",
       "      <td>45</td>\n",
       "      <td>5_in_arrested_you_us</td>\n",
       "      <td>[in, arrested, you, us, police, maui, leaker, ...</td>\n",
       "      <td>[Two hurt in shooting at White Sox game, Chica...</td>\n",
       "    </tr>\n",
       "    <tr>\n",
       "      <th>6</th>\n",
       "      <td>6</td>\n",
       "      <td>40</td>\n",
       "      <td>6_the_of_game_to</td>\n",
       "      <td>[the, of, game, to, was, that, as, and, sarah,...</td>\n",
       "      <td>[hans zimmer praised the lion king video game'...</td>\n",
       "    </tr>\n",
       "    <tr>\n",
       "      <th>7</th>\n",
       "      <td>7</td>\n",
       "      <td>37</td>\n",
       "      <td>7_the_lynn_it_was</td>\n",
       "      <td>[the, lynn, it, was, of, my, that, to, and, me]</td>\n",
       "      <td>[Do you support your government using funds to...</td>\n",
       "    </tr>\n",
       "    <tr>\n",
       "      <th>8</th>\n",
       "      <td>8</td>\n",
       "      <td>37</td>\n",
       "      <td>8_the_and_of_my</td>\n",
       "      <td>[the, and, of, my, it, to, was, that, in, you]</td>\n",
       "      <td>[I worked as a ranger in one of the most haunt...</td>\n",
       "    </tr>\n",
       "    <tr>\n",
       "      <th>9</th>\n",
       "      <td>9</td>\n",
       "      <td>34</td>\n",
       "      <td>9_you_women_men_what</td>\n",
       "      <td>[you, women, men, what, ugly, accent, to, trea...</td>\n",
       "      <td>[Have you ever watched a movie with subtitled ...</td>\n",
       "    </tr>\n",
       "    <tr>\n",
       "      <th>10</th>\n",
       "      <td>10</td>\n",
       "      <td>34</td>\n",
       "      <td>10_the_to_and_ampx200b</td>\n",
       "      <td>[the, to, and, ampx200b, was, my, in, it, you,...</td>\n",
       "      <td>[Paradise Mall : Mannequins Hi everyone, I'm c...</td>\n",
       "    </tr>\n",
       "    <tr>\n",
       "      <th>11</th>\n",
       "      <td>11</td>\n",
       "      <td>33</td>\n",
       "      <td>11_to_and_job_lpt</td>\n",
       "      <td>[to, and, job, lpt, in, is, you, the, for, it]</td>\n",
       "      <td>[LPT Request: How to succeed in job interviews...</td>\n",
       "    </tr>\n",
       "    <tr>\n",
       "      <th>12</th>\n",
       "      <td>12</td>\n",
       "      <td>32</td>\n",
       "      <td>12_homemade_taste_milk_pizza</td>\n",
       "      <td>[homemade, taste, milk, pizza, how, is, chicke...</td>\n",
       "      <td>[A bitter taste in the mouth is often a sympto...</td>\n",
       "    </tr>\n",
       "    <tr>\n",
       "      <th>13</th>\n",
       "      <td>13</td>\n",
       "      <td>31</td>\n",
       "      <td>13_the_it_to_and</td>\n",
       "      <td>[the, it, to, and, my, but, of, can, they, me]</td>\n",
       "      <td>[LPT: When you are too tired to play with chil...</td>\n",
       "    </tr>\n",
       "    <tr>\n",
       "      <th>14</th>\n",
       "      <td>14</td>\n",
       "      <td>21</td>\n",
       "      <td>14_writers_history_america_guild</td>\n",
       "      <td>[writers, history, america, guild, firm, quest...</td>\n",
       "      <td>[Weekly History Questions Thread.  Welcome to ...</td>\n",
       "    </tr>\n",
       "    <tr>\n",
       "      <th>15</th>\n",
       "      <td>15</td>\n",
       "      <td>20</td>\n",
       "      <td>15_song_prog_songs_2023</td>\n",
       "      <td>[song, prog, songs, 2023, is, floyd, pink, and...</td>\n",
       "      <td>[Sog with abrupt and unexpected shift I've sco...</td>\n",
       "    </tr>\n",
       "    <tr>\n",
       "      <th>16</th>\n",
       "      <td>16</td>\n",
       "      <td>19</td>\n",
       "      <td>16_my_to_credit_bank</td>\n",
       "      <td>[my, to, credit, bank, and, the, on, have, car...</td>\n",
       "      <td>[Parents took out a loan for my brother years ...</td>\n",
       "    </tr>\n",
       "    <tr>\n",
       "      <th>17</th>\n",
       "      <td>17</td>\n",
       "      <td>16</td>\n",
       "      <td>17_and_to_the_of</td>\n",
       "      <td>[and, to, the, of, amy, book, in, that, is, la...</td>\n",
       "      <td>[I can't stop thinking about the ending of The...</td>\n",
       "    </tr>\n",
       "    <tr>\n",
       "      <th>18</th>\n",
       "      <td>18</td>\n",
       "      <td>14</td>\n",
       "      <td>18_code_models_llama_model</td>\n",
       "      <td>[code, models, llama, model, the, for, with, g...</td>\n",
       "      <td>[Code Llama , Lots of fanfare , but where are ...</td>\n",
       "    </tr>\n",
       "    <tr>\n",
       "      <th>19</th>\n",
       "      <td>19</td>\n",
       "      <td>13</td>\n",
       "      <td>19_rubiales_spanish_hermoso_luis</td>\n",
       "      <td>[rubiales, spanish, hermoso, luis, kiss, fifa,...</td>\n",
       "      <td>[Spanish FA to take legal action over Hermoso ...</td>\n",
       "    </tr>\n",
       "  </tbody>\n",
       "</table>\n",
       "</div>"
      ],
      "text/plain": [
       "    Topic  Count                                 Name  \\\n",
       "0       0     56                       0_to_and_he_my   \n",
       "1       1     50                1_movies_movie_of_the   \n",
       "2       2     47               2_you_your_life_people   \n",
       "3       3     47                3_the_hunter_bingo_on   \n",
       "4       4     46  4_wagner_russian_ukraine_prigozhins   \n",
       "5       5     45                 5_in_arrested_you_us   \n",
       "6       6     40                     6_the_of_game_to   \n",
       "7       7     37                    7_the_lynn_it_was   \n",
       "8       8     37                      8_the_and_of_my   \n",
       "9       9     34                 9_you_women_men_what   \n",
       "10     10     34               10_the_to_and_ampx200b   \n",
       "11     11     33                    11_to_and_job_lpt   \n",
       "12     12     32         12_homemade_taste_milk_pizza   \n",
       "13     13     31                     13_the_it_to_and   \n",
       "14     14     21     14_writers_history_america_guild   \n",
       "15     15     20              15_song_prog_songs_2023   \n",
       "16     16     19                 16_my_to_credit_bank   \n",
       "17     17     16                     17_and_to_the_of   \n",
       "18     18     14           18_code_models_llama_model   \n",
       "19     19     13     19_rubiales_spanish_hermoso_luis   \n",
       "\n",
       "                                       Representation  \\\n",
       "0      [to, and, he, my, the, me, that, was, him, of]   \n",
       "1   [movies, movie, of, the, is, and, film, are, w...   \n",
       "2   [you, your, life, people, to, of, are, tech, w...   \n",
       "3   [the, hunter, bingo, on, in, and, species, gum...   \n",
       "4   [wagner, russian, ukraine, prigozhins, ukraini...   \n",
       "5   [in, arrested, you, us, police, maui, leaker, ...   \n",
       "6   [the, of, game, to, was, that, as, and, sarah,...   \n",
       "7     [the, lynn, it, was, of, my, that, to, and, me]   \n",
       "8      [the, and, of, my, it, to, was, that, in, you]   \n",
       "9   [you, women, men, what, ugly, accent, to, trea...   \n",
       "10  [the, to, and, ampx200b, was, my, in, it, you,...   \n",
       "11     [to, and, job, lpt, in, is, you, the, for, it]   \n",
       "12  [homemade, taste, milk, pizza, how, is, chicke...   \n",
       "13     [the, it, to, and, my, but, of, can, they, me]   \n",
       "14  [writers, history, america, guild, firm, quest...   \n",
       "15  [song, prog, songs, 2023, is, floyd, pink, and...   \n",
       "16  [my, to, credit, bank, and, the, on, have, car...   \n",
       "17  [and, to, the, of, amy, book, in, that, is, la...   \n",
       "18  [code, models, llama, model, the, for, with, g...   \n",
       "19  [rubiales, spanish, hermoso, luis, kiss, fifa,...   \n",
       "\n",
       "                                  Representative_Docs  \n",
       "0   [Was I groomed by my professor or am I over-re...  \n",
       "1   [What is your favorite movie that you also hea...  \n",
       "2   [ WP Scientists soon discover that our inner d...  \n",
       "3   [Still a work in progress after 12+ hours of s...  \n",
       "4   [Top US general says Ukrainian forces have bro...  \n",
       "5   [Two hurt in shooting at White Sox game, Chica...  \n",
       "6   [hans zimmer praised the lion king video game'...  \n",
       "7   [Do you support your government using funds to...  \n",
       "8   [I worked as a ranger in one of the most haunt...  \n",
       "9   [Have you ever watched a movie with subtitled ...  \n",
       "10  [Paradise Mall : Mannequins Hi everyone, I'm c...  \n",
       "11  [LPT Request: How to succeed in job interviews...  \n",
       "12  [A bitter taste in the mouth is often a sympto...  \n",
       "13  [LPT: When you are too tired to play with chil...  \n",
       "14  [Weekly History Questions Thread.  Welcome to ...  \n",
       "15  [Sog with abrupt and unexpected shift I've sco...  \n",
       "16  [Parents took out a loan for my brother years ...  \n",
       "17  [I can't stop thinking about the ending of The...  \n",
       "18  [Code Llama , Lots of fanfare , but where are ...  \n",
       "19  [Spanish FA to take legal action over Hermoso ...  "
      ]
     },
     "execution_count": 5,
     "metadata": {},
     "output_type": "execute_result"
    }
   ],
   "source": [
    "topic_model.get_topic_info()"
   ]
  },
  {
   "cell_type": "code",
   "execution_count": null,
   "metadata": {},
   "outputs": [],
   "source": [
    "df = topic_model.get_topic_info(data)\n",
    "print(df[df['Topic'] == 3])"
   ]
  },
  {
   "cell_type": "code",
   "execution_count": 124,
   "metadata": {},
   "outputs": [
    {
     "ename": "ValueError",
     "evalue": "Mime type rendering requires nbformat>=4.2.0 but it is not installed",
     "output_type": "error",
     "traceback": [
      "\u001b[1;31m---------------------------------------------------------------------------\u001b[0m",
      "\u001b[1;31mValueError\u001b[0m                                Traceback (most recent call last)",
      "File \u001b[1;32m~\\AppData\\Local\\Packages\\PythonSoftwareFoundation.Python.3.11_qbz5n2kfra8p0\\LocalCache\\local-packages\\Python311\\site-packages\\IPython\\core\\formatters.py:922\u001b[0m, in \u001b[0;36mIPythonDisplayFormatter.__call__\u001b[1;34m(self, obj)\u001b[0m\n\u001b[0;32m    920\u001b[0m method \u001b[39m=\u001b[39m get_real_method(obj, \u001b[39mself\u001b[39m\u001b[39m.\u001b[39mprint_method)\n\u001b[0;32m    921\u001b[0m \u001b[39mif\u001b[39;00m method \u001b[39mis\u001b[39;00m \u001b[39mnot\u001b[39;00m \u001b[39mNone\u001b[39;00m:\n\u001b[1;32m--> 922\u001b[0m     method()\n\u001b[0;32m    923\u001b[0m     \u001b[39mreturn\u001b[39;00m \u001b[39mTrue\u001b[39;00m\n",
      "File \u001b[1;32m~\\AppData\\Local\\Packages\\PythonSoftwareFoundation.Python.3.11_qbz5n2kfra8p0\\LocalCache\\local-packages\\Python311\\site-packages\\plotly\\basedatatypes.py:834\u001b[0m, in \u001b[0;36mBaseFigure._ipython_display_\u001b[1;34m(self)\u001b[0m\n\u001b[0;32m    831\u001b[0m \u001b[39mimport\u001b[39;00m \u001b[39mplotly\u001b[39;00m\u001b[39m.\u001b[39;00m\u001b[39mio\u001b[39;00m \u001b[39mas\u001b[39;00m \u001b[39mpio\u001b[39;00m\n\u001b[0;32m    833\u001b[0m \u001b[39mif\u001b[39;00m pio\u001b[39m.\u001b[39mrenderers\u001b[39m.\u001b[39mrender_on_display \u001b[39mand\u001b[39;00m pio\u001b[39m.\u001b[39mrenderers\u001b[39m.\u001b[39mdefault:\n\u001b[1;32m--> 834\u001b[0m     pio\u001b[39m.\u001b[39;49mshow(\u001b[39mself\u001b[39;49m)\n\u001b[0;32m    835\u001b[0m \u001b[39melse\u001b[39;00m:\n\u001b[0;32m    836\u001b[0m     \u001b[39mprint\u001b[39m(\u001b[39mrepr\u001b[39m(\u001b[39mself\u001b[39m))\n",
      "File \u001b[1;32m~\\AppData\\Local\\Packages\\PythonSoftwareFoundation.Python.3.11_qbz5n2kfra8p0\\LocalCache\\local-packages\\Python311\\site-packages\\plotly\\io\\_renderers.py:396\u001b[0m, in \u001b[0;36mshow\u001b[1;34m(fig, renderer, validate, **kwargs)\u001b[0m\n\u001b[0;32m    391\u001b[0m         \u001b[39mraise\u001b[39;00m \u001b[39mValueError\u001b[39;00m(\n\u001b[0;32m    392\u001b[0m             \u001b[39m\"\u001b[39m\u001b[39mMime type rendering requires ipython but it is not installed\u001b[39m\u001b[39m\"\u001b[39m\n\u001b[0;32m    393\u001b[0m         )\n\u001b[0;32m    395\u001b[0m     \u001b[39mif\u001b[39;00m \u001b[39mnot\u001b[39;00m nbformat \u001b[39mor\u001b[39;00m Version(nbformat\u001b[39m.\u001b[39m__version__) \u001b[39m<\u001b[39m Version(\u001b[39m\"\u001b[39m\u001b[39m4.2.0\u001b[39m\u001b[39m\"\u001b[39m):\n\u001b[1;32m--> 396\u001b[0m         \u001b[39mraise\u001b[39;00m \u001b[39mValueError\u001b[39;00m(\n\u001b[0;32m    397\u001b[0m             \u001b[39m\"\u001b[39m\u001b[39mMime type rendering requires nbformat>=4.2.0 but it is not installed\u001b[39m\u001b[39m\"\u001b[39m\n\u001b[0;32m    398\u001b[0m         )\n\u001b[0;32m    400\u001b[0m     ipython_display\u001b[39m.\u001b[39mdisplay(bundle, raw\u001b[39m=\u001b[39m\u001b[39mTrue\u001b[39;00m)\n\u001b[0;32m    402\u001b[0m \u001b[39m# external renderers\u001b[39;00m\n",
      "\u001b[1;31mValueError\u001b[0m: Mime type rendering requires nbformat>=4.2.0 but it is not installed"
     ]
    },
    {
     "data": {
      "application/vnd.plotly.v1+json": {
       "config": {
        "plotlyServerURL": "https://plot.ly"
       },
       "data": [
        {
         "customdata": [
          [
           0,
           "the | it | of | my | and",
           88
          ],
          [
           1,
           "movies | the | movie | is | of",
           63
          ],
          [
           2,
           "to | job | you | in | lpt",
           54
          ],
          [
           3,
           "to | and | he | my | the",
           44
          ],
          [
           4,
           "homemade | taste | milk | pizza | how",
           32
          ],
          [
           5,
           "men | to | id | that | this",
           24
          ],
          [
           6,
           "song | prog | songs | 2023 | is",
           22
          ],
          [
           7,
           "game | games | of | video | one",
           22
          ],
          [
           8,
           "kitten | be | bunny | to | oc",
           19
          ],
          [
           9,
           "my | to | credit | bank | and",
           18
          ],
          [
           10,
           "oc | gummy | of | sea | park",
           18
          ],
          [
           11,
           "wagner | prigozhins | putin | allegiance | lukashenko",
           16
          ],
          [
           12,
           "code | models | llama | model | the",
           15
          ],
          [
           13,
           "and | to | the | book | of",
           15
          ],
          [
           14,
           "ampx200b | the | it | and | cohle",
           14
          ],
          [
           15,
           "ukraine | russian | forces | ukraines | ukrainian",
           13
          ],
          [
           16,
           "rubiales | spanish | hermoso | luis | kiss",
           13
          ],
          [
           17,
           "military | army | nigers | ambassador | 48",
           11
          ],
          [
           18,
           "and | the | to | in | was",
           11
          ],
          [
           19,
           "lunar | rover | power | countries | pragyan",
           10
          ]
         ],
         "hovertemplate": "<b>Topic %{customdata[0]}</b><br>%{customdata[1]}<br>Size: %{customdata[2]}",
         "legendgroup": "",
         "marker": {
          "color": "#B0BEC5",
          "line": {
           "color": "DarkSlateGrey",
           "width": 2
          },
          "size": [
           88,
           63,
           54,
           44,
           32,
           24,
           22,
           22,
           19,
           18,
           18,
           16,
           15,
           15,
           14,
           13,
           13,
           11,
           11,
           10
          ],
          "sizemode": "area",
          "sizeref": 0.055,
          "symbol": "circle"
         },
         "mode": "markers",
         "name": "",
         "orientation": "v",
         "showlegend": false,
         "type": "scatter",
         "x": [
          12.227668762207031,
          -8.419231414794922,
          11.888797760009766,
          12.832049369812012,
          13.827014923095703,
          13.651037216186523,
          -8.498494148254395,
          -9.3145751953125,
          12.201088905334473,
          12.73956298828125,
          12.379263877868652,
          -0.695073664188385,
          -9.107243537902832,
          -8.199213027954102,
          13.371941566467285,
          -0.8983356356620789,
          -0.4496837854385376,
          -1.0442376136779785,
          12.766459465026855,
          -1.2341614961624146
         ],
         "xaxis": "x",
         "y": [
          5.699496746063232,
          -1.818116307258606,
          5.956374645233154,
          6.487814426422119,
          5.659604072570801,
          6.24475622177124,
          -1.7377532720565796,
          -0.9318606853485107,
          5.117387294769287,
          6.850575923919678,
          4.81640100479126,
          -5.810573101043701,
          -1.1400257349014282,
          -2.037585735321045,
          5.907195091247559,
          -5.349014759063721,
          -6.2509260177612305,
          -4.951912879943848,
          6.0019001960754395,
          -4.7420549392700195
         ],
         "yaxis": "y"
        }
       ],
       "layout": {
        "annotations": [
         {
          "showarrow": false,
          "text": "D1",
          "x": -10.711761474609375,
          "y": 0.3447986960411069,
          "yshift": 10
         },
         {
          "showarrow": false,
          "text": "D2",
          "x": 2.594652843475342,
          "xshift": 10,
          "y": 7.878162312507629
         }
        ],
        "height": 650,
        "hoverlabel": {
         "bgcolor": "white",
         "font": {
          "family": "Rockwell",
          "size": 16
         }
        },
        "legend": {
         "itemsizing": "constant",
         "tracegroupgap": 0
        },
        "margin": {
         "t": 60
        },
        "shapes": [
         {
          "line": {
           "color": "#CFD8DC",
           "width": 2
          },
          "type": "line",
          "x0": 2.594652843475342,
          "x1": 2.594652843475342,
          "y0": -7.188564920425415,
          "y1": 7.878162312507629
         },
         {
          "line": {
           "color": "#9E9E9E",
           "width": 2
          },
          "type": "line",
          "x0": -10.711761474609375,
          "x1": 15.901067161560059,
          "y0": 0.3447986960411069,
          "y1": 0.3447986960411069
         }
        ],
        "sliders": [
         {
          "active": 0,
          "pad": {
           "t": 50
          },
          "steps": [
           {
            "args": [
             {
              "marker.color": [
               [
                "red",
                "#B0BEC5",
                "#B0BEC5",
                "#B0BEC5",
                "#B0BEC5",
                "#B0BEC5",
                "#B0BEC5",
                "#B0BEC5",
                "#B0BEC5",
                "#B0BEC5",
                "#B0BEC5",
                "#B0BEC5",
                "#B0BEC5",
                "#B0BEC5",
                "#B0BEC5",
                "#B0BEC5",
                "#B0BEC5",
                "#B0BEC5",
                "#B0BEC5",
                "#B0BEC5"
               ]
              ]
             }
            ],
            "label": "Topic 0",
            "method": "update"
           },
           {
            "args": [
             {
              "marker.color": [
               [
                "#B0BEC5",
                "red",
                "#B0BEC5",
                "#B0BEC5",
                "#B0BEC5",
                "#B0BEC5",
                "#B0BEC5",
                "#B0BEC5",
                "#B0BEC5",
                "#B0BEC5",
                "#B0BEC5",
                "#B0BEC5",
                "#B0BEC5",
                "#B0BEC5",
                "#B0BEC5",
                "#B0BEC5",
                "#B0BEC5",
                "#B0BEC5",
                "#B0BEC5",
                "#B0BEC5"
               ]
              ]
             }
            ],
            "label": "Topic 1",
            "method": "update"
           },
           {
            "args": [
             {
              "marker.color": [
               [
                "#B0BEC5",
                "#B0BEC5",
                "red",
                "#B0BEC5",
                "#B0BEC5",
                "#B0BEC5",
                "#B0BEC5",
                "#B0BEC5",
                "#B0BEC5",
                "#B0BEC5",
                "#B0BEC5",
                "#B0BEC5",
                "#B0BEC5",
                "#B0BEC5",
                "#B0BEC5",
                "#B0BEC5",
                "#B0BEC5",
                "#B0BEC5",
                "#B0BEC5",
                "#B0BEC5"
               ]
              ]
             }
            ],
            "label": "Topic 2",
            "method": "update"
           },
           {
            "args": [
             {
              "marker.color": [
               [
                "#B0BEC5",
                "#B0BEC5",
                "#B0BEC5",
                "red",
                "#B0BEC5",
                "#B0BEC5",
                "#B0BEC5",
                "#B0BEC5",
                "#B0BEC5",
                "#B0BEC5",
                "#B0BEC5",
                "#B0BEC5",
                "#B0BEC5",
                "#B0BEC5",
                "#B0BEC5",
                "#B0BEC5",
                "#B0BEC5",
                "#B0BEC5",
                "#B0BEC5",
                "#B0BEC5"
               ]
              ]
             }
            ],
            "label": "Topic 3",
            "method": "update"
           },
           {
            "args": [
             {
              "marker.color": [
               [
                "#B0BEC5",
                "#B0BEC5",
                "#B0BEC5",
                "#B0BEC5",
                "red",
                "#B0BEC5",
                "#B0BEC5",
                "#B0BEC5",
                "#B0BEC5",
                "#B0BEC5",
                "#B0BEC5",
                "#B0BEC5",
                "#B0BEC5",
                "#B0BEC5",
                "#B0BEC5",
                "#B0BEC5",
                "#B0BEC5",
                "#B0BEC5",
                "#B0BEC5",
                "#B0BEC5"
               ]
              ]
             }
            ],
            "label": "Topic 4",
            "method": "update"
           },
           {
            "args": [
             {
              "marker.color": [
               [
                "#B0BEC5",
                "#B0BEC5",
                "#B0BEC5",
                "#B0BEC5",
                "#B0BEC5",
                "red",
                "#B0BEC5",
                "#B0BEC5",
                "#B0BEC5",
                "#B0BEC5",
                "#B0BEC5",
                "#B0BEC5",
                "#B0BEC5",
                "#B0BEC5",
                "#B0BEC5",
                "#B0BEC5",
                "#B0BEC5",
                "#B0BEC5",
                "#B0BEC5",
                "#B0BEC5"
               ]
              ]
             }
            ],
            "label": "Topic 5",
            "method": "update"
           },
           {
            "args": [
             {
              "marker.color": [
               [
                "#B0BEC5",
                "#B0BEC5",
                "#B0BEC5",
                "#B0BEC5",
                "#B0BEC5",
                "#B0BEC5",
                "red",
                "#B0BEC5",
                "#B0BEC5",
                "#B0BEC5",
                "#B0BEC5",
                "#B0BEC5",
                "#B0BEC5",
                "#B0BEC5",
                "#B0BEC5",
                "#B0BEC5",
                "#B0BEC5",
                "#B0BEC5",
                "#B0BEC5",
                "#B0BEC5"
               ]
              ]
             }
            ],
            "label": "Topic 6",
            "method": "update"
           },
           {
            "args": [
             {
              "marker.color": [
               [
                "#B0BEC5",
                "#B0BEC5",
                "#B0BEC5",
                "#B0BEC5",
                "#B0BEC5",
                "#B0BEC5",
                "#B0BEC5",
                "red",
                "#B0BEC5",
                "#B0BEC5",
                "#B0BEC5",
                "#B0BEC5",
                "#B0BEC5",
                "#B0BEC5",
                "#B0BEC5",
                "#B0BEC5",
                "#B0BEC5",
                "#B0BEC5",
                "#B0BEC5",
                "#B0BEC5"
               ]
              ]
             }
            ],
            "label": "Topic 7",
            "method": "update"
           },
           {
            "args": [
             {
              "marker.color": [
               [
                "#B0BEC5",
                "#B0BEC5",
                "#B0BEC5",
                "#B0BEC5",
                "#B0BEC5",
                "#B0BEC5",
                "#B0BEC5",
                "#B0BEC5",
                "red",
                "#B0BEC5",
                "#B0BEC5",
                "#B0BEC5",
                "#B0BEC5",
                "#B0BEC5",
                "#B0BEC5",
                "#B0BEC5",
                "#B0BEC5",
                "#B0BEC5",
                "#B0BEC5",
                "#B0BEC5"
               ]
              ]
             }
            ],
            "label": "Topic 8",
            "method": "update"
           },
           {
            "args": [
             {
              "marker.color": [
               [
                "#B0BEC5",
                "#B0BEC5",
                "#B0BEC5",
                "#B0BEC5",
                "#B0BEC5",
                "#B0BEC5",
                "#B0BEC5",
                "#B0BEC5",
                "#B0BEC5",
                "red",
                "#B0BEC5",
                "#B0BEC5",
                "#B0BEC5",
                "#B0BEC5",
                "#B0BEC5",
                "#B0BEC5",
                "#B0BEC5",
                "#B0BEC5",
                "#B0BEC5",
                "#B0BEC5"
               ]
              ]
             }
            ],
            "label": "Topic 9",
            "method": "update"
           },
           {
            "args": [
             {
              "marker.color": [
               [
                "#B0BEC5",
                "#B0BEC5",
                "#B0BEC5",
                "#B0BEC5",
                "#B0BEC5",
                "#B0BEC5",
                "#B0BEC5",
                "#B0BEC5",
                "#B0BEC5",
                "#B0BEC5",
                "red",
                "#B0BEC5",
                "#B0BEC5",
                "#B0BEC5",
                "#B0BEC5",
                "#B0BEC5",
                "#B0BEC5",
                "#B0BEC5",
                "#B0BEC5",
                "#B0BEC5"
               ]
              ]
             }
            ],
            "label": "Topic 10",
            "method": "update"
           },
           {
            "args": [
             {
              "marker.color": [
               [
                "#B0BEC5",
                "#B0BEC5",
                "#B0BEC5",
                "#B0BEC5",
                "#B0BEC5",
                "#B0BEC5",
                "#B0BEC5",
                "#B0BEC5",
                "#B0BEC5",
                "#B0BEC5",
                "#B0BEC5",
                "red",
                "#B0BEC5",
                "#B0BEC5",
                "#B0BEC5",
                "#B0BEC5",
                "#B0BEC5",
                "#B0BEC5",
                "#B0BEC5",
                "#B0BEC5"
               ]
              ]
             }
            ],
            "label": "Topic 11",
            "method": "update"
           },
           {
            "args": [
             {
              "marker.color": [
               [
                "#B0BEC5",
                "#B0BEC5",
                "#B0BEC5",
                "#B0BEC5",
                "#B0BEC5",
                "#B0BEC5",
                "#B0BEC5",
                "#B0BEC5",
                "#B0BEC5",
                "#B0BEC5",
                "#B0BEC5",
                "#B0BEC5",
                "red",
                "#B0BEC5",
                "#B0BEC5",
                "#B0BEC5",
                "#B0BEC5",
                "#B0BEC5",
                "#B0BEC5",
                "#B0BEC5"
               ]
              ]
             }
            ],
            "label": "Topic 12",
            "method": "update"
           },
           {
            "args": [
             {
              "marker.color": [
               [
                "#B0BEC5",
                "#B0BEC5",
                "#B0BEC5",
                "#B0BEC5",
                "#B0BEC5",
                "#B0BEC5",
                "#B0BEC5",
                "#B0BEC5",
                "#B0BEC5",
                "#B0BEC5",
                "#B0BEC5",
                "#B0BEC5",
                "#B0BEC5",
                "red",
                "#B0BEC5",
                "#B0BEC5",
                "#B0BEC5",
                "#B0BEC5",
                "#B0BEC5",
                "#B0BEC5"
               ]
              ]
             }
            ],
            "label": "Topic 13",
            "method": "update"
           },
           {
            "args": [
             {
              "marker.color": [
               [
                "#B0BEC5",
                "#B0BEC5",
                "#B0BEC5",
                "#B0BEC5",
                "#B0BEC5",
                "#B0BEC5",
                "#B0BEC5",
                "#B0BEC5",
                "#B0BEC5",
                "#B0BEC5",
                "#B0BEC5",
                "#B0BEC5",
                "#B0BEC5",
                "#B0BEC5",
                "red",
                "#B0BEC5",
                "#B0BEC5",
                "#B0BEC5",
                "#B0BEC5",
                "#B0BEC5"
               ]
              ]
             }
            ],
            "label": "Topic 14",
            "method": "update"
           },
           {
            "args": [
             {
              "marker.color": [
               [
                "#B0BEC5",
                "#B0BEC5",
                "#B0BEC5",
                "#B0BEC5",
                "#B0BEC5",
                "#B0BEC5",
                "#B0BEC5",
                "#B0BEC5",
                "#B0BEC5",
                "#B0BEC5",
                "#B0BEC5",
                "#B0BEC5",
                "#B0BEC5",
                "#B0BEC5",
                "#B0BEC5",
                "red",
                "#B0BEC5",
                "#B0BEC5",
                "#B0BEC5",
                "#B0BEC5"
               ]
              ]
             }
            ],
            "label": "Topic 15",
            "method": "update"
           },
           {
            "args": [
             {
              "marker.color": [
               [
                "#B0BEC5",
                "#B0BEC5",
                "#B0BEC5",
                "#B0BEC5",
                "#B0BEC5",
                "#B0BEC5",
                "#B0BEC5",
                "#B0BEC5",
                "#B0BEC5",
                "#B0BEC5",
                "#B0BEC5",
                "#B0BEC5",
                "#B0BEC5",
                "#B0BEC5",
                "#B0BEC5",
                "#B0BEC5",
                "red",
                "#B0BEC5",
                "#B0BEC5",
                "#B0BEC5"
               ]
              ]
             }
            ],
            "label": "Topic 16",
            "method": "update"
           },
           {
            "args": [
             {
              "marker.color": [
               [
                "#B0BEC5",
                "#B0BEC5",
                "#B0BEC5",
                "#B0BEC5",
                "#B0BEC5",
                "#B0BEC5",
                "#B0BEC5",
                "#B0BEC5",
                "#B0BEC5",
                "#B0BEC5",
                "#B0BEC5",
                "#B0BEC5",
                "#B0BEC5",
                "#B0BEC5",
                "#B0BEC5",
                "#B0BEC5",
                "#B0BEC5",
                "red",
                "#B0BEC5",
                "#B0BEC5"
               ]
              ]
             }
            ],
            "label": "Topic 17",
            "method": "update"
           },
           {
            "args": [
             {
              "marker.color": [
               [
                "#B0BEC5",
                "#B0BEC5",
                "#B0BEC5",
                "#B0BEC5",
                "#B0BEC5",
                "#B0BEC5",
                "#B0BEC5",
                "#B0BEC5",
                "#B0BEC5",
                "#B0BEC5",
                "#B0BEC5",
                "#B0BEC5",
                "#B0BEC5",
                "#B0BEC5",
                "#B0BEC5",
                "#B0BEC5",
                "#B0BEC5",
                "#B0BEC5",
                "red",
                "#B0BEC5"
               ]
              ]
             }
            ],
            "label": "Topic 18",
            "method": "update"
           },
           {
            "args": [
             {
              "marker.color": [
               [
                "#B0BEC5",
                "#B0BEC5",
                "#B0BEC5",
                "#B0BEC5",
                "#B0BEC5",
                "#B0BEC5",
                "#B0BEC5",
                "#B0BEC5",
                "#B0BEC5",
                "#B0BEC5",
                "#B0BEC5",
                "#B0BEC5",
                "#B0BEC5",
                "#B0BEC5",
                "#B0BEC5",
                "#B0BEC5",
                "#B0BEC5",
                "#B0BEC5",
                "#B0BEC5",
                "red"
               ]
              ]
             }
            ],
            "label": "Topic 19",
            "method": "update"
           }
          ]
         }
        ],
        "template": {
         "data": {
          "bar": [
           {
            "error_x": {
             "color": "rgb(36,36,36)"
            },
            "error_y": {
             "color": "rgb(36,36,36)"
            },
            "marker": {
             "line": {
              "color": "white",
              "width": 0.5
             },
             "pattern": {
              "fillmode": "overlay",
              "size": 10,
              "solidity": 0.2
             }
            },
            "type": "bar"
           }
          ],
          "barpolar": [
           {
            "marker": {
             "line": {
              "color": "white",
              "width": 0.5
             },
             "pattern": {
              "fillmode": "overlay",
              "size": 10,
              "solidity": 0.2
             }
            },
            "type": "barpolar"
           }
          ],
          "carpet": [
           {
            "aaxis": {
             "endlinecolor": "rgb(36,36,36)",
             "gridcolor": "white",
             "linecolor": "white",
             "minorgridcolor": "white",
             "startlinecolor": "rgb(36,36,36)"
            },
            "baxis": {
             "endlinecolor": "rgb(36,36,36)",
             "gridcolor": "white",
             "linecolor": "white",
             "minorgridcolor": "white",
             "startlinecolor": "rgb(36,36,36)"
            },
            "type": "carpet"
           }
          ],
          "choropleth": [
           {
            "colorbar": {
             "outlinewidth": 1,
             "tickcolor": "rgb(36,36,36)",
             "ticks": "outside"
            },
            "type": "choropleth"
           }
          ],
          "contour": [
           {
            "colorbar": {
             "outlinewidth": 1,
             "tickcolor": "rgb(36,36,36)",
             "ticks": "outside"
            },
            "colorscale": [
             [
              0,
              "#440154"
             ],
             [
              0.1111111111111111,
              "#482878"
             ],
             [
              0.2222222222222222,
              "#3e4989"
             ],
             [
              0.3333333333333333,
              "#31688e"
             ],
             [
              0.4444444444444444,
              "#26828e"
             ],
             [
              0.5555555555555556,
              "#1f9e89"
             ],
             [
              0.6666666666666666,
              "#35b779"
             ],
             [
              0.7777777777777778,
              "#6ece58"
             ],
             [
              0.8888888888888888,
              "#b5de2b"
             ],
             [
              1,
              "#fde725"
             ]
            ],
            "type": "contour"
           }
          ],
          "contourcarpet": [
           {
            "colorbar": {
             "outlinewidth": 1,
             "tickcolor": "rgb(36,36,36)",
             "ticks": "outside"
            },
            "type": "contourcarpet"
           }
          ],
          "heatmap": [
           {
            "colorbar": {
             "outlinewidth": 1,
             "tickcolor": "rgb(36,36,36)",
             "ticks": "outside"
            },
            "colorscale": [
             [
              0,
              "#440154"
             ],
             [
              0.1111111111111111,
              "#482878"
             ],
             [
              0.2222222222222222,
              "#3e4989"
             ],
             [
              0.3333333333333333,
              "#31688e"
             ],
             [
              0.4444444444444444,
              "#26828e"
             ],
             [
              0.5555555555555556,
              "#1f9e89"
             ],
             [
              0.6666666666666666,
              "#35b779"
             ],
             [
              0.7777777777777778,
              "#6ece58"
             ],
             [
              0.8888888888888888,
              "#b5de2b"
             ],
             [
              1,
              "#fde725"
             ]
            ],
            "type": "heatmap"
           }
          ],
          "heatmapgl": [
           {
            "colorbar": {
             "outlinewidth": 1,
             "tickcolor": "rgb(36,36,36)",
             "ticks": "outside"
            },
            "colorscale": [
             [
              0,
              "#440154"
             ],
             [
              0.1111111111111111,
              "#482878"
             ],
             [
              0.2222222222222222,
              "#3e4989"
             ],
             [
              0.3333333333333333,
              "#31688e"
             ],
             [
              0.4444444444444444,
              "#26828e"
             ],
             [
              0.5555555555555556,
              "#1f9e89"
             ],
             [
              0.6666666666666666,
              "#35b779"
             ],
             [
              0.7777777777777778,
              "#6ece58"
             ],
             [
              0.8888888888888888,
              "#b5de2b"
             ],
             [
              1,
              "#fde725"
             ]
            ],
            "type": "heatmapgl"
           }
          ],
          "histogram": [
           {
            "marker": {
             "line": {
              "color": "white",
              "width": 0.6
             }
            },
            "type": "histogram"
           }
          ],
          "histogram2d": [
           {
            "colorbar": {
             "outlinewidth": 1,
             "tickcolor": "rgb(36,36,36)",
             "ticks": "outside"
            },
            "colorscale": [
             [
              0,
              "#440154"
             ],
             [
              0.1111111111111111,
              "#482878"
             ],
             [
              0.2222222222222222,
              "#3e4989"
             ],
             [
              0.3333333333333333,
              "#31688e"
             ],
             [
              0.4444444444444444,
              "#26828e"
             ],
             [
              0.5555555555555556,
              "#1f9e89"
             ],
             [
              0.6666666666666666,
              "#35b779"
             ],
             [
              0.7777777777777778,
              "#6ece58"
             ],
             [
              0.8888888888888888,
              "#b5de2b"
             ],
             [
              1,
              "#fde725"
             ]
            ],
            "type": "histogram2d"
           }
          ],
          "histogram2dcontour": [
           {
            "colorbar": {
             "outlinewidth": 1,
             "tickcolor": "rgb(36,36,36)",
             "ticks": "outside"
            },
            "colorscale": [
             [
              0,
              "#440154"
             ],
             [
              0.1111111111111111,
              "#482878"
             ],
             [
              0.2222222222222222,
              "#3e4989"
             ],
             [
              0.3333333333333333,
              "#31688e"
             ],
             [
              0.4444444444444444,
              "#26828e"
             ],
             [
              0.5555555555555556,
              "#1f9e89"
             ],
             [
              0.6666666666666666,
              "#35b779"
             ],
             [
              0.7777777777777778,
              "#6ece58"
             ],
             [
              0.8888888888888888,
              "#b5de2b"
             ],
             [
              1,
              "#fde725"
             ]
            ],
            "type": "histogram2dcontour"
           }
          ],
          "mesh3d": [
           {
            "colorbar": {
             "outlinewidth": 1,
             "tickcolor": "rgb(36,36,36)",
             "ticks": "outside"
            },
            "type": "mesh3d"
           }
          ],
          "parcoords": [
           {
            "line": {
             "colorbar": {
              "outlinewidth": 1,
              "tickcolor": "rgb(36,36,36)",
              "ticks": "outside"
             }
            },
            "type": "parcoords"
           }
          ],
          "pie": [
           {
            "automargin": true,
            "type": "pie"
           }
          ],
          "scatter": [
           {
            "fillpattern": {
             "fillmode": "overlay",
             "size": 10,
             "solidity": 0.2
            },
            "type": "scatter"
           }
          ],
          "scatter3d": [
           {
            "line": {
             "colorbar": {
              "outlinewidth": 1,
              "tickcolor": "rgb(36,36,36)",
              "ticks": "outside"
             }
            },
            "marker": {
             "colorbar": {
              "outlinewidth": 1,
              "tickcolor": "rgb(36,36,36)",
              "ticks": "outside"
             }
            },
            "type": "scatter3d"
           }
          ],
          "scattercarpet": [
           {
            "marker": {
             "colorbar": {
              "outlinewidth": 1,
              "tickcolor": "rgb(36,36,36)",
              "ticks": "outside"
             }
            },
            "type": "scattercarpet"
           }
          ],
          "scattergeo": [
           {
            "marker": {
             "colorbar": {
              "outlinewidth": 1,
              "tickcolor": "rgb(36,36,36)",
              "ticks": "outside"
             }
            },
            "type": "scattergeo"
           }
          ],
          "scattergl": [
           {
            "marker": {
             "colorbar": {
              "outlinewidth": 1,
              "tickcolor": "rgb(36,36,36)",
              "ticks": "outside"
             }
            },
            "type": "scattergl"
           }
          ],
          "scattermapbox": [
           {
            "marker": {
             "colorbar": {
              "outlinewidth": 1,
              "tickcolor": "rgb(36,36,36)",
              "ticks": "outside"
             }
            },
            "type": "scattermapbox"
           }
          ],
          "scatterpolar": [
           {
            "marker": {
             "colorbar": {
              "outlinewidth": 1,
              "tickcolor": "rgb(36,36,36)",
              "ticks": "outside"
             }
            },
            "type": "scatterpolar"
           }
          ],
          "scatterpolargl": [
           {
            "marker": {
             "colorbar": {
              "outlinewidth": 1,
              "tickcolor": "rgb(36,36,36)",
              "ticks": "outside"
             }
            },
            "type": "scatterpolargl"
           }
          ],
          "scatterternary": [
           {
            "marker": {
             "colorbar": {
              "outlinewidth": 1,
              "tickcolor": "rgb(36,36,36)",
              "ticks": "outside"
             }
            },
            "type": "scatterternary"
           }
          ],
          "surface": [
           {
            "colorbar": {
             "outlinewidth": 1,
             "tickcolor": "rgb(36,36,36)",
             "ticks": "outside"
            },
            "colorscale": [
             [
              0,
              "#440154"
             ],
             [
              0.1111111111111111,
              "#482878"
             ],
             [
              0.2222222222222222,
              "#3e4989"
             ],
             [
              0.3333333333333333,
              "#31688e"
             ],
             [
              0.4444444444444444,
              "#26828e"
             ],
             [
              0.5555555555555556,
              "#1f9e89"
             ],
             [
              0.6666666666666666,
              "#35b779"
             ],
             [
              0.7777777777777778,
              "#6ece58"
             ],
             [
              0.8888888888888888,
              "#b5de2b"
             ],
             [
              1,
              "#fde725"
             ]
            ],
            "type": "surface"
           }
          ],
          "table": [
           {
            "cells": {
             "fill": {
              "color": "rgb(237,237,237)"
             },
             "line": {
              "color": "white"
             }
            },
            "header": {
             "fill": {
              "color": "rgb(217,217,217)"
             },
             "line": {
              "color": "white"
             }
            },
            "type": "table"
           }
          ]
         },
         "layout": {
          "annotationdefaults": {
           "arrowhead": 0,
           "arrowwidth": 1
          },
          "autotypenumbers": "strict",
          "coloraxis": {
           "colorbar": {
            "outlinewidth": 1,
            "tickcolor": "rgb(36,36,36)",
            "ticks": "outside"
           }
          },
          "colorscale": {
           "diverging": [
            [
             0,
             "rgb(103,0,31)"
            ],
            [
             0.1,
             "rgb(178,24,43)"
            ],
            [
             0.2,
             "rgb(214,96,77)"
            ],
            [
             0.3,
             "rgb(244,165,130)"
            ],
            [
             0.4,
             "rgb(253,219,199)"
            ],
            [
             0.5,
             "rgb(247,247,247)"
            ],
            [
             0.6,
             "rgb(209,229,240)"
            ],
            [
             0.7,
             "rgb(146,197,222)"
            ],
            [
             0.8,
             "rgb(67,147,195)"
            ],
            [
             0.9,
             "rgb(33,102,172)"
            ],
            [
             1,
             "rgb(5,48,97)"
            ]
           ],
           "sequential": [
            [
             0,
             "#440154"
            ],
            [
             0.1111111111111111,
             "#482878"
            ],
            [
             0.2222222222222222,
             "#3e4989"
            ],
            [
             0.3333333333333333,
             "#31688e"
            ],
            [
             0.4444444444444444,
             "#26828e"
            ],
            [
             0.5555555555555556,
             "#1f9e89"
            ],
            [
             0.6666666666666666,
             "#35b779"
            ],
            [
             0.7777777777777778,
             "#6ece58"
            ],
            [
             0.8888888888888888,
             "#b5de2b"
            ],
            [
             1,
             "#fde725"
            ]
           ],
           "sequentialminus": [
            [
             0,
             "#440154"
            ],
            [
             0.1111111111111111,
             "#482878"
            ],
            [
             0.2222222222222222,
             "#3e4989"
            ],
            [
             0.3333333333333333,
             "#31688e"
            ],
            [
             0.4444444444444444,
             "#26828e"
            ],
            [
             0.5555555555555556,
             "#1f9e89"
            ],
            [
             0.6666666666666666,
             "#35b779"
            ],
            [
             0.7777777777777778,
             "#6ece58"
            ],
            [
             0.8888888888888888,
             "#b5de2b"
            ],
            [
             1,
             "#fde725"
            ]
           ]
          },
          "colorway": [
           "#1F77B4",
           "#FF7F0E",
           "#2CA02C",
           "#D62728",
           "#9467BD",
           "#8C564B",
           "#E377C2",
           "#7F7F7F",
           "#BCBD22",
           "#17BECF"
          ],
          "font": {
           "color": "rgb(36,36,36)"
          },
          "geo": {
           "bgcolor": "white",
           "lakecolor": "white",
           "landcolor": "white",
           "showlakes": true,
           "showland": true,
           "subunitcolor": "white"
          },
          "hoverlabel": {
           "align": "left"
          },
          "hovermode": "closest",
          "mapbox": {
           "style": "light"
          },
          "paper_bgcolor": "white",
          "plot_bgcolor": "white",
          "polar": {
           "angularaxis": {
            "gridcolor": "rgb(232,232,232)",
            "linecolor": "rgb(36,36,36)",
            "showgrid": false,
            "showline": true,
            "ticks": "outside"
           },
           "bgcolor": "white",
           "radialaxis": {
            "gridcolor": "rgb(232,232,232)",
            "linecolor": "rgb(36,36,36)",
            "showgrid": false,
            "showline": true,
            "ticks": "outside"
           }
          },
          "scene": {
           "xaxis": {
            "backgroundcolor": "white",
            "gridcolor": "rgb(232,232,232)",
            "gridwidth": 2,
            "linecolor": "rgb(36,36,36)",
            "showbackground": true,
            "showgrid": false,
            "showline": true,
            "ticks": "outside",
            "zeroline": false,
            "zerolinecolor": "rgb(36,36,36)"
           },
           "yaxis": {
            "backgroundcolor": "white",
            "gridcolor": "rgb(232,232,232)",
            "gridwidth": 2,
            "linecolor": "rgb(36,36,36)",
            "showbackground": true,
            "showgrid": false,
            "showline": true,
            "ticks": "outside",
            "zeroline": false,
            "zerolinecolor": "rgb(36,36,36)"
           },
           "zaxis": {
            "backgroundcolor": "white",
            "gridcolor": "rgb(232,232,232)",
            "gridwidth": 2,
            "linecolor": "rgb(36,36,36)",
            "showbackground": true,
            "showgrid": false,
            "showline": true,
            "ticks": "outside",
            "zeroline": false,
            "zerolinecolor": "rgb(36,36,36)"
           }
          },
          "shapedefaults": {
           "fillcolor": "black",
           "line": {
            "width": 0
           },
           "opacity": 0.3
          },
          "ternary": {
           "aaxis": {
            "gridcolor": "rgb(232,232,232)",
            "linecolor": "rgb(36,36,36)",
            "showgrid": false,
            "showline": true,
            "ticks": "outside"
           },
           "baxis": {
            "gridcolor": "rgb(232,232,232)",
            "linecolor": "rgb(36,36,36)",
            "showgrid": false,
            "showline": true,
            "ticks": "outside"
           },
           "bgcolor": "white",
           "caxis": {
            "gridcolor": "rgb(232,232,232)",
            "linecolor": "rgb(36,36,36)",
            "showgrid": false,
            "showline": true,
            "ticks": "outside"
           }
          },
          "title": {
           "x": 0.05
          },
          "xaxis": {
           "automargin": true,
           "gridcolor": "rgb(232,232,232)",
           "linecolor": "rgb(36,36,36)",
           "showgrid": false,
           "showline": true,
           "ticks": "outside",
           "title": {
            "standoff": 15
           },
           "zeroline": false,
           "zerolinecolor": "rgb(36,36,36)"
          },
          "yaxis": {
           "automargin": true,
           "gridcolor": "rgb(232,232,232)",
           "linecolor": "rgb(36,36,36)",
           "showgrid": false,
           "showline": true,
           "ticks": "outside",
           "title": {
            "standoff": 15
           },
           "zeroline": false,
           "zerolinecolor": "rgb(36,36,36)"
          }
         }
        },
        "title": {
         "font": {
          "color": "Black",
          "size": 22
         },
         "text": "<b>Intertopic Distance Map</b>",
         "x": 0.5,
         "xanchor": "center",
         "y": 0.95,
         "yanchor": "top"
        },
        "width": 650,
        "xaxis": {
         "anchor": "y",
         "domain": [
          0,
          1
         ],
         "range": [
          -10.711761474609375,
          15.901067161560059
         ],
         "title": {
          "text": ""
         },
         "visible": false
        },
        "yaxis": {
         "anchor": "x",
         "domain": [
          0,
          1
         ],
         "range": [
          -7.188564920425415,
          7.878162312507629
         ],
         "title": {
          "text": ""
         },
         "visible": false
        }
       }
      },
      "text/html": [
       "<div>                        <script type=\"text/javascript\">window.PlotlyConfig = {MathJaxConfig: 'local'};</script>\n",
       "        <script charset=\"utf-8\" src=\"https://cdn.plot.ly/plotly-2.24.1.min.js\"></script>                <div id=\"2c941c04-4163-42bc-8069-53456dd5aa88\" class=\"plotly-graph-div\" style=\"height:650px; width:650px;\"></div>            <script type=\"text/javascript\">                                    window.PLOTLYENV=window.PLOTLYENV || {};                                    if (document.getElementById(\"2c941c04-4163-42bc-8069-53456dd5aa88\")) {                    Plotly.newPlot(                        \"2c941c04-4163-42bc-8069-53456dd5aa88\",                        [{\"customdata\":[[0,\"the | it | of | my | and\",88],[1,\"movies | the | movie | is | of\",63],[2,\"to | job | you | in | lpt\",54],[3,\"to | and | he | my | the\",44],[4,\"homemade | taste | milk | pizza | how\",32],[5,\"men | to | id | that | this\",24],[6,\"song | prog | songs | 2023 | is\",22],[7,\"game | games | of | video | one\",22],[8,\"kitten | be | bunny | to | oc\",19],[9,\"my | to | credit | bank | and\",18],[10,\"oc | gummy | of | sea | park\",18],[11,\"wagner | prigozhins | putin | allegiance | lukashenko\",16],[12,\"code | models | llama | model | the\",15],[13,\"and | to | the | book | of\",15],[14,\"ampx200b | the | it | and | cohle\",14],[15,\"ukraine | russian | forces | ukraines | ukrainian\",13],[16,\"rubiales | spanish | hermoso | luis | kiss\",13],[17,\"military | army | nigers | ambassador | 48\",11],[18,\"and | the | to | in | was\",11],[19,\"lunar | rover | power | countries | pragyan\",10]],\"hovertemplate\":\"\\u003cb\\u003eTopic %{customdata[0]}\\u003c\\u002fb\\u003e\\u003cbr\\u003e%{customdata[1]}\\u003cbr\\u003eSize: %{customdata[2]}\",\"legendgroup\":\"\",\"marker\":{\"color\":\"#B0BEC5\",\"size\":[88,63,54,44,32,24,22,22,19,18,18,16,15,15,14,13,13,11,11,10],\"sizemode\":\"area\",\"sizeref\":0.055,\"symbol\":\"circle\",\"line\":{\"color\":\"DarkSlateGrey\",\"width\":2}},\"mode\":\"markers\",\"name\":\"\",\"orientation\":\"v\",\"showlegend\":false,\"x\":[12.227668762207031,-8.419231414794922,11.888797760009766,12.832049369812012,13.827014923095703,13.651037216186523,-8.498494148254395,-9.3145751953125,12.201088905334473,12.73956298828125,12.379263877868652,-0.695073664188385,-9.107243537902832,-8.199213027954102,13.371941566467285,-0.8983356356620789,-0.4496837854385376,-1.0442376136779785,12.766459465026855,-1.2341614961624146],\"xaxis\":\"x\",\"y\":[5.699496746063232,-1.818116307258606,5.956374645233154,6.487814426422119,5.659604072570801,6.24475622177124,-1.7377532720565796,-0.9318606853485107,5.117387294769287,6.850575923919678,4.81640100479126,-5.810573101043701,-1.1400257349014282,-2.037585735321045,5.907195091247559,-5.349014759063721,-6.2509260177612305,-4.951912879943848,6.0019001960754395,-4.7420549392700195],\"yaxis\":\"y\",\"type\":\"scatter\"}],                        {\"template\":{\"data\":{\"barpolar\":[{\"marker\":{\"line\":{\"color\":\"white\",\"width\":0.5},\"pattern\":{\"fillmode\":\"overlay\",\"size\":10,\"solidity\":0.2}},\"type\":\"barpolar\"}],\"bar\":[{\"error_x\":{\"color\":\"rgb(36,36,36)\"},\"error_y\":{\"color\":\"rgb(36,36,36)\"},\"marker\":{\"line\":{\"color\":\"white\",\"width\":0.5},\"pattern\":{\"fillmode\":\"overlay\",\"size\":10,\"solidity\":0.2}},\"type\":\"bar\"}],\"carpet\":[{\"aaxis\":{\"endlinecolor\":\"rgb(36,36,36)\",\"gridcolor\":\"white\",\"linecolor\":\"white\",\"minorgridcolor\":\"white\",\"startlinecolor\":\"rgb(36,36,36)\"},\"baxis\":{\"endlinecolor\":\"rgb(36,36,36)\",\"gridcolor\":\"white\",\"linecolor\":\"white\",\"minorgridcolor\":\"white\",\"startlinecolor\":\"rgb(36,36,36)\"},\"type\":\"carpet\"}],\"choropleth\":[{\"colorbar\":{\"outlinewidth\":1,\"tickcolor\":\"rgb(36,36,36)\",\"ticks\":\"outside\"},\"type\":\"choropleth\"}],\"contourcarpet\":[{\"colorbar\":{\"outlinewidth\":1,\"tickcolor\":\"rgb(36,36,36)\",\"ticks\":\"outside\"},\"type\":\"contourcarpet\"}],\"contour\":[{\"colorbar\":{\"outlinewidth\":1,\"tickcolor\":\"rgb(36,36,36)\",\"ticks\":\"outside\"},\"colorscale\":[[0.0,\"#440154\"],[0.1111111111111111,\"#482878\"],[0.2222222222222222,\"#3e4989\"],[0.3333333333333333,\"#31688e\"],[0.4444444444444444,\"#26828e\"],[0.5555555555555556,\"#1f9e89\"],[0.6666666666666666,\"#35b779\"],[0.7777777777777778,\"#6ece58\"],[0.8888888888888888,\"#b5de2b\"],[1.0,\"#fde725\"]],\"type\":\"contour\"}],\"heatmapgl\":[{\"colorbar\":{\"outlinewidth\":1,\"tickcolor\":\"rgb(36,36,36)\",\"ticks\":\"outside\"},\"colorscale\":[[0.0,\"#440154\"],[0.1111111111111111,\"#482878\"],[0.2222222222222222,\"#3e4989\"],[0.3333333333333333,\"#31688e\"],[0.4444444444444444,\"#26828e\"],[0.5555555555555556,\"#1f9e89\"],[0.6666666666666666,\"#35b779\"],[0.7777777777777778,\"#6ece58\"],[0.8888888888888888,\"#b5de2b\"],[1.0,\"#fde725\"]],\"type\":\"heatmapgl\"}],\"heatmap\":[{\"colorbar\":{\"outlinewidth\":1,\"tickcolor\":\"rgb(36,36,36)\",\"ticks\":\"outside\"},\"colorscale\":[[0.0,\"#440154\"],[0.1111111111111111,\"#482878\"],[0.2222222222222222,\"#3e4989\"],[0.3333333333333333,\"#31688e\"],[0.4444444444444444,\"#26828e\"],[0.5555555555555556,\"#1f9e89\"],[0.6666666666666666,\"#35b779\"],[0.7777777777777778,\"#6ece58\"],[0.8888888888888888,\"#b5de2b\"],[1.0,\"#fde725\"]],\"type\":\"heatmap\"}],\"histogram2dcontour\":[{\"colorbar\":{\"outlinewidth\":1,\"tickcolor\":\"rgb(36,36,36)\",\"ticks\":\"outside\"},\"colorscale\":[[0.0,\"#440154\"],[0.1111111111111111,\"#482878\"],[0.2222222222222222,\"#3e4989\"],[0.3333333333333333,\"#31688e\"],[0.4444444444444444,\"#26828e\"],[0.5555555555555556,\"#1f9e89\"],[0.6666666666666666,\"#35b779\"],[0.7777777777777778,\"#6ece58\"],[0.8888888888888888,\"#b5de2b\"],[1.0,\"#fde725\"]],\"type\":\"histogram2dcontour\"}],\"histogram2d\":[{\"colorbar\":{\"outlinewidth\":1,\"tickcolor\":\"rgb(36,36,36)\",\"ticks\":\"outside\"},\"colorscale\":[[0.0,\"#440154\"],[0.1111111111111111,\"#482878\"],[0.2222222222222222,\"#3e4989\"],[0.3333333333333333,\"#31688e\"],[0.4444444444444444,\"#26828e\"],[0.5555555555555556,\"#1f9e89\"],[0.6666666666666666,\"#35b779\"],[0.7777777777777778,\"#6ece58\"],[0.8888888888888888,\"#b5de2b\"],[1.0,\"#fde725\"]],\"type\":\"histogram2d\"}],\"histogram\":[{\"marker\":{\"line\":{\"color\":\"white\",\"width\":0.6}},\"type\":\"histogram\"}],\"mesh3d\":[{\"colorbar\":{\"outlinewidth\":1,\"tickcolor\":\"rgb(36,36,36)\",\"ticks\":\"outside\"},\"type\":\"mesh3d\"}],\"parcoords\":[{\"line\":{\"colorbar\":{\"outlinewidth\":1,\"tickcolor\":\"rgb(36,36,36)\",\"ticks\":\"outside\"}},\"type\":\"parcoords\"}],\"pie\":[{\"automargin\":true,\"type\":\"pie\"}],\"scatter3d\":[{\"line\":{\"colorbar\":{\"outlinewidth\":1,\"tickcolor\":\"rgb(36,36,36)\",\"ticks\":\"outside\"}},\"marker\":{\"colorbar\":{\"outlinewidth\":1,\"tickcolor\":\"rgb(36,36,36)\",\"ticks\":\"outside\"}},\"type\":\"scatter3d\"}],\"scattercarpet\":[{\"marker\":{\"colorbar\":{\"outlinewidth\":1,\"tickcolor\":\"rgb(36,36,36)\",\"ticks\":\"outside\"}},\"type\":\"scattercarpet\"}],\"scattergeo\":[{\"marker\":{\"colorbar\":{\"outlinewidth\":1,\"tickcolor\":\"rgb(36,36,36)\",\"ticks\":\"outside\"}},\"type\":\"scattergeo\"}],\"scattergl\":[{\"marker\":{\"colorbar\":{\"outlinewidth\":1,\"tickcolor\":\"rgb(36,36,36)\",\"ticks\":\"outside\"}},\"type\":\"scattergl\"}],\"scattermapbox\":[{\"marker\":{\"colorbar\":{\"outlinewidth\":1,\"tickcolor\":\"rgb(36,36,36)\",\"ticks\":\"outside\"}},\"type\":\"scattermapbox\"}],\"scatterpolargl\":[{\"marker\":{\"colorbar\":{\"outlinewidth\":1,\"tickcolor\":\"rgb(36,36,36)\",\"ticks\":\"outside\"}},\"type\":\"scatterpolargl\"}],\"scatterpolar\":[{\"marker\":{\"colorbar\":{\"outlinewidth\":1,\"tickcolor\":\"rgb(36,36,36)\",\"ticks\":\"outside\"}},\"type\":\"scatterpolar\"}],\"scatter\":[{\"fillpattern\":{\"fillmode\":\"overlay\",\"size\":10,\"solidity\":0.2},\"type\":\"scatter\"}],\"scatterternary\":[{\"marker\":{\"colorbar\":{\"outlinewidth\":1,\"tickcolor\":\"rgb(36,36,36)\",\"ticks\":\"outside\"}},\"type\":\"scatterternary\"}],\"surface\":[{\"colorbar\":{\"outlinewidth\":1,\"tickcolor\":\"rgb(36,36,36)\",\"ticks\":\"outside\"},\"colorscale\":[[0.0,\"#440154\"],[0.1111111111111111,\"#482878\"],[0.2222222222222222,\"#3e4989\"],[0.3333333333333333,\"#31688e\"],[0.4444444444444444,\"#26828e\"],[0.5555555555555556,\"#1f9e89\"],[0.6666666666666666,\"#35b779\"],[0.7777777777777778,\"#6ece58\"],[0.8888888888888888,\"#b5de2b\"],[1.0,\"#fde725\"]],\"type\":\"surface\"}],\"table\":[{\"cells\":{\"fill\":{\"color\":\"rgb(237,237,237)\"},\"line\":{\"color\":\"white\"}},\"header\":{\"fill\":{\"color\":\"rgb(217,217,217)\"},\"line\":{\"color\":\"white\"}},\"type\":\"table\"}]},\"layout\":{\"annotationdefaults\":{\"arrowhead\":0,\"arrowwidth\":1},\"autotypenumbers\":\"strict\",\"coloraxis\":{\"colorbar\":{\"outlinewidth\":1,\"tickcolor\":\"rgb(36,36,36)\",\"ticks\":\"outside\"}},\"colorscale\":{\"diverging\":[[0.0,\"rgb(103,0,31)\"],[0.1,\"rgb(178,24,43)\"],[0.2,\"rgb(214,96,77)\"],[0.3,\"rgb(244,165,130)\"],[0.4,\"rgb(253,219,199)\"],[0.5,\"rgb(247,247,247)\"],[0.6,\"rgb(209,229,240)\"],[0.7,\"rgb(146,197,222)\"],[0.8,\"rgb(67,147,195)\"],[0.9,\"rgb(33,102,172)\"],[1.0,\"rgb(5,48,97)\"]],\"sequential\":[[0.0,\"#440154\"],[0.1111111111111111,\"#482878\"],[0.2222222222222222,\"#3e4989\"],[0.3333333333333333,\"#31688e\"],[0.4444444444444444,\"#26828e\"],[0.5555555555555556,\"#1f9e89\"],[0.6666666666666666,\"#35b779\"],[0.7777777777777778,\"#6ece58\"],[0.8888888888888888,\"#b5de2b\"],[1.0,\"#fde725\"]],\"sequentialminus\":[[0.0,\"#440154\"],[0.1111111111111111,\"#482878\"],[0.2222222222222222,\"#3e4989\"],[0.3333333333333333,\"#31688e\"],[0.4444444444444444,\"#26828e\"],[0.5555555555555556,\"#1f9e89\"],[0.6666666666666666,\"#35b779\"],[0.7777777777777778,\"#6ece58\"],[0.8888888888888888,\"#b5de2b\"],[1.0,\"#fde725\"]]},\"colorway\":[\"#1F77B4\",\"#FF7F0E\",\"#2CA02C\",\"#D62728\",\"#9467BD\",\"#8C564B\",\"#E377C2\",\"#7F7F7F\",\"#BCBD22\",\"#17BECF\"],\"font\":{\"color\":\"rgb(36,36,36)\"},\"geo\":{\"bgcolor\":\"white\",\"lakecolor\":\"white\",\"landcolor\":\"white\",\"showlakes\":true,\"showland\":true,\"subunitcolor\":\"white\"},\"hoverlabel\":{\"align\":\"left\"},\"hovermode\":\"closest\",\"mapbox\":{\"style\":\"light\"},\"paper_bgcolor\":\"white\",\"plot_bgcolor\":\"white\",\"polar\":{\"angularaxis\":{\"gridcolor\":\"rgb(232,232,232)\",\"linecolor\":\"rgb(36,36,36)\",\"showgrid\":false,\"showline\":true,\"ticks\":\"outside\"},\"bgcolor\":\"white\",\"radialaxis\":{\"gridcolor\":\"rgb(232,232,232)\",\"linecolor\":\"rgb(36,36,36)\",\"showgrid\":false,\"showline\":true,\"ticks\":\"outside\"}},\"scene\":{\"xaxis\":{\"backgroundcolor\":\"white\",\"gridcolor\":\"rgb(232,232,232)\",\"gridwidth\":2,\"linecolor\":\"rgb(36,36,36)\",\"showbackground\":true,\"showgrid\":false,\"showline\":true,\"ticks\":\"outside\",\"zeroline\":false,\"zerolinecolor\":\"rgb(36,36,36)\"},\"yaxis\":{\"backgroundcolor\":\"white\",\"gridcolor\":\"rgb(232,232,232)\",\"gridwidth\":2,\"linecolor\":\"rgb(36,36,36)\",\"showbackground\":true,\"showgrid\":false,\"showline\":true,\"ticks\":\"outside\",\"zeroline\":false,\"zerolinecolor\":\"rgb(36,36,36)\"},\"zaxis\":{\"backgroundcolor\":\"white\",\"gridcolor\":\"rgb(232,232,232)\",\"gridwidth\":2,\"linecolor\":\"rgb(36,36,36)\",\"showbackground\":true,\"showgrid\":false,\"showline\":true,\"ticks\":\"outside\",\"zeroline\":false,\"zerolinecolor\":\"rgb(36,36,36)\"}},\"shapedefaults\":{\"fillcolor\":\"black\",\"line\":{\"width\":0},\"opacity\":0.3},\"ternary\":{\"aaxis\":{\"gridcolor\":\"rgb(232,232,232)\",\"linecolor\":\"rgb(36,36,36)\",\"showgrid\":false,\"showline\":true,\"ticks\":\"outside\"},\"baxis\":{\"gridcolor\":\"rgb(232,232,232)\",\"linecolor\":\"rgb(36,36,36)\",\"showgrid\":false,\"showline\":true,\"ticks\":\"outside\"},\"bgcolor\":\"white\",\"caxis\":{\"gridcolor\":\"rgb(232,232,232)\",\"linecolor\":\"rgb(36,36,36)\",\"showgrid\":false,\"showline\":true,\"ticks\":\"outside\"}},\"title\":{\"x\":0.05},\"xaxis\":{\"automargin\":true,\"gridcolor\":\"rgb(232,232,232)\",\"linecolor\":\"rgb(36,36,36)\",\"showgrid\":false,\"showline\":true,\"ticks\":\"outside\",\"title\":{\"standoff\":15},\"zeroline\":false,\"zerolinecolor\":\"rgb(36,36,36)\"},\"yaxis\":{\"automargin\":true,\"gridcolor\":\"rgb(232,232,232)\",\"linecolor\":\"rgb(36,36,36)\",\"showgrid\":false,\"showline\":true,\"ticks\":\"outside\",\"title\":{\"standoff\":15},\"zeroline\":false,\"zerolinecolor\":\"rgb(36,36,36)\"}}},\"xaxis\":{\"anchor\":\"y\",\"domain\":[0.0,1.0],\"title\":{\"text\":\"\"},\"visible\":false,\"range\":[-10.711761474609375,15.901067161560059]},\"yaxis\":{\"anchor\":\"x\",\"domain\":[0.0,1.0],\"title\":{\"text\":\"\"},\"visible\":false,\"range\":[-7.188564920425415,7.878162312507629]},\"legend\":{\"tracegroupgap\":0,\"itemsizing\":\"constant\"},\"margin\":{\"t\":60},\"title\":{\"font\":{\"size\":22,\"color\":\"Black\"},\"text\":\"\\u003cb\\u003eIntertopic Distance Map\\u003c\\u002fb\\u003e\",\"y\":0.95,\"x\":0.5,\"xanchor\":\"center\",\"yanchor\":\"top\"},\"hoverlabel\":{\"font\":{\"size\":16,\"family\":\"Rockwell\"},\"bgcolor\":\"white\"},\"width\":650,\"height\":650,\"sliders\":[{\"active\":0,\"pad\":{\"t\":50},\"steps\":[{\"args\":[{\"marker.color\":[[\"red\",\"#B0BEC5\",\"#B0BEC5\",\"#B0BEC5\",\"#B0BEC5\",\"#B0BEC5\",\"#B0BEC5\",\"#B0BEC5\",\"#B0BEC5\",\"#B0BEC5\",\"#B0BEC5\",\"#B0BEC5\",\"#B0BEC5\",\"#B0BEC5\",\"#B0BEC5\",\"#B0BEC5\",\"#B0BEC5\",\"#B0BEC5\",\"#B0BEC5\",\"#B0BEC5\"]]}],\"label\":\"Topic 0\",\"method\":\"update\"},{\"args\":[{\"marker.color\":[[\"#B0BEC5\",\"red\",\"#B0BEC5\",\"#B0BEC5\",\"#B0BEC5\",\"#B0BEC5\",\"#B0BEC5\",\"#B0BEC5\",\"#B0BEC5\",\"#B0BEC5\",\"#B0BEC5\",\"#B0BEC5\",\"#B0BEC5\",\"#B0BEC5\",\"#B0BEC5\",\"#B0BEC5\",\"#B0BEC5\",\"#B0BEC5\",\"#B0BEC5\",\"#B0BEC5\"]]}],\"label\":\"Topic 1\",\"method\":\"update\"},{\"args\":[{\"marker.color\":[[\"#B0BEC5\",\"#B0BEC5\",\"red\",\"#B0BEC5\",\"#B0BEC5\",\"#B0BEC5\",\"#B0BEC5\",\"#B0BEC5\",\"#B0BEC5\",\"#B0BEC5\",\"#B0BEC5\",\"#B0BEC5\",\"#B0BEC5\",\"#B0BEC5\",\"#B0BEC5\",\"#B0BEC5\",\"#B0BEC5\",\"#B0BEC5\",\"#B0BEC5\",\"#B0BEC5\"]]}],\"label\":\"Topic 2\",\"method\":\"update\"},{\"args\":[{\"marker.color\":[[\"#B0BEC5\",\"#B0BEC5\",\"#B0BEC5\",\"red\",\"#B0BEC5\",\"#B0BEC5\",\"#B0BEC5\",\"#B0BEC5\",\"#B0BEC5\",\"#B0BEC5\",\"#B0BEC5\",\"#B0BEC5\",\"#B0BEC5\",\"#B0BEC5\",\"#B0BEC5\",\"#B0BEC5\",\"#B0BEC5\",\"#B0BEC5\",\"#B0BEC5\",\"#B0BEC5\"]]}],\"label\":\"Topic 3\",\"method\":\"update\"},{\"args\":[{\"marker.color\":[[\"#B0BEC5\",\"#B0BEC5\",\"#B0BEC5\",\"#B0BEC5\",\"red\",\"#B0BEC5\",\"#B0BEC5\",\"#B0BEC5\",\"#B0BEC5\",\"#B0BEC5\",\"#B0BEC5\",\"#B0BEC5\",\"#B0BEC5\",\"#B0BEC5\",\"#B0BEC5\",\"#B0BEC5\",\"#B0BEC5\",\"#B0BEC5\",\"#B0BEC5\",\"#B0BEC5\"]]}],\"label\":\"Topic 4\",\"method\":\"update\"},{\"args\":[{\"marker.color\":[[\"#B0BEC5\",\"#B0BEC5\",\"#B0BEC5\",\"#B0BEC5\",\"#B0BEC5\",\"red\",\"#B0BEC5\",\"#B0BEC5\",\"#B0BEC5\",\"#B0BEC5\",\"#B0BEC5\",\"#B0BEC5\",\"#B0BEC5\",\"#B0BEC5\",\"#B0BEC5\",\"#B0BEC5\",\"#B0BEC5\",\"#B0BEC5\",\"#B0BEC5\",\"#B0BEC5\"]]}],\"label\":\"Topic 5\",\"method\":\"update\"},{\"args\":[{\"marker.color\":[[\"#B0BEC5\",\"#B0BEC5\",\"#B0BEC5\",\"#B0BEC5\",\"#B0BEC5\",\"#B0BEC5\",\"red\",\"#B0BEC5\",\"#B0BEC5\",\"#B0BEC5\",\"#B0BEC5\",\"#B0BEC5\",\"#B0BEC5\",\"#B0BEC5\",\"#B0BEC5\",\"#B0BEC5\",\"#B0BEC5\",\"#B0BEC5\",\"#B0BEC5\",\"#B0BEC5\"]]}],\"label\":\"Topic 6\",\"method\":\"update\"},{\"args\":[{\"marker.color\":[[\"#B0BEC5\",\"#B0BEC5\",\"#B0BEC5\",\"#B0BEC5\",\"#B0BEC5\",\"#B0BEC5\",\"#B0BEC5\",\"red\",\"#B0BEC5\",\"#B0BEC5\",\"#B0BEC5\",\"#B0BEC5\",\"#B0BEC5\",\"#B0BEC5\",\"#B0BEC5\",\"#B0BEC5\",\"#B0BEC5\",\"#B0BEC5\",\"#B0BEC5\",\"#B0BEC5\"]]}],\"label\":\"Topic 7\",\"method\":\"update\"},{\"args\":[{\"marker.color\":[[\"#B0BEC5\",\"#B0BEC5\",\"#B0BEC5\",\"#B0BEC5\",\"#B0BEC5\",\"#B0BEC5\",\"#B0BEC5\",\"#B0BEC5\",\"red\",\"#B0BEC5\",\"#B0BEC5\",\"#B0BEC5\",\"#B0BEC5\",\"#B0BEC5\",\"#B0BEC5\",\"#B0BEC5\",\"#B0BEC5\",\"#B0BEC5\",\"#B0BEC5\",\"#B0BEC5\"]]}],\"label\":\"Topic 8\",\"method\":\"update\"},{\"args\":[{\"marker.color\":[[\"#B0BEC5\",\"#B0BEC5\",\"#B0BEC5\",\"#B0BEC5\",\"#B0BEC5\",\"#B0BEC5\",\"#B0BEC5\",\"#B0BEC5\",\"#B0BEC5\",\"red\",\"#B0BEC5\",\"#B0BEC5\",\"#B0BEC5\",\"#B0BEC5\",\"#B0BEC5\",\"#B0BEC5\",\"#B0BEC5\",\"#B0BEC5\",\"#B0BEC5\",\"#B0BEC5\"]]}],\"label\":\"Topic 9\",\"method\":\"update\"},{\"args\":[{\"marker.color\":[[\"#B0BEC5\",\"#B0BEC5\",\"#B0BEC5\",\"#B0BEC5\",\"#B0BEC5\",\"#B0BEC5\",\"#B0BEC5\",\"#B0BEC5\",\"#B0BEC5\",\"#B0BEC5\",\"red\",\"#B0BEC5\",\"#B0BEC5\",\"#B0BEC5\",\"#B0BEC5\",\"#B0BEC5\",\"#B0BEC5\",\"#B0BEC5\",\"#B0BEC5\",\"#B0BEC5\"]]}],\"label\":\"Topic 10\",\"method\":\"update\"},{\"args\":[{\"marker.color\":[[\"#B0BEC5\",\"#B0BEC5\",\"#B0BEC5\",\"#B0BEC5\",\"#B0BEC5\",\"#B0BEC5\",\"#B0BEC5\",\"#B0BEC5\",\"#B0BEC5\",\"#B0BEC5\",\"#B0BEC5\",\"red\",\"#B0BEC5\",\"#B0BEC5\",\"#B0BEC5\",\"#B0BEC5\",\"#B0BEC5\",\"#B0BEC5\",\"#B0BEC5\",\"#B0BEC5\"]]}],\"label\":\"Topic 11\",\"method\":\"update\"},{\"args\":[{\"marker.color\":[[\"#B0BEC5\",\"#B0BEC5\",\"#B0BEC5\",\"#B0BEC5\",\"#B0BEC5\",\"#B0BEC5\",\"#B0BEC5\",\"#B0BEC5\",\"#B0BEC5\",\"#B0BEC5\",\"#B0BEC5\",\"#B0BEC5\",\"red\",\"#B0BEC5\",\"#B0BEC5\",\"#B0BEC5\",\"#B0BEC5\",\"#B0BEC5\",\"#B0BEC5\",\"#B0BEC5\"]]}],\"label\":\"Topic 12\",\"method\":\"update\"},{\"args\":[{\"marker.color\":[[\"#B0BEC5\",\"#B0BEC5\",\"#B0BEC5\",\"#B0BEC5\",\"#B0BEC5\",\"#B0BEC5\",\"#B0BEC5\",\"#B0BEC5\",\"#B0BEC5\",\"#B0BEC5\",\"#B0BEC5\",\"#B0BEC5\",\"#B0BEC5\",\"red\",\"#B0BEC5\",\"#B0BEC5\",\"#B0BEC5\",\"#B0BEC5\",\"#B0BEC5\",\"#B0BEC5\"]]}],\"label\":\"Topic 13\",\"method\":\"update\"},{\"args\":[{\"marker.color\":[[\"#B0BEC5\",\"#B0BEC5\",\"#B0BEC5\",\"#B0BEC5\",\"#B0BEC5\",\"#B0BEC5\",\"#B0BEC5\",\"#B0BEC5\",\"#B0BEC5\",\"#B0BEC5\",\"#B0BEC5\",\"#B0BEC5\",\"#B0BEC5\",\"#B0BEC5\",\"red\",\"#B0BEC5\",\"#B0BEC5\",\"#B0BEC5\",\"#B0BEC5\",\"#B0BEC5\"]]}],\"label\":\"Topic 14\",\"method\":\"update\"},{\"args\":[{\"marker.color\":[[\"#B0BEC5\",\"#B0BEC5\",\"#B0BEC5\",\"#B0BEC5\",\"#B0BEC5\",\"#B0BEC5\",\"#B0BEC5\",\"#B0BEC5\",\"#B0BEC5\",\"#B0BEC5\",\"#B0BEC5\",\"#B0BEC5\",\"#B0BEC5\",\"#B0BEC5\",\"#B0BEC5\",\"red\",\"#B0BEC5\",\"#B0BEC5\",\"#B0BEC5\",\"#B0BEC5\"]]}],\"label\":\"Topic 15\",\"method\":\"update\"},{\"args\":[{\"marker.color\":[[\"#B0BEC5\",\"#B0BEC5\",\"#B0BEC5\",\"#B0BEC5\",\"#B0BEC5\",\"#B0BEC5\",\"#B0BEC5\",\"#B0BEC5\",\"#B0BEC5\",\"#B0BEC5\",\"#B0BEC5\",\"#B0BEC5\",\"#B0BEC5\",\"#B0BEC5\",\"#B0BEC5\",\"#B0BEC5\",\"red\",\"#B0BEC5\",\"#B0BEC5\",\"#B0BEC5\"]]}],\"label\":\"Topic 16\",\"method\":\"update\"},{\"args\":[{\"marker.color\":[[\"#B0BEC5\",\"#B0BEC5\",\"#B0BEC5\",\"#B0BEC5\",\"#B0BEC5\",\"#B0BEC5\",\"#B0BEC5\",\"#B0BEC5\",\"#B0BEC5\",\"#B0BEC5\",\"#B0BEC5\",\"#B0BEC5\",\"#B0BEC5\",\"#B0BEC5\",\"#B0BEC5\",\"#B0BEC5\",\"#B0BEC5\",\"red\",\"#B0BEC5\",\"#B0BEC5\"]]}],\"label\":\"Topic 17\",\"method\":\"update\"},{\"args\":[{\"marker.color\":[[\"#B0BEC5\",\"#B0BEC5\",\"#B0BEC5\",\"#B0BEC5\",\"#B0BEC5\",\"#B0BEC5\",\"#B0BEC5\",\"#B0BEC5\",\"#B0BEC5\",\"#B0BEC5\",\"#B0BEC5\",\"#B0BEC5\",\"#B0BEC5\",\"#B0BEC5\",\"#B0BEC5\",\"#B0BEC5\",\"#B0BEC5\",\"#B0BEC5\",\"red\",\"#B0BEC5\"]]}],\"label\":\"Topic 18\",\"method\":\"update\"},{\"args\":[{\"marker.color\":[[\"#B0BEC5\",\"#B0BEC5\",\"#B0BEC5\",\"#B0BEC5\",\"#B0BEC5\",\"#B0BEC5\",\"#B0BEC5\",\"#B0BEC5\",\"#B0BEC5\",\"#B0BEC5\",\"#B0BEC5\",\"#B0BEC5\",\"#B0BEC5\",\"#B0BEC5\",\"#B0BEC5\",\"#B0BEC5\",\"#B0BEC5\",\"#B0BEC5\",\"#B0BEC5\",\"red\"]]}],\"label\":\"Topic 19\",\"method\":\"update\"}]}],\"shapes\":[{\"line\":{\"color\":\"#CFD8DC\",\"width\":2},\"type\":\"line\",\"x0\":2.594652843475342,\"x1\":2.594652843475342,\"y0\":-7.188564920425415,\"y1\":7.878162312507629},{\"line\":{\"color\":\"#9E9E9E\",\"width\":2},\"type\":\"line\",\"x0\":-10.711761474609375,\"x1\":15.901067161560059,\"y0\":0.3447986960411069,\"y1\":0.3447986960411069}],\"annotations\":[{\"showarrow\":false,\"text\":\"D1\",\"x\":-10.711761474609375,\"y\":0.3447986960411069,\"yshift\":10},{\"showarrow\":false,\"text\":\"D2\",\"x\":2.594652843475342,\"xshift\":10,\"y\":7.878162312507629}]},                        {\"responsive\": true}                    )                };                            </script>        </div>"
      ],
      "text/plain": [
       "Figure({\n",
       "    'data': [{'customdata': array([[0, 'the | it | of | my | and', 88],\n",
       "                                   [1, 'movies | the | movie | is | of', 63],\n",
       "                                   [2, 'to | job | you | in | lpt', 54],\n",
       "                                   [3, 'to | and | he | my | the', 44],\n",
       "                                   [4, 'homemade | taste | milk | pizza | how', 32],\n",
       "                                   [5, 'men | to | id | that | this', 24],\n",
       "                                   [6, 'song | prog | songs | 2023 | is', 22],\n",
       "                                   [7, 'game | games | of | video | one', 22],\n",
       "                                   [8, 'kitten | be | bunny | to | oc', 19],\n",
       "                                   [9, 'my | to | credit | bank | and', 18],\n",
       "                                   [10, 'oc | gummy | of | sea | park', 18],\n",
       "                                   [11, 'wagner | prigozhins | putin | allegiance | lukashenko', 16],\n",
       "                                   [12, 'code | models | llama | model | the', 15],\n",
       "                                   [13, 'and | to | the | book | of', 15],\n",
       "                                   [14, 'ampx200b | the | it | and | cohle', 14],\n",
       "                                   [15, 'ukraine | russian | forces | ukraines | ukrainian', 13],\n",
       "                                   [16, 'rubiales | spanish | hermoso | luis | kiss', 13],\n",
       "                                   [17, 'military | army | nigers | ambassador | 48', 11],\n",
       "                                   [18, 'and | the | to | in | was', 11],\n",
       "                                   [19, 'lunar | rover | power | countries | pragyan', 10]], dtype=object),\n",
       "              'hovertemplate': '<b>Topic %{customdata[0]}</b><br>%{customdata[1]}<br>Size: %{customdata[2]}',\n",
       "              'legendgroup': '',\n",
       "              'marker': {'color': '#B0BEC5',\n",
       "                         'line': {'color': 'DarkSlateGrey', 'width': 2},\n",
       "                         'size': array([88, 63, 54, 44, 32, 24, 22, 22, 19, 18, 18, 16, 15, 15, 14, 13, 13, 11,\n",
       "                                        11, 10], dtype=int64),\n",
       "                         'sizemode': 'area',\n",
       "                         'sizeref': 0.055,\n",
       "                         'symbol': 'circle'},\n",
       "              'mode': 'markers',\n",
       "              'name': '',\n",
       "              'orientation': 'v',\n",
       "              'showlegend': False,\n",
       "              'type': 'scatter',\n",
       "              'x': array([12.227669  , -8.419231  , 11.888798  , 12.832049  , 13.827015  ,\n",
       "                          13.651037  , -8.498494  , -9.314575  , 12.201089  , 12.739563  ,\n",
       "                          12.379264  , -0.69507366, -9.107244  , -8.199213  , 13.371942  ,\n",
       "                          -0.89833564, -0.4496838 , -1.0442376 , 12.766459  , -1.2341615 ],\n",
       "                         dtype=float32),\n",
       "              'xaxis': 'x',\n",
       "              'y': array([ 5.6994967, -1.8181163,  5.9563746,  6.4878144,  5.659604 ,  6.244756 ,\n",
       "                          -1.7377533, -0.9318607,  5.1173873,  6.850576 ,  4.816401 , -5.810573 ,\n",
       "                          -1.1400257, -2.0375857,  5.907195 , -5.3490148, -6.250926 , -4.951913 ,\n",
       "                           6.0019   , -4.742055 ], dtype=float32),\n",
       "              'yaxis': 'y'}],\n",
       "    'layout': {'annotations': [{'showarrow': False,\n",
       "                                'text': 'D1',\n",
       "                                'x': -10.711761474609375,\n",
       "                                'y': 0.3447986960411069,\n",
       "                                'yshift': 10},\n",
       "                               {'showarrow': False,\n",
       "                                'text': 'D2',\n",
       "                                'x': 2.594652843475342,\n",
       "                                'xshift': 10,\n",
       "                                'y': 7.878162312507629}],\n",
       "               'height': 650,\n",
       "               'hoverlabel': {'bgcolor': 'white', 'font': {'family': 'Rockwell', 'size': 16}},\n",
       "               'legend': {'itemsizing': 'constant', 'tracegroupgap': 0},\n",
       "               'margin': {'t': 60},\n",
       "               'shapes': [{'line': {'color': '#CFD8DC', 'width': 2},\n",
       "                           'type': 'line',\n",
       "                           'x0': 2.594652843475342,\n",
       "                           'x1': 2.594652843475342,\n",
       "                           'y0': -7.188564920425415,\n",
       "                           'y1': 7.878162312507629},\n",
       "                          {'line': {'color': '#9E9E9E', 'width': 2},\n",
       "                           'type': 'line',\n",
       "                           'x0': -10.711761474609375,\n",
       "                           'x1': 15.901067161560059,\n",
       "                           'y0': 0.3447986960411069,\n",
       "                           'y1': 0.3447986960411069}],\n",
       "               'sliders': [{'active': 0,\n",
       "                            'pad': {'t': 50},\n",
       "                            'steps': [{'args': [{'marker.color': [['red',\n",
       "                                                                  '#B0BEC5',\n",
       "                                                                  '#B0BEC5',\n",
       "                                                                  '#B0BEC5',\n",
       "                                                                  '#B0BEC5',\n",
       "                                                                  '#B0BEC5',\n",
       "                                                                  '#B0BEC5',\n",
       "                                                                  '#B0BEC5',\n",
       "                                                                  '#B0BEC5',\n",
       "                                                                  '#B0BEC5',\n",
       "                                                                  '#B0BEC5',\n",
       "                                                                  '#B0BEC5',\n",
       "                                                                  '#B0BEC5',\n",
       "                                                                  '#B0BEC5',\n",
       "                                                                  '#B0BEC5',\n",
       "                                                                  '#B0BEC5',\n",
       "                                                                  '#B0BEC5',\n",
       "                                                                  '#B0BEC5',\n",
       "                                                                  '#B0BEC5',\n",
       "                                                                  '#B0BEC5']]}],\n",
       "                                       'label': 'Topic 0',\n",
       "                                       'method': 'update'},\n",
       "                                      {'args': [{'marker.color': [['#B0BEC5',\n",
       "                                                                  'red', '#B0BEC5',\n",
       "                                                                  '#B0BEC5',\n",
       "                                                                  '#B0BEC5',\n",
       "                                                                  '#B0BEC5',\n",
       "                                                                  '#B0BEC5',\n",
       "                                                                  '#B0BEC5',\n",
       "                                                                  '#B0BEC5',\n",
       "                                                                  '#B0BEC5',\n",
       "                                                                  '#B0BEC5',\n",
       "                                                                  '#B0BEC5',\n",
       "                                                                  '#B0BEC5',\n",
       "                                                                  '#B0BEC5',\n",
       "                                                                  '#B0BEC5',\n",
       "                                                                  '#B0BEC5',\n",
       "                                                                  '#B0BEC5',\n",
       "                                                                  '#B0BEC5',\n",
       "                                                                  '#B0BEC5',\n",
       "                                                                  '#B0BEC5']]}],\n",
       "                                       'label': 'Topic 1',\n",
       "                                       'method': 'update'},\n",
       "                                      {'args': [{'marker.color': [['#B0BEC5',\n",
       "                                                                  '#B0BEC5', 'red',\n",
       "                                                                  '#B0BEC5',\n",
       "                                                                  '#B0BEC5',\n",
       "                                                                  '#B0BEC5',\n",
       "                                                                  '#B0BEC5',\n",
       "                                                                  '#B0BEC5',\n",
       "                                                                  '#B0BEC5',\n",
       "                                                                  '#B0BEC5',\n",
       "                                                                  '#B0BEC5',\n",
       "                                                                  '#B0BEC5',\n",
       "                                                                  '#B0BEC5',\n",
       "                                                                  '#B0BEC5',\n",
       "                                                                  '#B0BEC5',\n",
       "                                                                  '#B0BEC5',\n",
       "                                                                  '#B0BEC5',\n",
       "                                                                  '#B0BEC5',\n",
       "                                                                  '#B0BEC5',\n",
       "                                                                  '#B0BEC5']]}],\n",
       "                                       'label': 'Topic 2',\n",
       "                                       'method': 'update'},\n",
       "                                      {'args': [{'marker.color': [['#B0BEC5',\n",
       "                                                                  '#B0BEC5',\n",
       "                                                                  '#B0BEC5', 'red',\n",
       "                                                                  '#B0BEC5',\n",
       "                                                                  '#B0BEC5',\n",
       "                                                                  '#B0BEC5',\n",
       "                                                                  '#B0BEC5',\n",
       "                                                                  '#B0BEC5',\n",
       "                                                                  '#B0BEC5',\n",
       "                                                                  '#B0BEC5',\n",
       "                                                                  '#B0BEC5',\n",
       "                                                                  '#B0BEC5',\n",
       "                                                                  '#B0BEC5',\n",
       "                                                                  '#B0BEC5',\n",
       "                                                                  '#B0BEC5',\n",
       "                                                                  '#B0BEC5',\n",
       "                                                                  '#B0BEC5',\n",
       "                                                                  '#B0BEC5',\n",
       "                                                                  '#B0BEC5']]}],\n",
       "                                       'label': 'Topic 3',\n",
       "                                       'method': 'update'},\n",
       "                                      {'args': [{'marker.color': [['#B0BEC5',\n",
       "                                                                  '#B0BEC5',\n",
       "                                                                  '#B0BEC5',\n",
       "                                                                  '#B0BEC5', 'red',\n",
       "                                                                  '#B0BEC5',\n",
       "                                                                  '#B0BEC5',\n",
       "                                                                  '#B0BEC5',\n",
       "                                                                  '#B0BEC5',\n",
       "                                                                  '#B0BEC5',\n",
       "                                                                  '#B0BEC5',\n",
       "                                                                  '#B0BEC5',\n",
       "                                                                  '#B0BEC5',\n",
       "                                                                  '#B0BEC5',\n",
       "                                                                  '#B0BEC5',\n",
       "                                                                  '#B0BEC5',\n",
       "                                                                  '#B0BEC5',\n",
       "                                                                  '#B0BEC5',\n",
       "                                                                  '#B0BEC5',\n",
       "                                                                  '#B0BEC5']]}],\n",
       "                                       'label': 'Topic 4',\n",
       "                                       'method': 'update'},\n",
       "                                      {'args': [{'marker.color': [['#B0BEC5',\n",
       "                                                                  '#B0BEC5',\n",
       "                                                                  '#B0BEC5',\n",
       "                                                                  '#B0BEC5',\n",
       "                                                                  '#B0BEC5', 'red',\n",
       "                                                                  '#B0BEC5',\n",
       "                                                                  '#B0BEC5',\n",
       "                                                                  '#B0BEC5',\n",
       "                                                                  '#B0BEC5',\n",
       "                                                                  '#B0BEC5',\n",
       "                                                                  '#B0BEC5',\n",
       "                                                                  '#B0BEC5',\n",
       "                                                                  '#B0BEC5',\n",
       "                                                                  '#B0BEC5',\n",
       "                                                                  '#B0BEC5',\n",
       "                                                                  '#B0BEC5',\n",
       "                                                                  '#B0BEC5',\n",
       "                                                                  '#B0BEC5',\n",
       "                                                                  '#B0BEC5']]}],\n",
       "                                       'label': 'Topic 5',\n",
       "                                       'method': 'update'},\n",
       "                                      {'args': [{'marker.color': [['#B0BEC5',\n",
       "                                                                  '#B0BEC5',\n",
       "                                                                  '#B0BEC5',\n",
       "                                                                  '#B0BEC5',\n",
       "                                                                  '#B0BEC5',\n",
       "                                                                  '#B0BEC5', 'red',\n",
       "                                                                  '#B0BEC5',\n",
       "                                                                  '#B0BEC5',\n",
       "                                                                  '#B0BEC5',\n",
       "                                                                  '#B0BEC5',\n",
       "                                                                  '#B0BEC5',\n",
       "                                                                  '#B0BEC5',\n",
       "                                                                  '#B0BEC5',\n",
       "                                                                  '#B0BEC5',\n",
       "                                                                  '#B0BEC5',\n",
       "                                                                  '#B0BEC5',\n",
       "                                                                  '#B0BEC5',\n",
       "                                                                  '#B0BEC5',\n",
       "                                                                  '#B0BEC5']]}],\n",
       "                                       'label': 'Topic 6',\n",
       "                                       'method': 'update'},\n",
       "                                      {'args': [{'marker.color': [['#B0BEC5',\n",
       "                                                                  '#B0BEC5',\n",
       "                                                                  '#B0BEC5',\n",
       "                                                                  '#B0BEC5',\n",
       "                                                                  '#B0BEC5',\n",
       "                                                                  '#B0BEC5',\n",
       "                                                                  '#B0BEC5', 'red',\n",
       "                                                                  '#B0BEC5',\n",
       "                                                                  '#B0BEC5',\n",
       "                                                                  '#B0BEC5',\n",
       "                                                                  '#B0BEC5',\n",
       "                                                                  '#B0BEC5',\n",
       "                                                                  '#B0BEC5',\n",
       "                                                                  '#B0BEC5',\n",
       "                                                                  '#B0BEC5',\n",
       "                                                                  '#B0BEC5',\n",
       "                                                                  '#B0BEC5',\n",
       "                                                                  '#B0BEC5',\n",
       "                                                                  '#B0BEC5']]}],\n",
       "                                       'label': 'Topic 7',\n",
       "                                       'method': 'update'},\n",
       "                                      {'args': [{'marker.color': [['#B0BEC5',\n",
       "                                                                  '#B0BEC5',\n",
       "                                                                  '#B0BEC5',\n",
       "                                                                  '#B0BEC5',\n",
       "                                                                  '#B0BEC5',\n",
       "                                                                  '#B0BEC5',\n",
       "                                                                  '#B0BEC5',\n",
       "                                                                  '#B0BEC5', 'red',\n",
       "                                                                  '#B0BEC5',\n",
       "                                                                  '#B0BEC5',\n",
       "                                                                  '#B0BEC5',\n",
       "                                                                  '#B0BEC5',\n",
       "                                                                  '#B0BEC5',\n",
       "                                                                  '#B0BEC5',\n",
       "                                                                  '#B0BEC5',\n",
       "                                                                  '#B0BEC5',\n",
       "                                                                  '#B0BEC5',\n",
       "                                                                  '#B0BEC5',\n",
       "                                                                  '#B0BEC5']]}],\n",
       "                                       'label': 'Topic 8',\n",
       "                                       'method': 'update'},\n",
       "                                      {'args': [{'marker.color': [['#B0BEC5',\n",
       "                                                                  '#B0BEC5',\n",
       "                                                                  '#B0BEC5',\n",
       "                                                                  '#B0BEC5',\n",
       "                                                                  '#B0BEC5',\n",
       "                                                                  '#B0BEC5',\n",
       "                                                                  '#B0BEC5',\n",
       "                                                                  '#B0BEC5',\n",
       "                                                                  '#B0BEC5', 'red',\n",
       "                                                                  '#B0BEC5',\n",
       "                                                                  '#B0BEC5',\n",
       "                                                                  '#B0BEC5',\n",
       "                                                                  '#B0BEC5',\n",
       "                                                                  '#B0BEC5',\n",
       "                                                                  '#B0BEC5',\n",
       "                                                                  '#B0BEC5',\n",
       "                                                                  '#B0BEC5',\n",
       "                                                                  '#B0BEC5',\n",
       "                                                                  '#B0BEC5']]}],\n",
       "                                       'label': 'Topic 9',\n",
       "                                       'method': 'update'},\n",
       "                                      {'args': [{'marker.color': [['#B0BEC5',\n",
       "                                                                  '#B0BEC5',\n",
       "                                                                  '#B0BEC5',\n",
       "                                                                  '#B0BEC5',\n",
       "                                                                  '#B0BEC5',\n",
       "                                                                  '#B0BEC5',\n",
       "                                                                  '#B0BEC5',\n",
       "                                                                  '#B0BEC5',\n",
       "                                                                  '#B0BEC5',\n",
       "                                                                  '#B0BEC5', 'red',\n",
       "                                                                  '#B0BEC5',\n",
       "                                                                  '#B0BEC5',\n",
       "                                                                  '#B0BEC5',\n",
       "                                                                  '#B0BEC5',\n",
       "                                                                  '#B0BEC5',\n",
       "                                                                  '#B0BEC5',\n",
       "                                                                  '#B0BEC5',\n",
       "                                                                  '#B0BEC5',\n",
       "                                                                  '#B0BEC5']]}],\n",
       "                                       'label': 'Topic 10',\n",
       "                                       'method': 'update'},\n",
       "                                      {'args': [{'marker.color': [['#B0BEC5',\n",
       "                                                                  '#B0BEC5',\n",
       "                                                                  '#B0BEC5',\n",
       "                                                                  '#B0BEC5',\n",
       "                                                                  '#B0BEC5',\n",
       "                                                                  '#B0BEC5',\n",
       "                                                                  '#B0BEC5',\n",
       "                                                                  '#B0BEC5',\n",
       "                                                                  '#B0BEC5',\n",
       "                                                                  '#B0BEC5',\n",
       "                                                                  '#B0BEC5', 'red',\n",
       "                                                                  '#B0BEC5',\n",
       "                                                                  '#B0BEC5',\n",
       "                                                                  '#B0BEC5',\n",
       "                                                                  '#B0BEC5',\n",
       "                                                                  '#B0BEC5',\n",
       "                                                                  '#B0BEC5',\n",
       "                                                                  '#B0BEC5',\n",
       "                                                                  '#B0BEC5']]}],\n",
       "                                       'label': 'Topic 11',\n",
       "                                       'method': 'update'},\n",
       "                                      {'args': [{'marker.color': [['#B0BEC5',\n",
       "                                                                  '#B0BEC5',\n",
       "                                                                  '#B0BEC5',\n",
       "                                                                  '#B0BEC5',\n",
       "                                                                  '#B0BEC5',\n",
       "                                                                  '#B0BEC5',\n",
       "                                                                  '#B0BEC5',\n",
       "                                                                  '#B0BEC5',\n",
       "                                                                  '#B0BEC5',\n",
       "                                                                  '#B0BEC5',\n",
       "                                                                  '#B0BEC5',\n",
       "                                                                  '#B0BEC5', 'red',\n",
       "                                                                  '#B0BEC5',\n",
       "                                                                  '#B0BEC5',\n",
       "                                                                  '#B0BEC5',\n",
       "                                                                  '#B0BEC5',\n",
       "                                                                  '#B0BEC5',\n",
       "                                                                  '#B0BEC5',\n",
       "                                                                  '#B0BEC5']]}],\n",
       "                                       'label': 'Topic 12',\n",
       "                                       'method': 'update'},\n",
       "                                      {'args': [{'marker.color': [['#B0BEC5',\n",
       "                                                                  '#B0BEC5',\n",
       "                                                                  '#B0BEC5',\n",
       "                                                                  '#B0BEC5',\n",
       "                                                                  '#B0BEC5',\n",
       "                                                                  '#B0BEC5',\n",
       "                                                                  '#B0BEC5',\n",
       "                                                                  '#B0BEC5',\n",
       "                                                                  '#B0BEC5',\n",
       "                                                                  '#B0BEC5',\n",
       "                                                                  '#B0BEC5',\n",
       "                                                                  '#B0BEC5',\n",
       "                                                                  '#B0BEC5', 'red',\n",
       "                                                                  '#B0BEC5',\n",
       "                                                                  '#B0BEC5',\n",
       "                                                                  '#B0BEC5',\n",
       "                                                                  '#B0BEC5',\n",
       "                                                                  '#B0BEC5',\n",
       "                                                                  '#B0BEC5']]}],\n",
       "                                       'label': 'Topic 13',\n",
       "                                       'method': 'update'},\n",
       "                                      {'args': [{'marker.color': [['#B0BEC5',\n",
       "                                                                  '#B0BEC5',\n",
       "                                                                  '#B0BEC5',\n",
       "                                                                  '#B0BEC5',\n",
       "                                                                  '#B0BEC5',\n",
       "                                                                  '#B0BEC5',\n",
       "                                                                  '#B0BEC5',\n",
       "                                                                  '#B0BEC5',\n",
       "                                                                  '#B0BEC5',\n",
       "                                                                  '#B0BEC5',\n",
       "                                                                  '#B0BEC5',\n",
       "                                                                  '#B0BEC5',\n",
       "                                                                  '#B0BEC5',\n",
       "                                                                  '#B0BEC5', 'red',\n",
       "                                                                  '#B0BEC5',\n",
       "                                                                  '#B0BEC5',\n",
       "                                                                  '#B0BEC5',\n",
       "                                                                  '#B0BEC5',\n",
       "                                                                  '#B0BEC5']]}],\n",
       "                                       'label': 'Topic 14',\n",
       "                                       'method': 'update'},\n",
       "                                      {'args': [{'marker.color': [['#B0BEC5',\n",
       "                                                                  '#B0BEC5',\n",
       "                                                                  '#B0BEC5',\n",
       "                                                                  '#B0BEC5',\n",
       "                                                                  '#B0BEC5',\n",
       "                                                                  '#B0BEC5',\n",
       "                                                                  '#B0BEC5',\n",
       "                                                                  '#B0BEC5',\n",
       "                                                                  '#B0BEC5',\n",
       "                                                                  '#B0BEC5',\n",
       "                                                                  '#B0BEC5',\n",
       "                                                                  '#B0BEC5',\n",
       "                                                                  '#B0BEC5',\n",
       "                                                                  '#B0BEC5',\n",
       "                                                                  '#B0BEC5', 'red',\n",
       "                                                                  '#B0BEC5',\n",
       "                                                                  '#B0BEC5',\n",
       "                                                                  '#B0BEC5',\n",
       "                                                                  '#B0BEC5']]}],\n",
       "                                       'label': 'Topic 15',\n",
       "                                       'method': 'update'},\n",
       "                                      {'args': [{'marker.color': [['#B0BEC5',\n",
       "                                                                  '#B0BEC5',\n",
       "                                                                  '#B0BEC5',\n",
       "                                                                  '#B0BEC5',\n",
       "                                                                  '#B0BEC5',\n",
       "                                                                  '#B0BEC5',\n",
       "                                                                  '#B0BEC5',\n",
       "                                                                  '#B0BEC5',\n",
       "                                                                  '#B0BEC5',\n",
       "                                                                  '#B0BEC5',\n",
       "                                                                  '#B0BEC5',\n",
       "                                                                  '#B0BEC5',\n",
       "                                                                  '#B0BEC5',\n",
       "                                                                  '#B0BEC5',\n",
       "                                                                  '#B0BEC5',\n",
       "                                                                  '#B0BEC5', 'red',\n",
       "                                                                  '#B0BEC5',\n",
       "                                                                  '#B0BEC5',\n",
       "                                                                  '#B0BEC5']]}],\n",
       "                                       'label': 'Topic 16',\n",
       "                                       'method': 'update'},\n",
       "                                      {'args': [{'marker.color': [['#B0BEC5',\n",
       "                                                                  '#B0BEC5',\n",
       "                                                                  '#B0BEC5',\n",
       "                                                                  '#B0BEC5',\n",
       "                                                                  '#B0BEC5',\n",
       "                                                                  '#B0BEC5',\n",
       "                                                                  '#B0BEC5',\n",
       "                                                                  '#B0BEC5',\n",
       "                                                                  '#B0BEC5',\n",
       "                                                                  '#B0BEC5',\n",
       "                                                                  '#B0BEC5',\n",
       "                                                                  '#B0BEC5',\n",
       "                                                                  '#B0BEC5',\n",
       "                                                                  '#B0BEC5',\n",
       "                                                                  '#B0BEC5',\n",
       "                                                                  '#B0BEC5',\n",
       "                                                                  '#B0BEC5', 'red',\n",
       "                                                                  '#B0BEC5',\n",
       "                                                                  '#B0BEC5']]}],\n",
       "                                       'label': 'Topic 17',\n",
       "                                       'method': 'update'},\n",
       "                                      {'args': [{'marker.color': [['#B0BEC5',\n",
       "                                                                  '#B0BEC5',\n",
       "                                                                  '#B0BEC5',\n",
       "                                                                  '#B0BEC5',\n",
       "                                                                  '#B0BEC5',\n",
       "                                                                  '#B0BEC5',\n",
       "                                                                  '#B0BEC5',\n",
       "                                                                  '#B0BEC5',\n",
       "                                                                  '#B0BEC5',\n",
       "                                                                  '#B0BEC5',\n",
       "                                                                  '#B0BEC5',\n",
       "                                                                  '#B0BEC5',\n",
       "                                                                  '#B0BEC5',\n",
       "                                                                  '#B0BEC5',\n",
       "                                                                  '#B0BEC5',\n",
       "                                                                  '#B0BEC5',\n",
       "                                                                  '#B0BEC5',\n",
       "                                                                  '#B0BEC5', 'red',\n",
       "                                                                  '#B0BEC5']]}],\n",
       "                                       'label': 'Topic 18',\n",
       "                                       'method': 'update'},\n",
       "                                      {'args': [{'marker.color': [['#B0BEC5',\n",
       "                                                                  '#B0BEC5',\n",
       "                                                                  '#B0BEC5',\n",
       "                                                                  '#B0BEC5',\n",
       "                                                                  '#B0BEC5',\n",
       "                                                                  '#B0BEC5',\n",
       "                                                                  '#B0BEC5',\n",
       "                                                                  '#B0BEC5',\n",
       "                                                                  '#B0BEC5',\n",
       "                                                                  '#B0BEC5',\n",
       "                                                                  '#B0BEC5',\n",
       "                                                                  '#B0BEC5',\n",
       "                                                                  '#B0BEC5',\n",
       "                                                                  '#B0BEC5',\n",
       "                                                                  '#B0BEC5',\n",
       "                                                                  '#B0BEC5',\n",
       "                                                                  '#B0BEC5',\n",
       "                                                                  '#B0BEC5',\n",
       "                                                                  '#B0BEC5',\n",
       "                                                                  'red']]}],\n",
       "                                       'label': 'Topic 19',\n",
       "                                       'method': 'update'}]}],\n",
       "               'template': '...',\n",
       "               'title': {'font': {'color': 'Black', 'size': 22},\n",
       "                         'text': '<b>Intertopic Distance Map</b>',\n",
       "                         'x': 0.5,\n",
       "                         'xanchor': 'center',\n",
       "                         'y': 0.95,\n",
       "                         'yanchor': 'top'},\n",
       "               'width': 650,\n",
       "               'xaxis': {'anchor': 'y',\n",
       "                         'domain': [0.0, 1.0],\n",
       "                         'range': [-10.711761474609375, 15.901067161560059],\n",
       "                         'title': {'text': ''},\n",
       "                         'visible': False},\n",
       "               'yaxis': {'anchor': 'x',\n",
       "                         'domain': [0.0, 1.0],\n",
       "                         'range': [-7.188564920425415, 7.878162312507629],\n",
       "                         'title': {'text': ''},\n",
       "                         'visible': False}}\n",
       "})"
      ]
     },
     "execution_count": 124,
     "metadata": {},
     "output_type": "execute_result"
    }
   ],
   "source": [
    "topic_model.visualize_topics()"
   ]
  },
  {
   "cell_type": "code",
   "execution_count": 12,
   "metadata": {},
   "outputs": [
    {
     "ename": "ValueError",
     "evalue": "This BERTopic instance is not fitted yet. Call 'fit' with appropriate arguments before using this estimator.",
     "output_type": "error",
     "traceback": [
      "\u001b[1;31m---------------------------------------------------------------------------\u001b[0m",
      "\u001b[1;31mValueError\u001b[0m                                Traceback (most recent call last)",
      "Cell \u001b[1;32mIn[12], line 1\u001b[0m\n\u001b[1;32m----> 1\u001b[0m topic_model\u001b[39m.\u001b[39;49mvisualize_documents(data)\n",
      "File \u001b[1;32m~\\AppData\\Local\\Packages\\PythonSoftwareFoundation.Python.3.11_qbz5n2kfra8p0\\LocalCache\\local-packages\\Python311\\site-packages\\bertopic\\_bertopic.py:2282\u001b[0m, in \u001b[0;36mBERTopic.visualize_documents\u001b[1;34m(self, docs, topics, embeddings, reduced_embeddings, sample, hide_annotations, hide_document_hover, custom_labels, title, width, height)\u001b[0m\n\u001b[0;32m   2201\u001b[0m \u001b[39mdef\u001b[39;00m \u001b[39mvisualize_documents\u001b[39m(\u001b[39mself\u001b[39m,\n\u001b[0;32m   2202\u001b[0m                         docs: List[\u001b[39mstr\u001b[39m],\n\u001b[0;32m   2203\u001b[0m                         topics: List[\u001b[39mint\u001b[39m] \u001b[39m=\u001b[39m \u001b[39mNone\u001b[39;00m,\n\u001b[1;32m   (...)\u001b[0m\n\u001b[0;32m   2211\u001b[0m                         width: \u001b[39mint\u001b[39m \u001b[39m=\u001b[39m \u001b[39m1200\u001b[39m,\n\u001b[0;32m   2212\u001b[0m                         height: \u001b[39mint\u001b[39m \u001b[39m=\u001b[39m \u001b[39m750\u001b[39m) \u001b[39m-\u001b[39m\u001b[39m>\u001b[39m go\u001b[39m.\u001b[39mFigure:\n\u001b[0;32m   2213\u001b[0m \u001b[39m    \u001b[39m\u001b[39m\"\"\" Visualize documents and their topics in 2D\u001b[39;00m\n\u001b[0;32m   2214\u001b[0m \n\u001b[0;32m   2215\u001b[0m \u001b[39m    Arguments:\u001b[39;00m\n\u001b[1;32m   (...)\u001b[0m\n\u001b[0;32m   2280\u001b[0m \u001b[39m    style=\"width:1000px; height: 800px; border: 0px;\"\"></iframe>\u001b[39;00m\n\u001b[0;32m   2281\u001b[0m \u001b[39m    \"\"\"\u001b[39;00m\n\u001b[1;32m-> 2282\u001b[0m     check_is_fitted(\u001b[39mself\u001b[39;49m)\n\u001b[0;32m   2283\u001b[0m     \u001b[39mreturn\u001b[39;00m plotting\u001b[39m.\u001b[39mvisualize_documents(\u001b[39mself\u001b[39m,\n\u001b[0;32m   2284\u001b[0m                                         docs\u001b[39m=\u001b[39mdocs,\n\u001b[0;32m   2285\u001b[0m                                         topics\u001b[39m=\u001b[39mtopics,\n\u001b[1;32m   (...)\u001b[0m\n\u001b[0;32m   2293\u001b[0m                                         width\u001b[39m=\u001b[39mwidth,\n\u001b[0;32m   2294\u001b[0m                                         height\u001b[39m=\u001b[39mheight)\n",
      "File \u001b[1;32m~\\AppData\\Local\\Packages\\PythonSoftwareFoundation.Python.3.11_qbz5n2kfra8p0\\LocalCache\\local-packages\\Python311\\site-packages\\bertopic\\_utils.py:71\u001b[0m, in \u001b[0;36mcheck_is_fitted\u001b[1;34m(topic_model)\u001b[0m\n\u001b[0;32m     67\u001b[0m msg \u001b[39m=\u001b[39m (\u001b[39m\"\u001b[39m\u001b[39mThis \u001b[39m\u001b[39m%(name)s\u001b[39;00m\u001b[39m instance is not fitted yet. Call \u001b[39m\u001b[39m'\u001b[39m\u001b[39mfit\u001b[39m\u001b[39m'\u001b[39m\u001b[39m with \u001b[39m\u001b[39m\"\u001b[39m\n\u001b[0;32m     68\u001b[0m        \u001b[39m\"\u001b[39m\u001b[39mappropriate arguments before using this estimator.\u001b[39m\u001b[39m\"\u001b[39m)\n\u001b[0;32m     70\u001b[0m \u001b[39mif\u001b[39;00m topic_model\u001b[39m.\u001b[39mtopics_ \u001b[39mis\u001b[39;00m \u001b[39mNone\u001b[39;00m:\n\u001b[1;32m---> 71\u001b[0m     \u001b[39mraise\u001b[39;00m \u001b[39mValueError\u001b[39;00m(msg \u001b[39m%\u001b[39m {\u001b[39m'\u001b[39m\u001b[39mname\u001b[39m\u001b[39m'\u001b[39m: \u001b[39mtype\u001b[39m(topic_model)\u001b[39m.\u001b[39m\u001b[39m__name__\u001b[39m})\n",
      "\u001b[1;31mValueError\u001b[0m: This BERTopic instance is not fitted yet. Call 'fit' with appropriate arguments before using this estimator."
     ]
    }
   ],
   "source": [
    "topic_model.visualize_documents(data)"
   ]
  },
  {
   "cell_type": "code",
   "execution_count": null,
   "metadata": {},
   "outputs": [],
   "source": [
    "test = topic_model.get_document_info(data)\n",
    "testts = test[test['Topic'] == 0]\n",
    "print(testts)"
   ]
  },
  {
   "cell_type": "code",
   "execution_count": 283,
   "metadata": {},
   "outputs": [
    {
     "ename": "TypeError",
     "evalue": "'bool' object is not iterable",
     "output_type": "error",
     "traceback": [
      "\u001b[1;31m---------------------------------------------------------------------------\u001b[0m",
      "\u001b[1;31mTypeError\u001b[0m                                 Traceback (most recent call last)",
      "Cell \u001b[1;32mIn[283], line 1\u001b[0m\n\u001b[1;32m----> 1\u001b[0m topic_model\u001b[39m.\u001b[39;49mvisualize_barchart(data)\n",
      "File \u001b[1;32m~\\AppData\\Local\\Packages\\PythonSoftwareFoundation.Python.3.11_qbz5n2kfra8p0\\LocalCache\\local-packages\\Python311\\site-packages\\bertopic\\_bertopic.py:2860\u001b[0m, in \u001b[0;36mBERTopic.visualize_barchart\u001b[1;34m(self, topics, top_n_topics, n_words, custom_labels, title, width, height)\u001b[0m\n\u001b[0;32m   2828\u001b[0m \u001b[39m\u001b[39m\u001b[39m\"\"\" Visualize a barchart of selected topics\u001b[39;00m\n\u001b[0;32m   2829\u001b[0m \n\u001b[0;32m   2830\u001b[0m \u001b[39mArguments:\u001b[39;00m\n\u001b[1;32m   (...)\u001b[0m\n\u001b[0;32m   2857\u001b[0m \u001b[39m```\u001b[39;00m\n\u001b[0;32m   2858\u001b[0m \u001b[39m\"\"\"\u001b[39;00m\n\u001b[0;32m   2859\u001b[0m check_is_fitted(\u001b[39mself\u001b[39m)\n\u001b[1;32m-> 2860\u001b[0m \u001b[39mreturn\u001b[39;00m plotting\u001b[39m.\u001b[39;49mvisualize_barchart(\u001b[39mself\u001b[39;49m,\n\u001b[0;32m   2861\u001b[0m                                    topics\u001b[39m=\u001b[39;49mtopics,\n\u001b[0;32m   2862\u001b[0m                                    top_n_topics\u001b[39m=\u001b[39;49mtop_n_topics,\n\u001b[0;32m   2863\u001b[0m                                    n_words\u001b[39m=\u001b[39;49mn_words,\n\u001b[0;32m   2864\u001b[0m                                    custom_labels\u001b[39m=\u001b[39;49mcustom_labels,\n\u001b[0;32m   2865\u001b[0m                                    title\u001b[39m=\u001b[39;49mtitle,\n\u001b[0;32m   2866\u001b[0m                                    width\u001b[39m=\u001b[39;49mwidth,\n\u001b[0;32m   2867\u001b[0m                                    height\u001b[39m=\u001b[39;49mheight)\n",
      "File \u001b[1;32m~\\AppData\\Local\\Packages\\PythonSoftwareFoundation.Python.3.11_qbz5n2kfra8p0\\LocalCache\\local-packages\\Python311\\site-packages\\bertopic\\plotting\\_barchart.py:86\u001b[0m, in \u001b[0;36mvisualize_barchart\u001b[1;34m(topic_model, topics, top_n_topics, n_words, custom_labels, title, width, height)\u001b[0m\n\u001b[0;32m     84\u001b[0m column \u001b[39m=\u001b[39m \u001b[39m1\u001b[39m\n\u001b[0;32m     85\u001b[0m \u001b[39mfor\u001b[39;00m topic \u001b[39min\u001b[39;00m topics:\n\u001b[1;32m---> 86\u001b[0m     words \u001b[39m=\u001b[39m [word \u001b[39m+\u001b[39m \u001b[39m\"\u001b[39m\u001b[39m  \u001b[39m\u001b[39m\"\u001b[39m \u001b[39mfor\u001b[39;00m word, _ \u001b[39min\u001b[39;00m topic_model\u001b[39m.\u001b[39mget_topic(topic)][:n_words][::\u001b[39m-\u001b[39m\u001b[39m1\u001b[39m]\n\u001b[0;32m     87\u001b[0m     scores \u001b[39m=\u001b[39m [score \u001b[39mfor\u001b[39;00m _, score \u001b[39min\u001b[39;00m topic_model\u001b[39m.\u001b[39mget_topic(topic)][:n_words][::\u001b[39m-\u001b[39m\u001b[39m1\u001b[39m]\n\u001b[0;32m     89\u001b[0m     fig\u001b[39m.\u001b[39madd_trace(\n\u001b[0;32m     90\u001b[0m         go\u001b[39m.\u001b[39mBar(x\u001b[39m=\u001b[39mscores,\n\u001b[0;32m     91\u001b[0m                y\u001b[39m=\u001b[39mwords,\n\u001b[0;32m     92\u001b[0m                orientation\u001b[39m=\u001b[39m\u001b[39m'\u001b[39m\u001b[39mh\u001b[39m\u001b[39m'\u001b[39m,\n\u001b[0;32m     93\u001b[0m                marker_color\u001b[39m=\u001b[39m\u001b[39mnext\u001b[39m(colors)),\n\u001b[0;32m     94\u001b[0m         row\u001b[39m=\u001b[39mrow, col\u001b[39m=\u001b[39mcolumn)\n",
      "\u001b[1;31mTypeError\u001b[0m: 'bool' object is not iterable"
     ]
    }
   ],
   "source": [
    "topic_model.visualize_barchart(data)"
   ]
  },
  {
   "cell_type": "code",
   "execution_count": 284,
   "metadata": {},
   "outputs": [
    {
     "ename": "IndexError",
     "evalue": "index 20 is out of bounds for axis 0 with size 20",
     "output_type": "error",
     "traceback": [
      "\u001b[1;31m---------------------------------------------------------------------------\u001b[0m",
      "\u001b[1;31mIndexError\u001b[0m                                Traceback (most recent call last)",
      "Cell \u001b[1;32mIn[284], line 1\u001b[0m\n\u001b[1;32m----> 1\u001b[0m topic_model\u001b[39m.\u001b[39;49mvisualize_heatmap(data)\n",
      "File \u001b[1;32m~\\AppData\\Local\\Packages\\PythonSoftwareFoundation.Python.3.11_qbz5n2kfra8p0\\LocalCache\\local-packages\\Python311\\site-packages\\bertopic\\_bertopic.py:2811\u001b[0m, in \u001b[0;36mBERTopic.visualize_heatmap\u001b[1;34m(self, topics, top_n_topics, n_clusters, custom_labels, title, width, height)\u001b[0m\n\u001b[0;32m   2775\u001b[0m \u001b[39m\u001b[39m\u001b[39m\"\"\" Visualize a heatmap of the topic's similarity matrix\u001b[39;00m\n\u001b[0;32m   2776\u001b[0m \n\u001b[0;32m   2777\u001b[0m \u001b[39mBased on the cosine similarity matrix between topic embeddings,\u001b[39;00m\n\u001b[1;32m   (...)\u001b[0m\n\u001b[0;32m   2808\u001b[0m \u001b[39m```\u001b[39;00m\n\u001b[0;32m   2809\u001b[0m \u001b[39m\"\"\"\u001b[39;00m\n\u001b[0;32m   2810\u001b[0m check_is_fitted(\u001b[39mself\u001b[39m)\n\u001b[1;32m-> 2811\u001b[0m \u001b[39mreturn\u001b[39;00m plotting\u001b[39m.\u001b[39;49mvisualize_heatmap(\u001b[39mself\u001b[39;49m,\n\u001b[0;32m   2812\u001b[0m                                   topics\u001b[39m=\u001b[39;49mtopics,\n\u001b[0;32m   2813\u001b[0m                                   top_n_topics\u001b[39m=\u001b[39;49mtop_n_topics,\n\u001b[0;32m   2814\u001b[0m                                   n_clusters\u001b[39m=\u001b[39;49mn_clusters,\n\u001b[0;32m   2815\u001b[0m                                   custom_labels\u001b[39m=\u001b[39;49mcustom_labels,\n\u001b[0;32m   2816\u001b[0m                                   title\u001b[39m=\u001b[39;49mtitle,\n\u001b[0;32m   2817\u001b[0m                                   width\u001b[39m=\u001b[39;49mwidth,\n\u001b[0;32m   2818\u001b[0m                                   height\u001b[39m=\u001b[39;49mheight)\n",
      "File \u001b[1;32m~\\AppData\\Local\\Packages\\PythonSoftwareFoundation.Python.3.11_qbz5n2kfra8p0\\LocalCache\\local-packages\\Python311\\site-packages\\bertopic\\plotting\\_heatmap.py:94\u001b[0m, in \u001b[0;36mvisualize_heatmap\u001b[1;34m(topic_model, topics, top_n_topics, n_clusters, custom_labels, title, width, height)\u001b[0m\n\u001b[0;32m     92\u001b[0m \u001b[39m# Select embeddings\u001b[39;00m\n\u001b[0;32m     93\u001b[0m indices \u001b[39m=\u001b[39m np\u001b[39m.\u001b[39marray([topics\u001b[39m.\u001b[39mindex(topic) \u001b[39mfor\u001b[39;00m topic \u001b[39min\u001b[39;00m sorted_topics])\n\u001b[1;32m---> 94\u001b[0m embeddings \u001b[39m=\u001b[39m embeddings[indices]\n\u001b[0;32m     95\u001b[0m distance_matrix \u001b[39m=\u001b[39m cosine_similarity(embeddings)\n\u001b[0;32m     97\u001b[0m \u001b[39m# Create labels\u001b[39;00m\n",
      "\u001b[1;31mIndexError\u001b[0m: index 20 is out of bounds for axis 0 with size 20"
     ]
    }
   ],
   "source": [
    "topic_model.visualize_heatmap(data)"
   ]
  },
  {
   "cell_type": "code",
   "execution_count": 281,
   "metadata": {},
   "outputs": [
    {
     "ename": "ValueError",
     "evalue": "Mime type rendering requires nbformat>=4.2.0 but it is not installed",
     "output_type": "error",
     "traceback": [
      "\u001b[1;31m---------------------------------------------------------------------------\u001b[0m",
      "\u001b[1;31mValueError\u001b[0m                                Traceback (most recent call last)",
      "File \u001b[1;32m~\\AppData\\Local\\Packages\\PythonSoftwareFoundation.Python.3.11_qbz5n2kfra8p0\\LocalCache\\local-packages\\Python311\\site-packages\\IPython\\core\\formatters.py:922\u001b[0m, in \u001b[0;36mIPythonDisplayFormatter.__call__\u001b[1;34m(self, obj)\u001b[0m\n\u001b[0;32m    920\u001b[0m method \u001b[39m=\u001b[39m get_real_method(obj, \u001b[39mself\u001b[39m\u001b[39m.\u001b[39mprint_method)\n\u001b[0;32m    921\u001b[0m \u001b[39mif\u001b[39;00m method \u001b[39mis\u001b[39;00m \u001b[39mnot\u001b[39;00m \u001b[39mNone\u001b[39;00m:\n\u001b[1;32m--> 922\u001b[0m     method()\n\u001b[0;32m    923\u001b[0m     \u001b[39mreturn\u001b[39;00m \u001b[39mTrue\u001b[39;00m\n",
      "File \u001b[1;32m~\\AppData\\Local\\Packages\\PythonSoftwareFoundation.Python.3.11_qbz5n2kfra8p0\\LocalCache\\local-packages\\Python311\\site-packages\\plotly\\basedatatypes.py:834\u001b[0m, in \u001b[0;36mBaseFigure._ipython_display_\u001b[1;34m(self)\u001b[0m\n\u001b[0;32m    831\u001b[0m \u001b[39mimport\u001b[39;00m \u001b[39mplotly\u001b[39;00m\u001b[39m.\u001b[39;00m\u001b[39mio\u001b[39;00m \u001b[39mas\u001b[39;00m \u001b[39mpio\u001b[39;00m\n\u001b[0;32m    833\u001b[0m \u001b[39mif\u001b[39;00m pio\u001b[39m.\u001b[39mrenderers\u001b[39m.\u001b[39mrender_on_display \u001b[39mand\u001b[39;00m pio\u001b[39m.\u001b[39mrenderers\u001b[39m.\u001b[39mdefault:\n\u001b[1;32m--> 834\u001b[0m     pio\u001b[39m.\u001b[39;49mshow(\u001b[39mself\u001b[39;49m)\n\u001b[0;32m    835\u001b[0m \u001b[39melse\u001b[39;00m:\n\u001b[0;32m    836\u001b[0m     \u001b[39mprint\u001b[39m(\u001b[39mrepr\u001b[39m(\u001b[39mself\u001b[39m))\n",
      "File \u001b[1;32m~\\AppData\\Local\\Packages\\PythonSoftwareFoundation.Python.3.11_qbz5n2kfra8p0\\LocalCache\\local-packages\\Python311\\site-packages\\plotly\\io\\_renderers.py:396\u001b[0m, in \u001b[0;36mshow\u001b[1;34m(fig, renderer, validate, **kwargs)\u001b[0m\n\u001b[0;32m    391\u001b[0m         \u001b[39mraise\u001b[39;00m \u001b[39mValueError\u001b[39;00m(\n\u001b[0;32m    392\u001b[0m             \u001b[39m\"\u001b[39m\u001b[39mMime type rendering requires ipython but it is not installed\u001b[39m\u001b[39m\"\u001b[39m\n\u001b[0;32m    393\u001b[0m         )\n\u001b[0;32m    395\u001b[0m     \u001b[39mif\u001b[39;00m \u001b[39mnot\u001b[39;00m nbformat \u001b[39mor\u001b[39;00m Version(nbformat\u001b[39m.\u001b[39m__version__) \u001b[39m<\u001b[39m Version(\u001b[39m\"\u001b[39m\u001b[39m4.2.0\u001b[39m\u001b[39m\"\u001b[39m):\n\u001b[1;32m--> 396\u001b[0m         \u001b[39mraise\u001b[39;00m \u001b[39mValueError\u001b[39;00m(\n\u001b[0;32m    397\u001b[0m             \u001b[39m\"\u001b[39m\u001b[39mMime type rendering requires nbformat>=4.2.0 but it is not installed\u001b[39m\u001b[39m\"\u001b[39m\n\u001b[0;32m    398\u001b[0m         )\n\u001b[0;32m    400\u001b[0m     ipython_display\u001b[39m.\u001b[39mdisplay(bundle, raw\u001b[39m=\u001b[39m\u001b[39mTrue\u001b[39;00m)\n\u001b[0;32m    402\u001b[0m \u001b[39m# external renderers\u001b[39;00m\n",
      "\u001b[1;31mValueError\u001b[0m: Mime type rendering requires nbformat>=4.2.0 but it is not installed"
     ]
    },
    {
     "data": {
      "application/vnd.plotly.v1+json": {
       "config": {
        "plotlyServerURL": "https://plot.ly"
       },
       "data": [
        {
         "hovertext": "<b>Topic -1</b>:the_to_it_and_of_my_in_that_was_yo",
         "line": {
          "color": "black",
          "width": 1.5
         },
         "mode": "lines+lines",
         "name": "",
         "opacity": 0.1,
         "type": "scatter",
         "x": [
          1,
          2,
          3,
          4,
          5,
          6,
          7,
          8,
          9,
          10
         ],
         "y": [
          0.0380051996093571,
          0.03183177904433123,
          0.0282554988744205,
          0.028080546945671882,
          0.02579796898666678,
          0.02355678314583766,
          0.0225568208716375,
          0.021019625260831988,
          0.020857131104368456,
          0.01995263965921999
         ]
        },
        {
         "hovertext": "<b>Topic 0</b>:the_and_to_he_my_was_me_it_in_that",
         "line": {
          "color": "black",
          "width": 1.5
         },
         "mode": "lines+lines",
         "name": "",
         "opacity": 0.1,
         "type": "scatter",
         "x": [
          1,
          2,
          3,
          4,
          5,
          6,
          7,
          8,
          9,
          10
         ],
         "y": [
          0.03547243821782503,
          0.033371683402074415,
          0.03250454305164623,
          0.028847239737054116,
          0.027965317851022662,
          0.02543291290736425,
          0.023726383616360883,
          0.022770238300969668,
          0.02239614596983445,
          0.022374646517911125
         ]
        },
        {
         "hovertext": "<b>Topic 1</b>:wagner_russian_ukraine_prigozhins_m",
         "line": {
          "color": "black",
          "width": 1.5
         },
         "mode": "lines+lines",
         "name": "",
         "opacity": 0.1,
         "type": "scatter",
         "x": [
          1,
          2,
          3,
          4,
          5,
          6,
          7,
          8,
          9,
          10
         ],
         "y": [
          0.11232281041869227,
          0.08047425958824392,
          0.08047425958824392,
          0.07053335986056665,
          0.0582690584926761,
          0.0582690584926761,
          0.05646366711205996,
          0.05642668788845332,
          0.053649506392162614,
          0.045839657709841275
         ]
        },
        {
         "hovertext": "<b>Topic 2</b>:the_of_and_that_my_to_was_in_but_we",
         "line": {
          "color": "black",
          "width": 1.5
         },
         "mode": "lines+lines",
         "name": "",
         "opacity": 0.1,
         "type": "scatter",
         "x": [
          1,
          2,
          3,
          4,
          5,
          6,
          7,
          8,
          9,
          10
         ],
         "y": [
          0.04324588680910041,
          0.03801388121487045,
          0.030707778003020898,
          0.028465779071300386,
          0.027666787551693547,
          0.02614482995983425,
          0.024312173237801167,
          0.02188784549519265,
          0.02069767527255502,
          0.020077372719535715
         ]
        },
        {
         "hovertext": "<b>Topic 3</b>:homemade_pizza_chicken_with_you_yor",
         "line": {
          "color": "black",
          "width": 1.5
         },
         "mode": "lines+lines",
         "name": "",
         "opacity": 0.1,
         "type": "scatter",
         "x": [
          1,
          2,
          3,
          4,
          5,
          6,
          7,
          8,
          9,
          10
         ],
         "y": [
          0.2384036991587428,
          0.0673084112421366,
          0.06344175979913967,
          0.055649883746504945,
          0.05342476791746897,
          0.05253953266030819,
          0.05253953266030819,
          0.050481308431602444,
          0.050481308431602444,
          0.0481267041867126
         ]
        },
        {
         "hovertext": "<b>Topic 4</b>:movies_movie_is_of_film_the_and_but",
         "line": {
          "color": "black",
          "width": 1.5
         },
         "mode": "lines+lines",
         "name": "",
         "opacity": 0.1,
         "type": "scatter",
         "x": [
          1,
          2,
          3,
          4,
          5,
          6,
          7,
          8,
          9,
          10
         ],
         "y": [
          0.0592685522302695,
          0.048324416863350074,
          0.038432394053148765,
          0.0382456283206222,
          0.03390510109197018,
          0.03338027746565227,
          0.028684248182562648,
          0.027524355368419334,
          0.02697195100073565,
          0.026099448295039542
         ]
        },
        {
         "hovertext": "<b>Topic 5</b>:game_games_the_of_video_is_and_you_",
         "line": {
          "color": "black",
          "width": 1.5
         },
         "mode": "lines+lines",
         "name": "",
         "opacity": 0.1,
         "type": "scatter",
         "x": [
          1,
          2,
          3,
          4,
          5,
          6,
          7,
          8,
          9,
          10
         ],
         "y": [
          0.08002510859410522,
          0.07854922827278736,
          0.043634101404985796,
          0.0379873006114349,
          0.034065513751743534,
          0.030849858610623924,
          0.030825789285799494,
          0.029635892882726608,
          0.028845419505615977,
          0.02761985936287561
         ]
        },
        {
         "hovertext": "<b>Topic 6</b>:be_kitten_oc_to_cats_bunny_food_eat",
         "line": {
          "color": "black",
          "width": 1.5
         },
         "mode": "lines+lines",
         "name": "",
         "opacity": 0.1,
         "type": "scatter",
         "x": [
          1,
          2,
          3,
          4,
          5,
          6,
          7,
          8,
          9,
          10
         ],
         "y": [
          0.050216198211609914,
          0.0498414325421991,
          0.04535571833133391,
          0.0449010361472112,
          0.042672682715642826,
          0.042672682715642826,
          0.03780954197668609,
          0.02865590724422158,
          0.027701361539786574,
          0.027645271414676865
         ]
        },
        {
         "hovertext": "<b>Topic 7</b>:song_prog_songs_is_2023_floyd_pink_",
         "line": {
          "color": "black",
          "width": 1.5
         },
         "mode": "lines+lines",
         "name": "",
         "opacity": 0.1,
         "type": "scatter",
         "x": [
          1,
          2,
          3,
          4,
          5,
          6,
          7,
          8,
          9,
          10
         ],
         "y": [
          0.08053739804115416,
          0.04529107286569056,
          0.04408308019210534,
          0.0386433275907539,
          0.038017787388685345,
          0.03650756912880453,
          0.03507739342096422,
          0.03430053710436936,
          0.030525198463093227,
          0.028921106194007864
         ]
        },
        {
         "hovertext": "<b>Topic 8</b>:maui_us_condemns_eu_israeli_in_mini",
         "line": {
          "color": "black",
          "width": 1.5
         },
         "mode": "lines+lines",
         "name": "",
         "opacity": 0.1,
         "type": "scatter",
         "x": [
          1,
          2,
          3,
          4,
          5,
          6,
          7,
          8,
          9,
          10
         ],
         "y": [
          0.09288634677075583,
          0.0765119466162946,
          0.06534404810826164,
          0.06534404810826164,
          0.06534404810826164,
          0.06058321555081302,
          0.057617124341796215,
          0.057617124341796215,
          0.057617124341796215,
          0.05608037416843781
         ]
        },
        {
         "hovertext": "<b>Topic 9</b>:my_to_the_credit_and_bank_on_have_c",
         "line": {
          "color": "black",
          "width": 1.5
         },
         "mode": "lines+lines",
         "name": "",
         "opacity": 0.1,
         "type": "scatter",
         "x": [
          1,
          2,
          3,
          4,
          5,
          6,
          7,
          8,
          9,
          10
         ],
         "y": [
          0.03819062306095389,
          0.036702058447581766,
          0.03275733080699322,
          0.03274166628880819,
          0.03187436877529447,
          0.028731682690366318,
          0.027004310952029844,
          0.024351306128608034,
          0.023854124758339264,
          0.02341640531696796
         ]
        },
        {
         "hovertext": "<b>Topic 10</b>:accent_you_said_what_it_someone_vo",
         "line": {
          "color": "black",
          "width": 1.5
         },
         "mode": "lines+lines",
         "name": "",
         "opacity": 0.1,
         "type": "scatter",
         "x": [
          1,
          2,
          3,
          4,
          5,
          6,
          7,
          8,
          9,
          10
         ],
         "y": [
          0.07833623975198288,
          0.07596259642632085,
          0.04694024862278119,
          0.04445248389862321,
          0.04085962173585289,
          0.03987182616557975,
          0.036630983968125544,
          0.03180356975691943,
          0.03078103528368421,
          0.03055114341712079
         ]
        },
        {
         "hovertext": "<b>Topic 11</b>:lynn_it_the_was_of_my_that_to_and_",
         "line": {
          "color": "black",
          "width": 1.5
         },
         "mode": "lines+lines",
         "name": "",
         "opacity": 0.1,
         "type": "scatter",
         "x": [
          1,
          2,
          3,
          4,
          5,
          6,
          7,
          8,
          9,
          10
         ],
         "y": [
          0.03721708737036075,
          0.036193252057514246,
          0.036071352060662094,
          0.034372170089480694,
          0.03005741176693219,
          0.029213064729496068,
          0.028052765018088312,
          0.0271190790176249,
          0.02675891940687432,
          0.02647797289827017
         ]
        },
        {
         "hovertext": "<b>Topic 12</b>:oc_park_the_hailstones_dolomites_4",
         "line": {
          "color": "black",
          "width": 1.5
         },
         "mode": "lines+lines",
         "name": "",
         "opacity": 0.1,
         "type": "scatter",
         "x": [
          1,
          2,
          3,
          4,
          5,
          6,
          7,
          8,
          9,
          10
         ],
         "y": [
          0.34749792177239064,
          0.09124994201440707,
          0.0899387131436045,
          0.08651697989753078,
          0.08651697989753078,
          0.08651697989753078,
          0.08651697989753078,
          0.07877716287836657,
          0.07877716287836657,
          0.06972859143122219
         ]
        },
        {
         "hovertext": "<b>Topic 13</b>:code_models_llama_model_the_for_wi",
         "line": {
          "color": "black",
          "width": 1.5
         },
         "mode": "lines+lines",
         "name": "",
         "opacity": 0.1,
         "type": "scatter",
         "x": [
          1,
          2,
          3,
          4,
          5,
          6,
          7,
          8,
          9,
          10
         ],
         "y": [
          0.060630875075254394,
          0.05218471280868726,
          0.045915240162310994,
          0.04152464487904472,
          0.03983371732835158,
          0.03164237624702611,
          0.031333134474472314,
          0.02938355441433021,
          0.02919619770648845,
          0.028604066926505294
         ]
        },
        {
         "hovertext": "<b>Topic 14</b>:rubiales_spanish_hermoso_luis_kiss",
         "line": {
          "color": "black",
          "width": 1.5
         },
         "mode": "lines+lines",
         "name": "",
         "opacity": 0.1,
         "type": "scatter",
         "x": [
          1,
          2,
          3,
          4,
          5,
          6,
          7,
          8,
          9,
          10
         ],
         "y": [
          0.16613810847399701,
          0.15895688620586512,
          0.11750926796023013,
          0.11750926796023013,
          0.10067451896786492,
          0.09172526743612139,
          0.09172526743612139,
          0.09172526743612139,
          0.09172526743612139,
          0.09172526743612139
         ]
        },
        {
         "hovertext": "<b>Topic 15</b>:to_lpt_request_how_fridge_and_it_j",
         "line": {
          "color": "black",
          "width": 1.5
         },
         "mode": "lines+lines",
         "name": "",
         "opacity": 0.1,
         "type": "scatter",
         "x": [
          1,
          2,
          3,
          4,
          5,
          6,
          7,
          8,
          9,
          10
         ],
         "y": [
          0.0428308770879598,
          0.04051055306874872,
          0.039688174098153305,
          0.039535114737448696,
          0.03575781466093889,
          0.03350767262649453,
          0.02788173995006049,
          0.02735577065288991,
          0.026975593748330338,
          0.0268874800603527
         ]
        },
        {
         "hovertext": "<b>Topic 16</b>:and_to_of_the_amy_book_that_in_is_",
         "line": {
          "color": "black",
          "width": 1.5
         },
         "mode": "lines+lines",
         "name": "",
         "opacity": 0.1,
         "type": "scatter",
         "x": [
          1,
          2,
          3,
          4,
          5,
          6,
          7,
          8,
          9,
          10
         ],
         "y": [
          0.03712611503751345,
          0.035112326243328336,
          0.0345469234942383,
          0.03431583665314752,
          0.033753590388604725,
          0.03133348758029667,
          0.030392446921855235,
          0.029980627288413473,
          0.029119575374357273,
          0.027017511045317022
         ]
        }
       ],
       "layout": {
        "height": 500,
        "hoverlabel": {
         "bgcolor": "white",
         "font": {
          "family": "Rockwell",
          "size": 16
         }
        },
        "showlegend": false,
        "template": {
         "data": {
          "bar": [
           {
            "error_x": {
             "color": "#2a3f5f"
            },
            "error_y": {
             "color": "#2a3f5f"
            },
            "marker": {
             "line": {
              "color": "white",
              "width": 0.5
             },
             "pattern": {
              "fillmode": "overlay",
              "size": 10,
              "solidity": 0.2
             }
            },
            "type": "bar"
           }
          ],
          "barpolar": [
           {
            "marker": {
             "line": {
              "color": "white",
              "width": 0.5
             },
             "pattern": {
              "fillmode": "overlay",
              "size": 10,
              "solidity": 0.2
             }
            },
            "type": "barpolar"
           }
          ],
          "carpet": [
           {
            "aaxis": {
             "endlinecolor": "#2a3f5f",
             "gridcolor": "#C8D4E3",
             "linecolor": "#C8D4E3",
             "minorgridcolor": "#C8D4E3",
             "startlinecolor": "#2a3f5f"
            },
            "baxis": {
             "endlinecolor": "#2a3f5f",
             "gridcolor": "#C8D4E3",
             "linecolor": "#C8D4E3",
             "minorgridcolor": "#C8D4E3",
             "startlinecolor": "#2a3f5f"
            },
            "type": "carpet"
           }
          ],
          "choropleth": [
           {
            "colorbar": {
             "outlinewidth": 0,
             "ticks": ""
            },
            "type": "choropleth"
           }
          ],
          "contour": [
           {
            "colorbar": {
             "outlinewidth": 0,
             "ticks": ""
            },
            "colorscale": [
             [
              0,
              "#0d0887"
             ],
             [
              0.1111111111111111,
              "#46039f"
             ],
             [
              0.2222222222222222,
              "#7201a8"
             ],
             [
              0.3333333333333333,
              "#9c179e"
             ],
             [
              0.4444444444444444,
              "#bd3786"
             ],
             [
              0.5555555555555556,
              "#d8576b"
             ],
             [
              0.6666666666666666,
              "#ed7953"
             ],
             [
              0.7777777777777778,
              "#fb9f3a"
             ],
             [
              0.8888888888888888,
              "#fdca26"
             ],
             [
              1,
              "#f0f921"
             ]
            ],
            "type": "contour"
           }
          ],
          "contourcarpet": [
           {
            "colorbar": {
             "outlinewidth": 0,
             "ticks": ""
            },
            "type": "contourcarpet"
           }
          ],
          "heatmap": [
           {
            "colorbar": {
             "outlinewidth": 0,
             "ticks": ""
            },
            "colorscale": [
             [
              0,
              "#0d0887"
             ],
             [
              0.1111111111111111,
              "#46039f"
             ],
             [
              0.2222222222222222,
              "#7201a8"
             ],
             [
              0.3333333333333333,
              "#9c179e"
             ],
             [
              0.4444444444444444,
              "#bd3786"
             ],
             [
              0.5555555555555556,
              "#d8576b"
             ],
             [
              0.6666666666666666,
              "#ed7953"
             ],
             [
              0.7777777777777778,
              "#fb9f3a"
             ],
             [
              0.8888888888888888,
              "#fdca26"
             ],
             [
              1,
              "#f0f921"
             ]
            ],
            "type": "heatmap"
           }
          ],
          "heatmapgl": [
           {
            "colorbar": {
             "outlinewidth": 0,
             "ticks": ""
            },
            "colorscale": [
             [
              0,
              "#0d0887"
             ],
             [
              0.1111111111111111,
              "#46039f"
             ],
             [
              0.2222222222222222,
              "#7201a8"
             ],
             [
              0.3333333333333333,
              "#9c179e"
             ],
             [
              0.4444444444444444,
              "#bd3786"
             ],
             [
              0.5555555555555556,
              "#d8576b"
             ],
             [
              0.6666666666666666,
              "#ed7953"
             ],
             [
              0.7777777777777778,
              "#fb9f3a"
             ],
             [
              0.8888888888888888,
              "#fdca26"
             ],
             [
              1,
              "#f0f921"
             ]
            ],
            "type": "heatmapgl"
           }
          ],
          "histogram": [
           {
            "marker": {
             "pattern": {
              "fillmode": "overlay",
              "size": 10,
              "solidity": 0.2
             }
            },
            "type": "histogram"
           }
          ],
          "histogram2d": [
           {
            "colorbar": {
             "outlinewidth": 0,
             "ticks": ""
            },
            "colorscale": [
             [
              0,
              "#0d0887"
             ],
             [
              0.1111111111111111,
              "#46039f"
             ],
             [
              0.2222222222222222,
              "#7201a8"
             ],
             [
              0.3333333333333333,
              "#9c179e"
             ],
             [
              0.4444444444444444,
              "#bd3786"
             ],
             [
              0.5555555555555556,
              "#d8576b"
             ],
             [
              0.6666666666666666,
              "#ed7953"
             ],
             [
              0.7777777777777778,
              "#fb9f3a"
             ],
             [
              0.8888888888888888,
              "#fdca26"
             ],
             [
              1,
              "#f0f921"
             ]
            ],
            "type": "histogram2d"
           }
          ],
          "histogram2dcontour": [
           {
            "colorbar": {
             "outlinewidth": 0,
             "ticks": ""
            },
            "colorscale": [
             [
              0,
              "#0d0887"
             ],
             [
              0.1111111111111111,
              "#46039f"
             ],
             [
              0.2222222222222222,
              "#7201a8"
             ],
             [
              0.3333333333333333,
              "#9c179e"
             ],
             [
              0.4444444444444444,
              "#bd3786"
             ],
             [
              0.5555555555555556,
              "#d8576b"
             ],
             [
              0.6666666666666666,
              "#ed7953"
             ],
             [
              0.7777777777777778,
              "#fb9f3a"
             ],
             [
              0.8888888888888888,
              "#fdca26"
             ],
             [
              1,
              "#f0f921"
             ]
            ],
            "type": "histogram2dcontour"
           }
          ],
          "mesh3d": [
           {
            "colorbar": {
             "outlinewidth": 0,
             "ticks": ""
            },
            "type": "mesh3d"
           }
          ],
          "parcoords": [
           {
            "line": {
             "colorbar": {
              "outlinewidth": 0,
              "ticks": ""
             }
            },
            "type": "parcoords"
           }
          ],
          "pie": [
           {
            "automargin": true,
            "type": "pie"
           }
          ],
          "scatter": [
           {
            "fillpattern": {
             "fillmode": "overlay",
             "size": 10,
             "solidity": 0.2
            },
            "type": "scatter"
           }
          ],
          "scatter3d": [
           {
            "line": {
             "colorbar": {
              "outlinewidth": 0,
              "ticks": ""
             }
            },
            "marker": {
             "colorbar": {
              "outlinewidth": 0,
              "ticks": ""
             }
            },
            "type": "scatter3d"
           }
          ],
          "scattercarpet": [
           {
            "marker": {
             "colorbar": {
              "outlinewidth": 0,
              "ticks": ""
             }
            },
            "type": "scattercarpet"
           }
          ],
          "scattergeo": [
           {
            "marker": {
             "colorbar": {
              "outlinewidth": 0,
              "ticks": ""
             }
            },
            "type": "scattergeo"
           }
          ],
          "scattergl": [
           {
            "marker": {
             "colorbar": {
              "outlinewidth": 0,
              "ticks": ""
             }
            },
            "type": "scattergl"
           }
          ],
          "scattermapbox": [
           {
            "marker": {
             "colorbar": {
              "outlinewidth": 0,
              "ticks": ""
             }
            },
            "type": "scattermapbox"
           }
          ],
          "scatterpolar": [
           {
            "marker": {
             "colorbar": {
              "outlinewidth": 0,
              "ticks": ""
             }
            },
            "type": "scatterpolar"
           }
          ],
          "scatterpolargl": [
           {
            "marker": {
             "colorbar": {
              "outlinewidth": 0,
              "ticks": ""
             }
            },
            "type": "scatterpolargl"
           }
          ],
          "scatterternary": [
           {
            "marker": {
             "colorbar": {
              "outlinewidth": 0,
              "ticks": ""
             }
            },
            "type": "scatterternary"
           }
          ],
          "surface": [
           {
            "colorbar": {
             "outlinewidth": 0,
             "ticks": ""
            },
            "colorscale": [
             [
              0,
              "#0d0887"
             ],
             [
              0.1111111111111111,
              "#46039f"
             ],
             [
              0.2222222222222222,
              "#7201a8"
             ],
             [
              0.3333333333333333,
              "#9c179e"
             ],
             [
              0.4444444444444444,
              "#bd3786"
             ],
             [
              0.5555555555555556,
              "#d8576b"
             ],
             [
              0.6666666666666666,
              "#ed7953"
             ],
             [
              0.7777777777777778,
              "#fb9f3a"
             ],
             [
              0.8888888888888888,
              "#fdca26"
             ],
             [
              1,
              "#f0f921"
             ]
            ],
            "type": "surface"
           }
          ],
          "table": [
           {
            "cells": {
             "fill": {
              "color": "#EBF0F8"
             },
             "line": {
              "color": "white"
             }
            },
            "header": {
             "fill": {
              "color": "#C8D4E3"
             },
             "line": {
              "color": "white"
             }
            },
            "type": "table"
           }
          ]
         },
         "layout": {
          "annotationdefaults": {
           "arrowcolor": "#2a3f5f",
           "arrowhead": 0,
           "arrowwidth": 1
          },
          "autotypenumbers": "strict",
          "coloraxis": {
           "colorbar": {
            "outlinewidth": 0,
            "ticks": ""
           }
          },
          "colorscale": {
           "diverging": [
            [
             0,
             "#8e0152"
            ],
            [
             0.1,
             "#c51b7d"
            ],
            [
             0.2,
             "#de77ae"
            ],
            [
             0.3,
             "#f1b6da"
            ],
            [
             0.4,
             "#fde0ef"
            ],
            [
             0.5,
             "#f7f7f7"
            ],
            [
             0.6,
             "#e6f5d0"
            ],
            [
             0.7,
             "#b8e186"
            ],
            [
             0.8,
             "#7fbc41"
            ],
            [
             0.9,
             "#4d9221"
            ],
            [
             1,
             "#276419"
            ]
           ],
           "sequential": [
            [
             0,
             "#0d0887"
            ],
            [
             0.1111111111111111,
             "#46039f"
            ],
            [
             0.2222222222222222,
             "#7201a8"
            ],
            [
             0.3333333333333333,
             "#9c179e"
            ],
            [
             0.4444444444444444,
             "#bd3786"
            ],
            [
             0.5555555555555556,
             "#d8576b"
            ],
            [
             0.6666666666666666,
             "#ed7953"
            ],
            [
             0.7777777777777778,
             "#fb9f3a"
            ],
            [
             0.8888888888888888,
             "#fdca26"
            ],
            [
             1,
             "#f0f921"
            ]
           ],
           "sequentialminus": [
            [
             0,
             "#0d0887"
            ],
            [
             0.1111111111111111,
             "#46039f"
            ],
            [
             0.2222222222222222,
             "#7201a8"
            ],
            [
             0.3333333333333333,
             "#9c179e"
            ],
            [
             0.4444444444444444,
             "#bd3786"
            ],
            [
             0.5555555555555556,
             "#d8576b"
            ],
            [
             0.6666666666666666,
             "#ed7953"
            ],
            [
             0.7777777777777778,
             "#fb9f3a"
            ],
            [
             0.8888888888888888,
             "#fdca26"
            ],
            [
             1,
             "#f0f921"
            ]
           ]
          },
          "colorway": [
           "#636efa",
           "#EF553B",
           "#00cc96",
           "#ab63fa",
           "#FFA15A",
           "#19d3f3",
           "#FF6692",
           "#B6E880",
           "#FF97FF",
           "#FECB52"
          ],
          "font": {
           "color": "#2a3f5f"
          },
          "geo": {
           "bgcolor": "white",
           "lakecolor": "white",
           "landcolor": "white",
           "showlakes": true,
           "showland": true,
           "subunitcolor": "#C8D4E3"
          },
          "hoverlabel": {
           "align": "left"
          },
          "hovermode": "closest",
          "mapbox": {
           "style": "light"
          },
          "paper_bgcolor": "white",
          "plot_bgcolor": "white",
          "polar": {
           "angularaxis": {
            "gridcolor": "#EBF0F8",
            "linecolor": "#EBF0F8",
            "ticks": ""
           },
           "bgcolor": "white",
           "radialaxis": {
            "gridcolor": "#EBF0F8",
            "linecolor": "#EBF0F8",
            "ticks": ""
           }
          },
          "scene": {
           "xaxis": {
            "backgroundcolor": "white",
            "gridcolor": "#DFE8F3",
            "gridwidth": 2,
            "linecolor": "#EBF0F8",
            "showbackground": true,
            "ticks": "",
            "zerolinecolor": "#EBF0F8"
           },
           "yaxis": {
            "backgroundcolor": "white",
            "gridcolor": "#DFE8F3",
            "gridwidth": 2,
            "linecolor": "#EBF0F8",
            "showbackground": true,
            "ticks": "",
            "zerolinecolor": "#EBF0F8"
           },
           "zaxis": {
            "backgroundcolor": "white",
            "gridcolor": "#DFE8F3",
            "gridwidth": 2,
            "linecolor": "#EBF0F8",
            "showbackground": true,
            "ticks": "",
            "zerolinecolor": "#EBF0F8"
           }
          },
          "shapedefaults": {
           "line": {
            "color": "#2a3f5f"
           }
          },
          "ternary": {
           "aaxis": {
            "gridcolor": "#DFE8F3",
            "linecolor": "#A2B1C6",
            "ticks": ""
           },
           "baxis": {
            "gridcolor": "#DFE8F3",
            "linecolor": "#A2B1C6",
            "ticks": ""
           },
           "bgcolor": "white",
           "caxis": {
            "gridcolor": "#DFE8F3",
            "linecolor": "#A2B1C6",
            "ticks": ""
           }
          },
          "title": {
           "x": 0.05
          },
          "xaxis": {
           "automargin": true,
           "gridcolor": "#EBF0F8",
           "linecolor": "#EBF0F8",
           "ticks": "",
           "title": {
            "standoff": 15
           },
           "zerolinecolor": "#EBF0F8",
           "zerolinewidth": 2
          },
          "yaxis": {
           "automargin": true,
           "gridcolor": "#EBF0F8",
           "linecolor": "#EBF0F8",
           "ticks": "",
           "title": {
            "standoff": 15
           },
           "zerolinecolor": "#EBF0F8",
           "zerolinewidth": 2
          }
         }
        },
        "title": {
         "font": {
          "color": "Black",
          "size": 22
         },
         "text": "<b>Term score decline per Topic</b>",
         "x": 0.5,
         "xanchor": "center",
         "y": 0.9,
         "yanchor": "top"
        },
        "width": 800,
        "xaxis": {
         "dtick": 2,
         "range": [
          0,
          10
         ],
         "tick0": 1,
         "title": {
          "text": "Term Rank"
         }
        },
        "yaxis": {
         "title": {
          "text": "c-TF-IDF score"
         }
        }
       }
      },
      "text/html": [
       "<div>                        <script type=\"text/javascript\">window.PlotlyConfig = {MathJaxConfig: 'local'};</script>\n",
       "        <script charset=\"utf-8\" src=\"https://cdn.plot.ly/plotly-2.24.1.min.js\"></script>                <div id=\"d5da05c6-4371-4d3c-aca5-1950e85cb984\" class=\"plotly-graph-div\" style=\"height:500px; width:800px;\"></div>            <script type=\"text/javascript\">                                    window.PLOTLYENV=window.PLOTLYENV || {};                                    if (document.getElementById(\"d5da05c6-4371-4d3c-aca5-1950e85cb984\")) {                    Plotly.newPlot(                        \"d5da05c6-4371-4d3c-aca5-1950e85cb984\",                        [{\"hovertext\":\"\\u003cb\\u003eTopic -1\\u003c\\u002fb\\u003e:the_to_it_and_of_my_in_that_was_yo\",\"line\":{\"color\":\"black\",\"width\":1.5},\"mode\":\"lines+lines\",\"name\":\"\",\"opacity\":0.1,\"x\":[1,2,3,4,5,6,7,8,9,10],\"y\":[0.0380051996093571,0.03183177904433123,0.0282554988744205,0.028080546945671882,0.02579796898666678,0.02355678314583766,0.0225568208716375,0.021019625260831988,0.020857131104368456,0.01995263965921999],\"type\":\"scatter\"},{\"hovertext\":\"\\u003cb\\u003eTopic 0\\u003c\\u002fb\\u003e:the_and_to_he_my_was_me_it_in_that\",\"line\":{\"color\":\"black\",\"width\":1.5},\"mode\":\"lines+lines\",\"name\":\"\",\"opacity\":0.1,\"x\":[1,2,3,4,5,6,7,8,9,10],\"y\":[0.03547243821782503,0.033371683402074415,0.03250454305164623,0.028847239737054116,0.027965317851022662,0.02543291290736425,0.023726383616360883,0.022770238300969668,0.02239614596983445,0.022374646517911125],\"type\":\"scatter\"},{\"hovertext\":\"\\u003cb\\u003eTopic 1\\u003c\\u002fb\\u003e:wagner_russian_ukraine_prigozhins_m\",\"line\":{\"color\":\"black\",\"width\":1.5},\"mode\":\"lines+lines\",\"name\":\"\",\"opacity\":0.1,\"x\":[1,2,3,4,5,6,7,8,9,10],\"y\":[0.11232281041869227,0.08047425958824392,0.08047425958824392,0.07053335986056665,0.0582690584926761,0.0582690584926761,0.05646366711205996,0.05642668788845332,0.053649506392162614,0.045839657709841275],\"type\":\"scatter\"},{\"hovertext\":\"\\u003cb\\u003eTopic 2\\u003c\\u002fb\\u003e:the_of_and_that_my_to_was_in_but_we\",\"line\":{\"color\":\"black\",\"width\":1.5},\"mode\":\"lines+lines\",\"name\":\"\",\"opacity\":0.1,\"x\":[1,2,3,4,5,6,7,8,9,10],\"y\":[0.04324588680910041,0.03801388121487045,0.030707778003020898,0.028465779071300386,0.027666787551693547,0.02614482995983425,0.024312173237801167,0.02188784549519265,0.02069767527255502,0.020077372719535715],\"type\":\"scatter\"},{\"hovertext\":\"\\u003cb\\u003eTopic 3\\u003c\\u002fb\\u003e:homemade_pizza_chicken_with_you_yor\",\"line\":{\"color\":\"black\",\"width\":1.5},\"mode\":\"lines+lines\",\"name\":\"\",\"opacity\":0.1,\"x\":[1,2,3,4,5,6,7,8,9,10],\"y\":[0.2384036991587428,0.0673084112421366,0.06344175979913967,0.055649883746504945,0.05342476791746897,0.05253953266030819,0.05253953266030819,0.050481308431602444,0.050481308431602444,0.0481267041867126],\"type\":\"scatter\"},{\"hovertext\":\"\\u003cb\\u003eTopic 4\\u003c\\u002fb\\u003e:movies_movie_is_of_film_the_and_but\",\"line\":{\"color\":\"black\",\"width\":1.5},\"mode\":\"lines+lines\",\"name\":\"\",\"opacity\":0.1,\"x\":[1,2,3,4,5,6,7,8,9,10],\"y\":[0.0592685522302695,0.048324416863350074,0.038432394053148765,0.0382456283206222,0.03390510109197018,0.03338027746565227,0.028684248182562648,0.027524355368419334,0.02697195100073565,0.026099448295039542],\"type\":\"scatter\"},{\"hovertext\":\"\\u003cb\\u003eTopic 5\\u003c\\u002fb\\u003e:game_games_the_of_video_is_and_you_\",\"line\":{\"color\":\"black\",\"width\":1.5},\"mode\":\"lines+lines\",\"name\":\"\",\"opacity\":0.1,\"x\":[1,2,3,4,5,6,7,8,9,10],\"y\":[0.08002510859410522,0.07854922827278736,0.043634101404985796,0.0379873006114349,0.034065513751743534,0.030849858610623924,0.030825789285799494,0.029635892882726608,0.028845419505615977,0.02761985936287561],\"type\":\"scatter\"},{\"hovertext\":\"\\u003cb\\u003eTopic 6\\u003c\\u002fb\\u003e:be_kitten_oc_to_cats_bunny_food_eat\",\"line\":{\"color\":\"black\",\"width\":1.5},\"mode\":\"lines+lines\",\"name\":\"\",\"opacity\":0.1,\"x\":[1,2,3,4,5,6,7,8,9,10],\"y\":[0.050216198211609914,0.0498414325421991,0.04535571833133391,0.0449010361472112,0.042672682715642826,0.042672682715642826,0.03780954197668609,0.02865590724422158,0.027701361539786574,0.027645271414676865],\"type\":\"scatter\"},{\"hovertext\":\"\\u003cb\\u003eTopic 7\\u003c\\u002fb\\u003e:song_prog_songs_is_2023_floyd_pink_\",\"line\":{\"color\":\"black\",\"width\":1.5},\"mode\":\"lines+lines\",\"name\":\"\",\"opacity\":0.1,\"x\":[1,2,3,4,5,6,7,8,9,10],\"y\":[0.08053739804115416,0.04529107286569056,0.04408308019210534,0.0386433275907539,0.038017787388685345,0.03650756912880453,0.03507739342096422,0.03430053710436936,0.030525198463093227,0.028921106194007864],\"type\":\"scatter\"},{\"hovertext\":\"\\u003cb\\u003eTopic 8\\u003c\\u002fb\\u003e:maui_us_condemns_eu_israeli_in_mini\",\"line\":{\"color\":\"black\",\"width\":1.5},\"mode\":\"lines+lines\",\"name\":\"\",\"opacity\":0.1,\"x\":[1,2,3,4,5,6,7,8,9,10],\"y\":[0.09288634677075583,0.0765119466162946,0.06534404810826164,0.06534404810826164,0.06534404810826164,0.06058321555081302,0.057617124341796215,0.057617124341796215,0.057617124341796215,0.05608037416843781],\"type\":\"scatter\"},{\"hovertext\":\"\\u003cb\\u003eTopic 9\\u003c\\u002fb\\u003e:my_to_the_credit_and_bank_on_have_c\",\"line\":{\"color\":\"black\",\"width\":1.5},\"mode\":\"lines+lines\",\"name\":\"\",\"opacity\":0.1,\"x\":[1,2,3,4,5,6,7,8,9,10],\"y\":[0.03819062306095389,0.036702058447581766,0.03275733080699322,0.03274166628880819,0.03187436877529447,0.028731682690366318,0.027004310952029844,0.024351306128608034,0.023854124758339264,0.02341640531696796],\"type\":\"scatter\"},{\"hovertext\":\"\\u003cb\\u003eTopic 10\\u003c\\u002fb\\u003e:accent_you_said_what_it_someone_vo\",\"line\":{\"color\":\"black\",\"width\":1.5},\"mode\":\"lines+lines\",\"name\":\"\",\"opacity\":0.1,\"x\":[1,2,3,4,5,6,7,8,9,10],\"y\":[0.07833623975198288,0.07596259642632085,0.04694024862278119,0.04445248389862321,0.04085962173585289,0.03987182616557975,0.036630983968125544,0.03180356975691943,0.03078103528368421,0.03055114341712079],\"type\":\"scatter\"},{\"hovertext\":\"\\u003cb\\u003eTopic 11\\u003c\\u002fb\\u003e:lynn_it_the_was_of_my_that_to_and_\",\"line\":{\"color\":\"black\",\"width\":1.5},\"mode\":\"lines+lines\",\"name\":\"\",\"opacity\":0.1,\"x\":[1,2,3,4,5,6,7,8,9,10],\"y\":[0.03721708737036075,0.036193252057514246,0.036071352060662094,0.034372170089480694,0.03005741176693219,0.029213064729496068,0.028052765018088312,0.0271190790176249,0.02675891940687432,0.02647797289827017],\"type\":\"scatter\"},{\"hovertext\":\"\\u003cb\\u003eTopic 12\\u003c\\u002fb\\u003e:oc_park_the_hailstones_dolomites_4\",\"line\":{\"color\":\"black\",\"width\":1.5},\"mode\":\"lines+lines\",\"name\":\"\",\"opacity\":0.1,\"x\":[1,2,3,4,5,6,7,8,9,10],\"y\":[0.34749792177239064,0.09124994201440707,0.0899387131436045,0.08651697989753078,0.08651697989753078,0.08651697989753078,0.08651697989753078,0.07877716287836657,0.07877716287836657,0.06972859143122219],\"type\":\"scatter\"},{\"hovertext\":\"\\u003cb\\u003eTopic 13\\u003c\\u002fb\\u003e:code_models_llama_model_the_for_wi\",\"line\":{\"color\":\"black\",\"width\":1.5},\"mode\":\"lines+lines\",\"name\":\"\",\"opacity\":0.1,\"x\":[1,2,3,4,5,6,7,8,9,10],\"y\":[0.060630875075254394,0.05218471280868726,0.045915240162310994,0.04152464487904472,0.03983371732835158,0.03164237624702611,0.031333134474472314,0.02938355441433021,0.02919619770648845,0.028604066926505294],\"type\":\"scatter\"},{\"hovertext\":\"\\u003cb\\u003eTopic 14\\u003c\\u002fb\\u003e:rubiales_spanish_hermoso_luis_kiss\",\"line\":{\"color\":\"black\",\"width\":1.5},\"mode\":\"lines+lines\",\"name\":\"\",\"opacity\":0.1,\"x\":[1,2,3,4,5,6,7,8,9,10],\"y\":[0.16613810847399701,0.15895688620586512,0.11750926796023013,0.11750926796023013,0.10067451896786492,0.09172526743612139,0.09172526743612139,0.09172526743612139,0.09172526743612139,0.09172526743612139],\"type\":\"scatter\"},{\"hovertext\":\"\\u003cb\\u003eTopic 15\\u003c\\u002fb\\u003e:to_lpt_request_how_fridge_and_it_j\",\"line\":{\"color\":\"black\",\"width\":1.5},\"mode\":\"lines+lines\",\"name\":\"\",\"opacity\":0.1,\"x\":[1,2,3,4,5,6,7,8,9,10],\"y\":[0.0428308770879598,0.04051055306874872,0.039688174098153305,0.039535114737448696,0.03575781466093889,0.03350767262649453,0.02788173995006049,0.02735577065288991,0.026975593748330338,0.0268874800603527],\"type\":\"scatter\"},{\"hovertext\":\"\\u003cb\\u003eTopic 16\\u003c\\u002fb\\u003e:and_to_of_the_amy_book_that_in_is_\",\"line\":{\"color\":\"black\",\"width\":1.5},\"mode\":\"lines+lines\",\"name\":\"\",\"opacity\":0.1,\"x\":[1,2,3,4,5,6,7,8,9,10],\"y\":[0.03712611503751345,0.035112326243328336,0.0345469234942383,0.03431583665314752,0.033753590388604725,0.03133348758029667,0.030392446921855235,0.029980627288413473,0.029119575374357273,0.027017511045317022],\"type\":\"scatter\"}],                        {\"template\":{\"data\":{\"barpolar\":[{\"marker\":{\"line\":{\"color\":\"white\",\"width\":0.5},\"pattern\":{\"fillmode\":\"overlay\",\"size\":10,\"solidity\":0.2}},\"type\":\"barpolar\"}],\"bar\":[{\"error_x\":{\"color\":\"#2a3f5f\"},\"error_y\":{\"color\":\"#2a3f5f\"},\"marker\":{\"line\":{\"color\":\"white\",\"width\":0.5},\"pattern\":{\"fillmode\":\"overlay\",\"size\":10,\"solidity\":0.2}},\"type\":\"bar\"}],\"carpet\":[{\"aaxis\":{\"endlinecolor\":\"#2a3f5f\",\"gridcolor\":\"#C8D4E3\",\"linecolor\":\"#C8D4E3\",\"minorgridcolor\":\"#C8D4E3\",\"startlinecolor\":\"#2a3f5f\"},\"baxis\":{\"endlinecolor\":\"#2a3f5f\",\"gridcolor\":\"#C8D4E3\",\"linecolor\":\"#C8D4E3\",\"minorgridcolor\":\"#C8D4E3\",\"startlinecolor\":\"#2a3f5f\"},\"type\":\"carpet\"}],\"choropleth\":[{\"colorbar\":{\"outlinewidth\":0,\"ticks\":\"\"},\"type\":\"choropleth\"}],\"contourcarpet\":[{\"colorbar\":{\"outlinewidth\":0,\"ticks\":\"\"},\"type\":\"contourcarpet\"}],\"contour\":[{\"colorbar\":{\"outlinewidth\":0,\"ticks\":\"\"},\"colorscale\":[[0.0,\"#0d0887\"],[0.1111111111111111,\"#46039f\"],[0.2222222222222222,\"#7201a8\"],[0.3333333333333333,\"#9c179e\"],[0.4444444444444444,\"#bd3786\"],[0.5555555555555556,\"#d8576b\"],[0.6666666666666666,\"#ed7953\"],[0.7777777777777778,\"#fb9f3a\"],[0.8888888888888888,\"#fdca26\"],[1.0,\"#f0f921\"]],\"type\":\"contour\"}],\"heatmapgl\":[{\"colorbar\":{\"outlinewidth\":0,\"ticks\":\"\"},\"colorscale\":[[0.0,\"#0d0887\"],[0.1111111111111111,\"#46039f\"],[0.2222222222222222,\"#7201a8\"],[0.3333333333333333,\"#9c179e\"],[0.4444444444444444,\"#bd3786\"],[0.5555555555555556,\"#d8576b\"],[0.6666666666666666,\"#ed7953\"],[0.7777777777777778,\"#fb9f3a\"],[0.8888888888888888,\"#fdca26\"],[1.0,\"#f0f921\"]],\"type\":\"heatmapgl\"}],\"heatmap\":[{\"colorbar\":{\"outlinewidth\":0,\"ticks\":\"\"},\"colorscale\":[[0.0,\"#0d0887\"],[0.1111111111111111,\"#46039f\"],[0.2222222222222222,\"#7201a8\"],[0.3333333333333333,\"#9c179e\"],[0.4444444444444444,\"#bd3786\"],[0.5555555555555556,\"#d8576b\"],[0.6666666666666666,\"#ed7953\"],[0.7777777777777778,\"#fb9f3a\"],[0.8888888888888888,\"#fdca26\"],[1.0,\"#f0f921\"]],\"type\":\"heatmap\"}],\"histogram2dcontour\":[{\"colorbar\":{\"outlinewidth\":0,\"ticks\":\"\"},\"colorscale\":[[0.0,\"#0d0887\"],[0.1111111111111111,\"#46039f\"],[0.2222222222222222,\"#7201a8\"],[0.3333333333333333,\"#9c179e\"],[0.4444444444444444,\"#bd3786\"],[0.5555555555555556,\"#d8576b\"],[0.6666666666666666,\"#ed7953\"],[0.7777777777777778,\"#fb9f3a\"],[0.8888888888888888,\"#fdca26\"],[1.0,\"#f0f921\"]],\"type\":\"histogram2dcontour\"}],\"histogram2d\":[{\"colorbar\":{\"outlinewidth\":0,\"ticks\":\"\"},\"colorscale\":[[0.0,\"#0d0887\"],[0.1111111111111111,\"#46039f\"],[0.2222222222222222,\"#7201a8\"],[0.3333333333333333,\"#9c179e\"],[0.4444444444444444,\"#bd3786\"],[0.5555555555555556,\"#d8576b\"],[0.6666666666666666,\"#ed7953\"],[0.7777777777777778,\"#fb9f3a\"],[0.8888888888888888,\"#fdca26\"],[1.0,\"#f0f921\"]],\"type\":\"histogram2d\"}],\"histogram\":[{\"marker\":{\"pattern\":{\"fillmode\":\"overlay\",\"size\":10,\"solidity\":0.2}},\"type\":\"histogram\"}],\"mesh3d\":[{\"colorbar\":{\"outlinewidth\":0,\"ticks\":\"\"},\"type\":\"mesh3d\"}],\"parcoords\":[{\"line\":{\"colorbar\":{\"outlinewidth\":0,\"ticks\":\"\"}},\"type\":\"parcoords\"}],\"pie\":[{\"automargin\":true,\"type\":\"pie\"}],\"scatter3d\":[{\"line\":{\"colorbar\":{\"outlinewidth\":0,\"ticks\":\"\"}},\"marker\":{\"colorbar\":{\"outlinewidth\":0,\"ticks\":\"\"}},\"type\":\"scatter3d\"}],\"scattercarpet\":[{\"marker\":{\"colorbar\":{\"outlinewidth\":0,\"ticks\":\"\"}},\"type\":\"scattercarpet\"}],\"scattergeo\":[{\"marker\":{\"colorbar\":{\"outlinewidth\":0,\"ticks\":\"\"}},\"type\":\"scattergeo\"}],\"scattergl\":[{\"marker\":{\"colorbar\":{\"outlinewidth\":0,\"ticks\":\"\"}},\"type\":\"scattergl\"}],\"scattermapbox\":[{\"marker\":{\"colorbar\":{\"outlinewidth\":0,\"ticks\":\"\"}},\"type\":\"scattermapbox\"}],\"scatterpolargl\":[{\"marker\":{\"colorbar\":{\"outlinewidth\":0,\"ticks\":\"\"}},\"type\":\"scatterpolargl\"}],\"scatterpolar\":[{\"marker\":{\"colorbar\":{\"outlinewidth\":0,\"ticks\":\"\"}},\"type\":\"scatterpolar\"}],\"scatter\":[{\"fillpattern\":{\"fillmode\":\"overlay\",\"size\":10,\"solidity\":0.2},\"type\":\"scatter\"}],\"scatterternary\":[{\"marker\":{\"colorbar\":{\"outlinewidth\":0,\"ticks\":\"\"}},\"type\":\"scatterternary\"}],\"surface\":[{\"colorbar\":{\"outlinewidth\":0,\"ticks\":\"\"},\"colorscale\":[[0.0,\"#0d0887\"],[0.1111111111111111,\"#46039f\"],[0.2222222222222222,\"#7201a8\"],[0.3333333333333333,\"#9c179e\"],[0.4444444444444444,\"#bd3786\"],[0.5555555555555556,\"#d8576b\"],[0.6666666666666666,\"#ed7953\"],[0.7777777777777778,\"#fb9f3a\"],[0.8888888888888888,\"#fdca26\"],[1.0,\"#f0f921\"]],\"type\":\"surface\"}],\"table\":[{\"cells\":{\"fill\":{\"color\":\"#EBF0F8\"},\"line\":{\"color\":\"white\"}},\"header\":{\"fill\":{\"color\":\"#C8D4E3\"},\"line\":{\"color\":\"white\"}},\"type\":\"table\"}]},\"layout\":{\"annotationdefaults\":{\"arrowcolor\":\"#2a3f5f\",\"arrowhead\":0,\"arrowwidth\":1},\"autotypenumbers\":\"strict\",\"coloraxis\":{\"colorbar\":{\"outlinewidth\":0,\"ticks\":\"\"}},\"colorscale\":{\"diverging\":[[0,\"#8e0152\"],[0.1,\"#c51b7d\"],[0.2,\"#de77ae\"],[0.3,\"#f1b6da\"],[0.4,\"#fde0ef\"],[0.5,\"#f7f7f7\"],[0.6,\"#e6f5d0\"],[0.7,\"#b8e186\"],[0.8,\"#7fbc41\"],[0.9,\"#4d9221\"],[1,\"#276419\"]],\"sequential\":[[0.0,\"#0d0887\"],[0.1111111111111111,\"#46039f\"],[0.2222222222222222,\"#7201a8\"],[0.3333333333333333,\"#9c179e\"],[0.4444444444444444,\"#bd3786\"],[0.5555555555555556,\"#d8576b\"],[0.6666666666666666,\"#ed7953\"],[0.7777777777777778,\"#fb9f3a\"],[0.8888888888888888,\"#fdca26\"],[1.0,\"#f0f921\"]],\"sequentialminus\":[[0.0,\"#0d0887\"],[0.1111111111111111,\"#46039f\"],[0.2222222222222222,\"#7201a8\"],[0.3333333333333333,\"#9c179e\"],[0.4444444444444444,\"#bd3786\"],[0.5555555555555556,\"#d8576b\"],[0.6666666666666666,\"#ed7953\"],[0.7777777777777778,\"#fb9f3a\"],[0.8888888888888888,\"#fdca26\"],[1.0,\"#f0f921\"]]},\"colorway\":[\"#636efa\",\"#EF553B\",\"#00cc96\",\"#ab63fa\",\"#FFA15A\",\"#19d3f3\",\"#FF6692\",\"#B6E880\",\"#FF97FF\",\"#FECB52\"],\"font\":{\"color\":\"#2a3f5f\"},\"geo\":{\"bgcolor\":\"white\",\"lakecolor\":\"white\",\"landcolor\":\"white\",\"showlakes\":true,\"showland\":true,\"subunitcolor\":\"#C8D4E3\"},\"hoverlabel\":{\"align\":\"left\"},\"hovermode\":\"closest\",\"mapbox\":{\"style\":\"light\"},\"paper_bgcolor\":\"white\",\"plot_bgcolor\":\"white\",\"polar\":{\"angularaxis\":{\"gridcolor\":\"#EBF0F8\",\"linecolor\":\"#EBF0F8\",\"ticks\":\"\"},\"bgcolor\":\"white\",\"radialaxis\":{\"gridcolor\":\"#EBF0F8\",\"linecolor\":\"#EBF0F8\",\"ticks\":\"\"}},\"scene\":{\"xaxis\":{\"backgroundcolor\":\"white\",\"gridcolor\":\"#DFE8F3\",\"gridwidth\":2,\"linecolor\":\"#EBF0F8\",\"showbackground\":true,\"ticks\":\"\",\"zerolinecolor\":\"#EBF0F8\"},\"yaxis\":{\"backgroundcolor\":\"white\",\"gridcolor\":\"#DFE8F3\",\"gridwidth\":2,\"linecolor\":\"#EBF0F8\",\"showbackground\":true,\"ticks\":\"\",\"zerolinecolor\":\"#EBF0F8\"},\"zaxis\":{\"backgroundcolor\":\"white\",\"gridcolor\":\"#DFE8F3\",\"gridwidth\":2,\"linecolor\":\"#EBF0F8\",\"showbackground\":true,\"ticks\":\"\",\"zerolinecolor\":\"#EBF0F8\"}},\"shapedefaults\":{\"line\":{\"color\":\"#2a3f5f\"}},\"ternary\":{\"aaxis\":{\"gridcolor\":\"#DFE8F3\",\"linecolor\":\"#A2B1C6\",\"ticks\":\"\"},\"baxis\":{\"gridcolor\":\"#DFE8F3\",\"linecolor\":\"#A2B1C6\",\"ticks\":\"\"},\"bgcolor\":\"white\",\"caxis\":{\"gridcolor\":\"#DFE8F3\",\"linecolor\":\"#A2B1C6\",\"ticks\":\"\"}},\"title\":{\"x\":0.05},\"xaxis\":{\"automargin\":true,\"gridcolor\":\"#EBF0F8\",\"linecolor\":\"#EBF0F8\",\"ticks\":\"\",\"title\":{\"standoff\":15},\"zerolinecolor\":\"#EBF0F8\",\"zerolinewidth\":2},\"yaxis\":{\"automargin\":true,\"gridcolor\":\"#EBF0F8\",\"linecolor\":\"#EBF0F8\",\"ticks\":\"\",\"title\":{\"standoff\":15},\"zerolinecolor\":\"#EBF0F8\",\"zerolinewidth\":2}}},\"xaxis\":{\"range\":[0,10],\"tick0\":1,\"dtick\":2,\"title\":{\"text\":\"Term Rank\"}},\"title\":{\"font\":{\"size\":22,\"color\":\"Black\"},\"text\":\"\\u003cb\\u003eTerm score decline per Topic\\u003c\\u002fb\\u003e\",\"y\":0.9,\"x\":0.5,\"xanchor\":\"center\",\"yanchor\":\"top\"},\"hoverlabel\":{\"font\":{\"size\":16,\"family\":\"Rockwell\"},\"bgcolor\":\"white\"},\"showlegend\":false,\"width\":800,\"height\":500,\"yaxis\":{\"title\":{\"text\":\"c-TF-IDF score\"}}},                        {\"responsive\": true}                    )                };                            </script>        </div>"
      ],
      "text/plain": [
       "Figure({\n",
       "    'data': [{'hovertext': '<b>Topic -1</b>:the_to_it_and_of_my_in_that_was_yo',\n",
       "              'line': {'color': 'black', 'width': 1.5},\n",
       "              'mode': 'lines+lines',\n",
       "              'name': '',\n",
       "              'opacity': 0.1,\n",
       "              'type': 'scatter',\n",
       "              'x': array([ 1,  2,  3,  4,  5,  6,  7,  8,  9, 10]),\n",
       "              'y': array([0.0380052 , 0.03183178, 0.0282555 , 0.02808055, 0.02579797, 0.02355678,\n",
       "                          0.02255682, 0.02101963, 0.02085713, 0.01995264])},\n",
       "             {'hovertext': '<b>Topic 0</b>:the_and_to_he_my_was_me_it_in_that',\n",
       "              'line': {'color': 'black', 'width': 1.5},\n",
       "              'mode': 'lines+lines',\n",
       "              'name': '',\n",
       "              'opacity': 0.1,\n",
       "              'type': 'scatter',\n",
       "              'x': array([ 1,  2,  3,  4,  5,  6,  7,  8,  9, 10]),\n",
       "              'y': array([0.03547244, 0.03337168, 0.03250454, 0.02884724, 0.02796532, 0.02543291,\n",
       "                          0.02372638, 0.02277024, 0.02239615, 0.02237465])},\n",
       "             {'hovertext': '<b>Topic 1</b>:wagner_russian_ukraine_prigozhins_m',\n",
       "              'line': {'color': 'black', 'width': 1.5},\n",
       "              'mode': 'lines+lines',\n",
       "              'name': '',\n",
       "              'opacity': 0.1,\n",
       "              'type': 'scatter',\n",
       "              'x': array([ 1,  2,  3,  4,  5,  6,  7,  8,  9, 10]),\n",
       "              'y': array([0.11232281, 0.08047426, 0.08047426, 0.07053336, 0.05826906, 0.05826906,\n",
       "                          0.05646367, 0.05642669, 0.05364951, 0.04583966])},\n",
       "             {'hovertext': '<b>Topic 2</b>:the_of_and_that_my_to_was_in_but_we',\n",
       "              'line': {'color': 'black', 'width': 1.5},\n",
       "              'mode': 'lines+lines',\n",
       "              'name': '',\n",
       "              'opacity': 0.1,\n",
       "              'type': 'scatter',\n",
       "              'x': array([ 1,  2,  3,  4,  5,  6,  7,  8,  9, 10]),\n",
       "              'y': array([0.04324589, 0.03801388, 0.03070778, 0.02846578, 0.02766679, 0.02614483,\n",
       "                          0.02431217, 0.02188785, 0.02069768, 0.02007737])},\n",
       "             {'hovertext': '<b>Topic 3</b>:homemade_pizza_chicken_with_you_yor',\n",
       "              'line': {'color': 'black', 'width': 1.5},\n",
       "              'mode': 'lines+lines',\n",
       "              'name': '',\n",
       "              'opacity': 0.1,\n",
       "              'type': 'scatter',\n",
       "              'x': array([ 1,  2,  3,  4,  5,  6,  7,  8,  9, 10]),\n",
       "              'y': array([0.2384037 , 0.06730841, 0.06344176, 0.05564988, 0.05342477, 0.05253953,\n",
       "                          0.05253953, 0.05048131, 0.05048131, 0.0481267 ])},\n",
       "             {'hovertext': '<b>Topic 4</b>:movies_movie_is_of_film_the_and_but',\n",
       "              'line': {'color': 'black', 'width': 1.5},\n",
       "              'mode': 'lines+lines',\n",
       "              'name': '',\n",
       "              'opacity': 0.1,\n",
       "              'type': 'scatter',\n",
       "              'x': array([ 1,  2,  3,  4,  5,  6,  7,  8,  9, 10]),\n",
       "              'y': array([0.05926855, 0.04832442, 0.03843239, 0.03824563, 0.0339051 , 0.03338028,\n",
       "                          0.02868425, 0.02752436, 0.02697195, 0.02609945])},\n",
       "             {'hovertext': '<b>Topic 5</b>:game_games_the_of_video_is_and_you_',\n",
       "              'line': {'color': 'black', 'width': 1.5},\n",
       "              'mode': 'lines+lines',\n",
       "              'name': '',\n",
       "              'opacity': 0.1,\n",
       "              'type': 'scatter',\n",
       "              'x': array([ 1,  2,  3,  4,  5,  6,  7,  8,  9, 10]),\n",
       "              'y': array([0.08002511, 0.07854923, 0.0436341 , 0.0379873 , 0.03406551, 0.03084986,\n",
       "                          0.03082579, 0.02963589, 0.02884542, 0.02761986])},\n",
       "             {'hovertext': '<b>Topic 6</b>:be_kitten_oc_to_cats_bunny_food_eat',\n",
       "              'line': {'color': 'black', 'width': 1.5},\n",
       "              'mode': 'lines+lines',\n",
       "              'name': '',\n",
       "              'opacity': 0.1,\n",
       "              'type': 'scatter',\n",
       "              'x': array([ 1,  2,  3,  4,  5,  6,  7,  8,  9, 10]),\n",
       "              'y': array([0.0502162 , 0.04984143, 0.04535572, 0.04490104, 0.04267268, 0.04267268,\n",
       "                          0.03780954, 0.02865591, 0.02770136, 0.02764527])},\n",
       "             {'hovertext': '<b>Topic 7</b>:song_prog_songs_is_2023_floyd_pink_',\n",
       "              'line': {'color': 'black', 'width': 1.5},\n",
       "              'mode': 'lines+lines',\n",
       "              'name': '',\n",
       "              'opacity': 0.1,\n",
       "              'type': 'scatter',\n",
       "              'x': array([ 1,  2,  3,  4,  5,  6,  7,  8,  9, 10]),\n",
       "              'y': array([0.0805374 , 0.04529107, 0.04408308, 0.03864333, 0.03801779, 0.03650757,\n",
       "                          0.03507739, 0.03430054, 0.0305252 , 0.02892111])},\n",
       "             {'hovertext': '<b>Topic 8</b>:maui_us_condemns_eu_israeli_in_mini',\n",
       "              'line': {'color': 'black', 'width': 1.5},\n",
       "              'mode': 'lines+lines',\n",
       "              'name': '',\n",
       "              'opacity': 0.1,\n",
       "              'type': 'scatter',\n",
       "              'x': array([ 1,  2,  3,  4,  5,  6,  7,  8,  9, 10]),\n",
       "              'y': array([0.09288635, 0.07651195, 0.06534405, 0.06534405, 0.06534405, 0.06058322,\n",
       "                          0.05761712, 0.05761712, 0.05761712, 0.05608037])},\n",
       "             {'hovertext': '<b>Topic 9</b>:my_to_the_credit_and_bank_on_have_c',\n",
       "              'line': {'color': 'black', 'width': 1.5},\n",
       "              'mode': 'lines+lines',\n",
       "              'name': '',\n",
       "              'opacity': 0.1,\n",
       "              'type': 'scatter',\n",
       "              'x': array([ 1,  2,  3,  4,  5,  6,  7,  8,  9, 10]),\n",
       "              'y': array([0.03819062, 0.03670206, 0.03275733, 0.03274167, 0.03187437, 0.02873168,\n",
       "                          0.02700431, 0.02435131, 0.02385412, 0.02341641])},\n",
       "             {'hovertext': '<b>Topic 10</b>:accent_you_said_what_it_someone_vo',\n",
       "              'line': {'color': 'black', 'width': 1.5},\n",
       "              'mode': 'lines+lines',\n",
       "              'name': '',\n",
       "              'opacity': 0.1,\n",
       "              'type': 'scatter',\n",
       "              'x': array([ 1,  2,  3,  4,  5,  6,  7,  8,  9, 10]),\n",
       "              'y': array([0.07833624, 0.0759626 , 0.04694025, 0.04445248, 0.04085962, 0.03987183,\n",
       "                          0.03663098, 0.03180357, 0.03078104, 0.03055114])},\n",
       "             {'hovertext': '<b>Topic 11</b>:lynn_it_the_was_of_my_that_to_and_',\n",
       "              'line': {'color': 'black', 'width': 1.5},\n",
       "              'mode': 'lines+lines',\n",
       "              'name': '',\n",
       "              'opacity': 0.1,\n",
       "              'type': 'scatter',\n",
       "              'x': array([ 1,  2,  3,  4,  5,  6,  7,  8,  9, 10]),\n",
       "              'y': array([0.03721709, 0.03619325, 0.03607135, 0.03437217, 0.03005741, 0.02921306,\n",
       "                          0.02805277, 0.02711908, 0.02675892, 0.02647797])},\n",
       "             {'hovertext': '<b>Topic 12</b>:oc_park_the_hailstones_dolomites_4',\n",
       "              'line': {'color': 'black', 'width': 1.5},\n",
       "              'mode': 'lines+lines',\n",
       "              'name': '',\n",
       "              'opacity': 0.1,\n",
       "              'type': 'scatter',\n",
       "              'x': array([ 1,  2,  3,  4,  5,  6,  7,  8,  9, 10]),\n",
       "              'y': array([0.34749792, 0.09124994, 0.08993871, 0.08651698, 0.08651698, 0.08651698,\n",
       "                          0.08651698, 0.07877716, 0.07877716, 0.06972859])},\n",
       "             {'hovertext': '<b>Topic 13</b>:code_models_llama_model_the_for_wi',\n",
       "              'line': {'color': 'black', 'width': 1.5},\n",
       "              'mode': 'lines+lines',\n",
       "              'name': '',\n",
       "              'opacity': 0.1,\n",
       "              'type': 'scatter',\n",
       "              'x': array([ 1,  2,  3,  4,  5,  6,  7,  8,  9, 10]),\n",
       "              'y': array([0.06063088, 0.05218471, 0.04591524, 0.04152464, 0.03983372, 0.03164238,\n",
       "                          0.03133313, 0.02938355, 0.0291962 , 0.02860407])},\n",
       "             {'hovertext': '<b>Topic 14</b>:rubiales_spanish_hermoso_luis_kiss',\n",
       "              'line': {'color': 'black', 'width': 1.5},\n",
       "              'mode': 'lines+lines',\n",
       "              'name': '',\n",
       "              'opacity': 0.1,\n",
       "              'type': 'scatter',\n",
       "              'x': array([ 1,  2,  3,  4,  5,  6,  7,  8,  9, 10]),\n",
       "              'y': array([0.16613811, 0.15895689, 0.11750927, 0.11750927, 0.10067452, 0.09172527,\n",
       "                          0.09172527, 0.09172527, 0.09172527, 0.09172527])},\n",
       "             {'hovertext': '<b>Topic 15</b>:to_lpt_request_how_fridge_and_it_j',\n",
       "              'line': {'color': 'black', 'width': 1.5},\n",
       "              'mode': 'lines+lines',\n",
       "              'name': '',\n",
       "              'opacity': 0.1,\n",
       "              'type': 'scatter',\n",
       "              'x': array([ 1,  2,  3,  4,  5,  6,  7,  8,  9, 10]),\n",
       "              'y': array([0.04283088, 0.04051055, 0.03968817, 0.03953511, 0.03575781, 0.03350767,\n",
       "                          0.02788174, 0.02735577, 0.02697559, 0.02688748])},\n",
       "             {'hovertext': '<b>Topic 16</b>:and_to_of_the_amy_book_that_in_is_',\n",
       "              'line': {'color': 'black', 'width': 1.5},\n",
       "              'mode': 'lines+lines',\n",
       "              'name': '',\n",
       "              'opacity': 0.1,\n",
       "              'type': 'scatter',\n",
       "              'x': array([ 1,  2,  3,  4,  5,  6,  7,  8,  9, 10]),\n",
       "              'y': array([0.03712612, 0.03511233, 0.03454692, 0.03431584, 0.03375359, 0.03133349,\n",
       "                          0.03039245, 0.02998063, 0.02911958, 0.02701751])}],\n",
       "    'layout': {'height': 500,\n",
       "               'hoverlabel': {'bgcolor': 'white', 'font': {'family': 'Rockwell', 'size': 16}},\n",
       "               'showlegend': False,\n",
       "               'template': '...',\n",
       "               'title': {'font': {'color': 'Black', 'size': 22},\n",
       "                         'text': '<b>Term score decline per Topic</b>',\n",
       "                         'x': 0.5,\n",
       "                         'xanchor': 'center',\n",
       "                         'y': 0.9,\n",
       "                         'yanchor': 'top'},\n",
       "               'width': 800,\n",
       "               'xaxis': {'dtick': 2, 'range': [0, 10], 'tick0': 1, 'title': {'text': 'Term Rank'}},\n",
       "               'yaxis': {'title': {'text': 'c-TF-IDF score'}}}\n",
       "})"
      ]
     },
     "execution_count": 281,
     "metadata": {},
     "output_type": "execute_result"
    }
   ],
   "source": [
    "topic_model.visualize_term_rank(data)"
   ]
  },
  {
   "cell_type": "code",
   "execution_count": null,
   "metadata": {},
   "outputs": [],
   "source": [
    "topic_model.visualize_barchart(data)"
   ]
  },
  {
   "cell_type": "code",
   "execution_count": 32,
   "metadata": {},
   "outputs": [
    {
     "data": {
      "text/plain": [
       "{-1: '-1_the_to_it_and',\n",
       " 0: '0_the_and_to_my',\n",
       " 1: '1_movies_movie_of_is',\n",
       " 2: '2_wagner_russian_ukraine_ukrainian',\n",
       " 3: '3_the_of_and_that',\n",
       " 4: '4_homemade_taste_milk_pizza',\n",
       " 5: '5_oc_bingo_in_the',\n",
       " 6: '6_game_games_the_of',\n",
       " 7: '7_oc_be_kitten_to',\n",
       " 8: '8_the_lynn_it_was',\n",
       " 9: '9_song_prog_songs_is',\n",
       " 10: '10_my_to_credit_and',\n",
       " 11: '11_and_the_to_of',\n",
       " 12: '12_rubiales_spanish_luis_hermoso',\n",
       " 13: '13_accent_you_someone_it',\n",
       " 14: '14_to_how_lpt_request',\n",
       " 15: '15_code_models_llama_model',\n",
       " 16: '16_arrested_leaker_starfield_government'}"
      ]
     },
     "execution_count": 32,
     "metadata": {},
     "output_type": "execute_result"
    }
   ],
   "source": [
    "topic_model.topic_labels_"
   ]
  },
  {
   "cell_type": "code",
   "execution_count": null,
   "metadata": {},
   "outputs": [],
   "source": [
    "similarTopics, similarity = topic_model.find_topics(\"art\")\n",
    "test[test['Topic'] == similarTopics[0]]"
   ]
  },
  {
   "cell_type": "code",
   "execution_count": 154,
   "metadata": {},
   "outputs": [
    {
     "ename": "TypeError",
     "evalue": "BERTopic.get_topic_tree() missing 1 required positional argument: 'hier_topics'",
     "output_type": "error",
     "traceback": [
      "\u001b[1;31m---------------------------------------------------------------------------\u001b[0m",
      "\u001b[1;31mTypeError\u001b[0m                                 Traceback (most recent call last)",
      "Cell \u001b[1;32mIn[154], line 2\u001b[0m\n\u001b[0;32m      1\u001b[0m \u001b[39m#test[test[\"Topic\"] == 2]['Document'].tolist()\u001b[39;00m\n\u001b[1;32m----> 2\u001b[0m topic_model\u001b[39m.\u001b[39;49mget_topic_tree()\n",
      "\u001b[1;31mTypeError\u001b[0m: BERTopic.get_topic_tree() missing 1 required positional argument: 'hier_topics'"
     ]
    }
   ],
   "source": [
    "#test[test[\"Topic\"] == 2]['Document'].tolist()\n",
    "topic_model.get_topic_tree()"
   ]
  },
  {
   "cell_type": "code",
   "execution_count": null,
   "metadata": {},
   "outputs": [
    {
     "data": {
      "text/plain": [
       "978"
      ]
     },
     "execution_count": 13,
     "metadata": {},
     "output_type": "execute_result"
    }
   ],
   "source": [
    "test2 = test.drop('Representative_Docs', axis=1)\n",
    "test2 = test2.drop('Representation', axis=1)\n",
    "test2.to_sql('test2', con)"
   ]
  }
 ],
 "metadata": {
  "kernelspec": {
   "display_name": "Python 3",
   "language": "python",
   "name": "python3"
  },
  "language_info": {
   "codemirror_mode": {
    "name": "ipython",
    "version": 3
   },
   "file_extension": ".py",
   "mimetype": "text/x-python",
   "name": "python",
   "nbconvert_exporter": "python",
   "pygments_lexer": "ipython3",
   "version": "3.11.4"
  },
  "orig_nbformat": 4
 },
 "nbformat": 4,
 "nbformat_minor": 2
}
