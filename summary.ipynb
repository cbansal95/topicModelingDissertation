{
 "cells": [
  {
   "cell_type": "code",
   "execution_count": 2,
   "metadata": {},
   "outputs": [
    {
     "name": "stdout",
     "output_type": "stream",
     "text": [
      "(4, 'Any word on the lighthouse?\\nThe lighthouse is one of my favourite places in the city. I thought they were smart to close access during covid, but as far as I know it’s still closed. Does anyone have any info as to when it might reopen, or if it actually is and they just haven’t updated their socials?', -1, '-1_the_to_and_in', 'the - to - and - in - of - it - is - but - anyone - for', 0.27726747688612885, 0)\n"
     ]
    }
   ],
   "source": [
    "import sqlite3\n",
    "#extracting and preparing text from db\n",
    "con = sqlite3.connect(\"database.db\")\n",
    "cur = con.cursor()\n",
    "postsReq = cur.execute(\"SELECT * from test2\")\n",
    "postsRaw=postsReq.fetchall()\n",
    "print(postsRaw[4])"
   ]
  },
  {
   "cell_type": "code",
   "execution_count": null,
   "metadata": {},
   "outputs": [],
   "source": [
    "topic = 1\n",
    "prompt = \"Here is a list of posts from a subreddit around a topic: \\n\"\n",
    "for x in postsRaw:\n",
    "    if(x[2] == topic):\n",
    "        prompt+='Post: ' + x[1]\n",
    "        prompt+='\\n\\n'\n",
    "        #prompt = prompt.join(x[1])\n",
    "#create corpus\n",
    "prompt+= \"Create a summary for the posts\"\n",
    "print(prompt)"
   ]
  },
  {
   "cell_type": "code",
   "execution_count": null,
   "metadata": {},
   "outputs": [],
   "source": [
    "%pip install transformers datasets evaluate rouge_score\n",
    "from transformers import pipeline\n",
    "classifier = pipeline(\"summarization\")"
   ]
  }
 ],
 "metadata": {
  "kernelspec": {
   "display_name": "Python 3",
   "language": "python",
   "name": "python3"
  },
  "language_info": {
   "codemirror_mode": {
    "name": "ipython",
    "version": 3
   },
   "file_extension": ".py",
   "mimetype": "text/x-python",
   "name": "python",
   "nbconvert_exporter": "python",
   "pygments_lexer": "ipython3",
   "version": "3.11.4"
  },
  "orig_nbformat": 4
 },
 "nbformat": 4,
 "nbformat_minor": 2
}
